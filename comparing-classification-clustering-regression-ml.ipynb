{
 "cells": [
  {
   "cell_type": "markdown",
   "execution_count": null,
   "metadata": {
    "_uuid": "a12bec911d641ed4292a6f7c303be8ee7061b5a0"
   },
   "source": [
    "It is the kernel that I have tried and compiled from the courses of [Dr. Şadi Evren Şeker](https://www.udemy.com/user/sadievrenseker/) (Language of the courses is Turkish: [Python ile Makine Öğrenmesi](https://www.udemy.com/makine-ogrenmesi/)), which is has more than 5 courses on Udemy.\n",
    "\n",
    "\n",
    "\n",
    "# Content\n",
    "\n",
    "## Comparing Classification Methods LR-KNN-SVM-NB-RF\n",
    "\n",
    "* [Logistic Regression Classification](#1.)\n",
    "* [K-Nearest Neighbour (KNN) Classification](#2.)\n",
    "* [SVM Classification](#3.)\n",
    "* [Naive Bayes Classification](#4.)\n",
    "* [Decision Tree Classification](#5.)\n",
    "* [Random Forest Classification](#6.)\n",
    "\n",
    "![](https://iili.io/JGe6Ss.png)\n",
    "\n",
    "\n",
    "## Comparing Clustering Methods K-Means-Hierarchical\n",
    "\n",
    "* [K-Means Clustering](#7.)\n",
    "* [Hierarchical Clustering](#8.)\n",
    "\n",
    "![](https://iili.io/JGebi7.png)\n",
    "\n",
    "\n",
    "## Comparing Regression Methods (MLR-PR-SVR-DT-RF)\n",
    "\n",
    "* [Linear Regression](#9.)\n",
    "* [Polynomial Regression](#10.)\n",
    "* [Support Vector Regression , Scaling](#11.)\n",
    "* [Decision Tree](#12.)\n",
    "* [Random Forest](#13.)\n",
    "\n",
    "\n",
    "![](https://iili.io/JGkfWB.png)\n"
   ]
  },
  {
   "cell_type": "code",
   "execution_count": 1,
   "metadata": {
    "_cell_guid": "b1076dfc-b9ad-4769-8c92-a6c4dae69d19",
    "_uuid": "8f2839f25d086af736a60e9eeb907d3b93b6e0e5"
   },
   "outputs": [],
   "source": [
    "#1. kutuphaneler\n",
    "import numpy as np\n",
    "import matplotlib.pyplot as plt\n",
    "import pandas as pd\n",
    "from sklearn.metrics import confusion_matrix\n",
    "from sklearn.datasets import load_iris\n"
   ]
  },
  {
   "cell_type": "code",
   "execution_count": 2,
   "metadata": {
    "_uuid": "d24b37570fa55323b214fb225d1102b31197605f"
   },
   "outputs": [
    {
     "name": "stdout",
     "output_type": "stream",
     "text": [
      "   Id  SepalLengthCm     ...       PetalWidthCm      Species\n",
      "0   1            5.1     ...                0.2  Iris-setosa\n",
      "1   2            4.9     ...                0.2  Iris-setosa\n",
      "2   3            4.7     ...                0.2  Iris-setosa\n",
      "3   4            4.6     ...                0.2  Iris-setosa\n",
      "4   5            5.0     ...                0.2  Iris-setosa\n",
      "\n",
      "[5 rows x 6 columns]\n",
      "[[5.1 3.5 1.4 0.2]\n",
      " [4.9 3.  1.4 0.2]\n",
      " [4.7 3.2 1.3 0.2]\n",
      " [4.6 3.1 1.5 0.2]\n",
      " [5.  3.6 1.4 0.2]]\n",
      "['Iris-setosa' 'Iris-setosa' 'Iris-setosa' 'Iris-setosa' 'Iris-setosa']\n"
     ]
    },
    {
     "name": "stderr",
     "output_type": "stream",
     "text": [
      "/opt/conda/lib/python3.6/site-packages/sklearn/cross_validation.py:41: DeprecationWarning: This module was deprecated in version 0.18 in favor of the model_selection module into which all the refactored classes and functions are moved. Also note that the interface of the new CV iterators are different from that of this module. This module will be removed in 0.20.\n",
      "  \"This module will be removed in 0.20.\", DeprecationWarning)\n"
     ]
    }
   ],
   "source": [
    "#2. Veri Onisleme\n",
    "#2.1. Veri Yukleme\n",
    "veriler = pd.read_csv('../input/iris/Iris.csv')\n",
    "print(veriler.head())\n",
    "\n",
    "\n",
    "x = veriler.iloc[:,1:5].values #bağımsız değişkenler\n",
    "#y = veriler.iloc[:,5:].values #bağımlı değişken\n",
    "y = veriler.Species.values\n",
    "print(x[:5])\n",
    "print(y[:5])\n",
    "\n",
    "#verilerin egitim ve test icin bolunmesi\n",
    "from sklearn.cross_validation import train_test_split\n",
    "x_train, x_test,y_train,y_test = train_test_split(x,y,test_size=0.33, random_state=0)\n",
    "\n",
    "#verilerin olceklenmesi\n",
    "from sklearn.preprocessing import StandardScaler\n",
    "\n",
    "sc = StandardScaler()\n",
    "X_train = sc.fit_transform(x_train)\n",
    "X_test = sc.transform(x_test)"
   ]
  },
  {
   "cell_type": "markdown",
   "execution_count": null,
   "metadata": {
    "_cell_guid": "79c7e3d0-c299-4dcb-8224-4455121ee9b0",
    "_uuid": "d629ff2d2480ee46fbb7e2d37f6b5fab8052498a",
    "collapsed": true
   },
   "source": [
    "# Comparing Classification Methods LR-KNN-SVM-NB-RF\n",
    "\n",
    "\n",
    "<a id=\"1.\"></a> \n",
    "# Logistic Regression Classification"
   ]
  },
  {
   "cell_type": "code",
   "execution_count": 3,
   "metadata": {
    "_uuid": "067abd37f1690f6cff3041b14d0f0d3b2f783f0e"
   },
   "outputs": [
    {
     "data": {
      "image/png": "[encoded data removed]",
      "text/plain": [
       "<Figure size 360x360 with 2 Axes>"
      ]
     },
     "metadata": {
      "needs_background": "light"
     },
     "output_type": "display_data"
    }
   ],
   "source": [
    "# 1. Logistic Regression\n",
    "from sklearn.linear_model import LogisticRegression\n",
    "logr = LogisticRegression(random_state=0)\n",
    "logr.fit(X_train,y_train) #egitim\n",
    "\n",
    "y_pred = logr.predict(X_test) #tahmin\n",
    "#print(y_pred)\n",
    "#print(y_test)\n",
    "\n",
    "#karmasiklik matrisi\n",
    "cm = confusion_matrix(y_test,y_pred)\n",
    "#print('LR')\n",
    "# %% cm visualization\n",
    "import seaborn as sns\n",
    "f, ax = plt.subplots(figsize =(5,5))\n",
    "sns.heatmap(cm,annot = True,linewidths=0.5,linecolor=\"red\",fmt = \".0f\",ax=ax)\n",
    "plt.xlabel(\"y_pred\")\n",
    "plt.ylabel(\"y_true\")\n",
    "plt.show()"
   ]
  },
  {
   "cell_type": "markdown",
   "execution_count": null,
   "metadata": {
    "_uuid": "9efade0de23fff6f5cf5cb1ed842b9969b81fa83"
   },
   "source": [
    "\n",
    "<a id=\"2.\"></a> \n",
    "# K-Nearest Neighbour (KNN) Classification"
   ]
  },
  {
   "cell_type": "code",
   "execution_count": 4,
   "metadata": {
    "_uuid": "6fc2ca5f1b616493a65b5bc1ab5533659fb0308c"
   },
   "outputs": [
    {
     "name": "stdout",
     "output_type": "stream",
     "text": [
      "KNN\n"
     ]
    },
    {
     "data": {
      "image/png": "[encoded data removed]",
      "text/plain": [
       "<Figure size 360x360 with 2 Axes>"
      ]
     },
     "metadata": {
      "needs_background": "light"
     },
     "output_type": "display_data"
    }
   ],
   "source": [
    "from sklearn.neighbors import KNeighborsClassifier\n",
    "\n",
    "knn = KNeighborsClassifier(n_neighbors=1, metric='minkowski')\n",
    "knn.fit(X_train,y_train)\n",
    "\n",
    "y_pred = knn.predict(X_test)\n",
    "\n",
    "cm = confusion_matrix(y_test,y_pred)\n",
    "print('KNN')\n",
    "#print(cm)\n",
    "import seaborn as sns\n",
    "f, ax = plt.subplots(figsize =(5,5))\n",
    "sns.heatmap(cm,annot = True,linewidths=0.5,linecolor=\"red\",fmt = \".0f\",ax=ax)\n",
    "plt.xlabel(\"y_pred\")\n",
    "plt.ylabel(\"y_true\")\n",
    "plt.show()"
   ]
  },
  {
   "cell_type": "markdown",
   "execution_count": null,
   "metadata": {
    "_uuid": "8013dede0f9324ea3a846317bd2844797674d17f"
   },
   "source": [
    "\n",
    "<a id=\"3.\"></a> \n",
    "# SVM Classification"
   ]
  },
  {
   "cell_type": "code",
   "execution_count": 5,
   "metadata": {
    "_uuid": "18efbdf138ae357394582738e4adcbe62863579b"
   },
   "outputs": [
    {
     "name": "stdout",
     "output_type": "stream",
     "text": [
      "SVC\n"
     ]
    },
    {
     "data": {
      "image/png": "[encoded data removed]",
      "text/plain": [
       "<Figure size 360x360 with 2 Axes>"
      ]
     },
     "metadata": {
      "needs_background": "light"
     },
     "output_type": "display_data"
    }
   ],
   "source": [
    "# 3. SVC (SVM classifier)\n",
    "from sklearn.svm import SVC\n",
    "svc = SVC(kernel='poly')\n",
    "svc.fit(X_train,y_train)\n",
    "\n",
    "y_pred = svc.predict(X_test)\n",
    "\n",
    "cm = confusion_matrix(y_test,y_pred)\n",
    "print('SVC')\n",
    "#print(cm)\n",
    "import seaborn as sns\n",
    "f, ax = plt.subplots(figsize =(5,5))\n",
    "sns.heatmap(cm,annot = True,linewidths=0.5,linecolor=\"red\",fmt = \".0f\",ax=ax)\n",
    "plt.xlabel(\"y_pred\")\n",
    "plt.ylabel(\"y_true\")\n",
    "plt.show()"
   ]
  },
  {
   "cell_type": "markdown",
   "execution_count": null,
   "metadata": {
    "_uuid": "6ea11ff10a1ba562fd9ff2376772331c5106c2eb"
   },
   "source": [
    "\n",
    "<a id=\"4.\"></a> \n",
    "# Naive Bayes Classification"
   ]
  },
  {
   "cell_type": "code",
   "execution_count": 6,
   "metadata": {
    "_uuid": "51328a34373b73c627777b970a48c8220f29bffd"
   },
   "outputs": [
    {
     "name": "stdout",
     "output_type": "stream",
     "text": [
      "GNB\n"
     ]
    },
    {
     "data": {
      "image/png": "[encoded data removed]",
      "text/plain": [
       "<Figure size 360x360 with 2 Axes>"
      ]
     },
     "metadata": {
      "needs_background": "light"
     },
     "output_type": "display_data"
    }
   ],
   "source": [
    "# 4. Naive Bayes Classification\n",
    "from sklearn.naive_bayes import GaussianNB\n",
    "gnb = GaussianNB()\n",
    "gnb.fit(X_train, y_train)\n",
    "\n",
    "y_pred = gnb.predict(X_test)\n",
    "\n",
    "cm = confusion_matrix(y_test,y_pred)\n",
    "print('GNB')\n",
    "#print(cm)\n",
    "import seaborn as sns\n",
    "f, ax = plt.subplots(figsize =(5,5))\n",
    "sns.heatmap(cm,annot = True,linewidths=0.5,linecolor=\"red\",fmt = \".0f\",ax=ax)\n",
    "plt.xlabel(\"y_pred\")\n",
    "plt.ylabel(\"y_true\")\n",
    "plt.show()"
   ]
  },
  {
   "cell_type": "markdown",
   "execution_count": null,
   "metadata": {
    "_uuid": "1e295fa434cb03fe879f9a4cf55aa2ee86f4d3dc"
   },
   "source": [
    "\n",
    "<a id=\"5.\"></a> \n",
    "# Decision Tree Classification"
   ]
  },
  {
   "cell_type": "code",
   "execution_count": 7,
   "metadata": {
    "_uuid": "418969c939200079f921448926e1dfd37c0eb502"
   },
   "outputs": [
    {
     "name": "stdout",
     "output_type": "stream",
     "text": [
      "DTC\n"
     ]
    },
    {
     "data": {
      "image/png": "[encoded data removed]",
      "text/plain": [
       "<Figure size 360x360 with 2 Axes>"
      ]
     },
     "metadata": {
      "needs_background": "light"
     },
     "output_type": "display_data"
    }
   ],
   "source": [
    "# 5. Decision Tree Classification\n",
    "from sklearn.tree import DecisionTreeClassifier\n",
    "dtc = DecisionTreeClassifier(criterion = 'entropy')\n",
    "\n",
    "dtc.fit(X_train,y_train)\n",
    "y_pred = dtc.predict(X_test)\n",
    "\n",
    "cm = confusion_matrix(y_test,y_pred)\n",
    "print('DTC')\n",
    "#print(cm)\n",
    "import seaborn as sns\n",
    "f, ax = plt.subplots(figsize =(5,5))\n",
    "sns.heatmap(cm,annot = True,linewidths=0.5,linecolor=\"red\",fmt = \".0f\",ax=ax)\n",
    "plt.xlabel(\"y_pred\")\n",
    "plt.ylabel(\"y_true\")\n",
    "plt.show()"
   ]
  },
  {
   "cell_type": "markdown",
   "execution_count": null,
   "metadata": {
    "_uuid": "72c6e52d91b787d4fc9293ce01ea8baa3a160e72"
   },
   "source": [
    "\n",
    "<a id=\"6.\"></a> \n",
    "# Random Forest Classification"
   ]
  },
  {
   "cell_type": "code",
   "execution_count": 8,
   "metadata": {
    "_uuid": "c172506731073027e2a622e9245c6a6aab542c84"
   },
   "outputs": [
    {
     "name": "stderr",
     "output_type": "stream",
     "text": [
      "/opt/conda/lib/python3.6/site-packages/sklearn/ensemble/weight_boosting.py:29: DeprecationWarning: numpy.core.umath_tests is an internal NumPy module and should not be imported. It will be removed in a future NumPy release.\n",
      "  from numpy.core.umath_tests import inner1d\n"
     ]
    },
    {
     "name": "stdout",
     "output_type": "stream",
     "text": [
      "RFC\n"
     ]
    },
    {
     "data": {
      "image/png": "[encoded data removed]",
      "text/plain": [
       "<Figure size 360x360 with 2 Axes>"
      ]
     },
     "metadata": {
      "needs_background": "light"
     },
     "output_type": "display_data"
    }
   ],
   "source": [
    "# 6. Random Forest Classification\n",
    "from sklearn.ensemble import RandomForestClassifier\n",
    "rfc = RandomForestClassifier(n_estimators=10, criterion = 'entropy')\n",
    "rfc.fit(X_train,y_train)\n",
    "\n",
    "y_pred = rfc.predict(X_test)\n",
    "cm = confusion_matrix(y_test,y_pred)\n",
    "print('RFC')\n",
    "#print(cm)\n",
    "import seaborn as sns\n",
    "f, ax = plt.subplots(figsize =(5,5))\n",
    "sns.heatmap(cm,annot = True,linewidths=0.5,linecolor=\"red\",fmt = \".0f\",ax=ax)\n",
    "plt.xlabel(\"y_pred\")\n",
    "plt.ylabel(\"y_true\")\n",
    "plt.show()"
   ]
  },
  {
   "cell_type": "code",
   "execution_count": 9,
   "metadata": {
    "_uuid": "7d939ccec27ce9ff8fbf398ece7114549deacff2"
   },
   "outputs": [
    {
     "name": "stdout",
     "output_type": "stream",
     "text": [
      "[0.   0.32 0.36 1.  ]\n",
      "[nan nan nan nan]\n"
     ]
    },
    {
     "name": "stderr",
     "output_type": "stream",
     "text": [
      "/opt/conda/lib/python3.6/site-packages/sklearn/metrics/ranking.py:571: UndefinedMetricWarning: No positive samples in y_true, true positive value should be meaningless\n",
      "  UndefinedMetricWarning)\n"
     ]
    }
   ],
   "source": [
    "# 7. ROC , TPR, FPR değerleri \n",
    "y_proba = rfc.predict_proba(X_test)\n",
    "#print(y_test)\n",
    "#print(y_proba[:,0])\n",
    "\n",
    "from sklearn import metrics\n",
    "fpr , tpr , thold = metrics.roc_curve(y_test,y_proba[:,0],pos_label='e')\n",
    "print(fpr)\n",
    "print(tpr)"
   ]
  },
  {
   "cell_type": "markdown",
   "execution_count": null,
   "metadata": {},
   "source": [
    "# Comparing Clustering Methods K-Means-Hierarchical"
   ]
  },
  {
   "cell_type": "code",
   "execution_count": 10,
   "metadata": {},
   "outputs": [
    {
     "name": "stdout",
     "output_type": "stream",
     "text": [
      "   No Cinsiyet  Yas  Hacim  Maas\n",
      "0   1        K   60  69900  6325\n",
      "1   2        K   30  79000  5200\n",
      "2   3        E   52  85500  7825\n",
      "3   4        E   57  17100  8375\n",
      "4   5        E   55   5500  5450\n"
     ]
    },
    {
     "data": {
      "image/png": "[encoded data removed]",
      "text/plain": [
       "<Figure size 432x288 with 1 Axes>"
      ]
     },
     "metadata": {
      "needs_background": "light"
     },
     "output_type": "display_data"
    }
   ],
   "source": [
    "import numpy as np\n",
    "import pandas as pd\n",
    "import matplotlib.pyplot as plt\n",
    "\n",
    "veriler = pd.read_csv('../input/clustering/musteriler.csv')\n",
    "print(veriler.head())\n",
    "X = veriler.iloc[:,3:].values\n",
    "#print(X)\n",
    "x1 = X[:,0]\n",
    "y1 = X[:,1]\n",
    "plt.scatter(x1,y1)\n",
    "plt.show()"
   ]
  },
  {
   "cell_type": "markdown",
   "execution_count": null,
   "metadata": {},
   "source": [
    "\n",
    "<a id=\"7.\"></a> \n",
    "# K-Means Clustering"
   ]
  },
  {
   "cell_type": "code",
   "execution_count": 11,
   "metadata": {},
   "outputs": [
    {
     "data": {
      "text/plain": [
       "[<matplotlib.lines.Line2D at 0x7f38ecdd6eb8>]"
      ]
     },
     "execution_count": 11,
     "metadata": {},
     "output_type": "execute_result"
    },
    {
     "data": {
      "image/png": "[encoded data removed]",
      "text/plain": [
       "<Figure size 432x288 with 1 Axes>"
      ]
     },
     "metadata": {
      "needs_background": "light"
     },
     "output_type": "display_data"
    }
   ],
   "source": [
    "from sklearn.cluster import KMeans\n",
    "sonuclar = []\n",
    "for i in range(1,11):\n",
    "    kmeans = KMeans(n_clusters = i, init='k-means++', random_state= 123)\n",
    "    kmeans.fit(X)\n",
    "    sonuclar.append(kmeans.inertia_)\n",
    "\n",
    "plt.plot(range(1,11),sonuclar)"
   ]
  },
  {
   "cell_type": "code",
   "execution_count": 12,
   "metadata": {},
   "outputs": [
    {
     "name": "stdout",
     "output_type": "stream",
     "text": [
      "[[ 58643.47826087   5844.92753623]\n",
      " [104386.95652174   7289.13043478]\n",
      " [ 22069.41176471   5320.88235294]]\n"
     ]
    },
    {
     "data": {
      "image/png": "[encoded data removed]",
      "text/plain": [
       "<Figure size 432x288 with 1 Axes>"
      ]
     },
     "metadata": {
      "needs_background": "light"
     },
     "output_type": "display_data"
    }
   ],
   "source": [
    "kmeans = KMeans( n_clusters = 3, init = 'k-means++')\n",
    "kmeans.fit(X)\n",
    "print(kmeans.cluster_centers_)\n",
    "\n",
    "clusters = kmeans.fit_predict(X)\n",
    "veriler[\"label\"] = clusters\n",
    "#print(clusters)\n",
    "\n",
    "plt.scatter(veriler.Hacim[veriler.label == 0 ],veriler.Maas[veriler.label == 0],color = \"red\")\n",
    "plt.scatter(veriler.Hacim[veriler.label == 1 ],veriler.Maas[veriler.label == 1],color = \"green\")\n",
    "plt.scatter(veriler.Hacim[veriler.label == 2 ], veriler.Maas[veriler.label == 2],color = \"blue\")\n",
    "plt.scatter(kmeans.cluster_centers_[:,0],kmeans.cluster_centers_[:,1],color = \"yellow\")\n",
    "plt.show()"
   ]
  },
  {
   "cell_type": "markdown",
   "execution_count": null,
   "metadata": {},
   "source": [
    "<a id=\"8.\"></a> \n",
    "# Hierarchical Clustering\n",
    "\n",
    "## Dendogram\n",
    "\n"
   ]
  },
  {
   "cell_type": "code",
   "execution_count": 13,
   "metadata": {},
   "outputs": [
    {
     "data": {
      "image/png": "[encoded data removed]",
      "text/plain": [
       "<Figure size 432x288 with 1 Axes>"
      ]
     },
     "metadata": {
      "needs_background": "light"
     },
     "output_type": "display_data"
    }
   ],
   "source": [
    "from scipy.cluster.hierarchy import linkage, dendrogram\n",
    "\n",
    "merg = linkage(X,method=\"ward\")\n",
    "dendrogram(merg,leaf_rotation = 90)\n",
    "plt.xlabel(\"data points\")\n",
    "plt.ylabel(\"euclidean distance\")\n",
    "plt.show()"
   ]
  },
  {
   "cell_type": "markdown",
   "execution_count": null,
   "metadata": {},
   "source": [
    "## HC"
   ]
  },
  {
   "cell_type": "code",
   "execution_count": 14,
   "metadata": {},
   "outputs": [
    {
     "data": {
      "image/png": "[encoded data removed]",
      "text/plain": [
       "<Figure size 432x288 with 1 Axes>"
      ]
     },
     "metadata": {
      "needs_background": "light"
     },
     "output_type": "display_data"
    }
   ],
   "source": [
    "from sklearn.cluster import AgglomerativeClustering\n",
    "ac = AgglomerativeClustering(n_clusters=4, affinity='euclidean', linkage='ward')\n",
    "Y_tahmin = ac.fit_predict(X)\n",
    "#print(Y_tahmin)\n",
    "\n",
    "plt.scatter(X[Y_tahmin==0,0],X[Y_tahmin==0,1],s=100, c='red')\n",
    "plt.scatter(X[Y_tahmin==1,0],X[Y_tahmin==1,1],s=100, c='blue')\n",
    "plt.scatter(X[Y_tahmin==2,0],X[Y_tahmin==2,1],s=100, c='green')\n",
    "plt.scatter(X[Y_tahmin==3,0],X[Y_tahmin==3,1],s=100, c='yellow')\n",
    "plt.title('HC')\n",
    "plt.show()"
   ]
  },
  {
   "cell_type": "markdown",
   "execution_count": null,
   "metadata": {},
   "source": [
    "# Comparing Regression Methods (MLR-PR-SVR-DT-RF)\n"
   ]
  },
  {
   "cell_type": "code",
   "execution_count": 15,
   "metadata": {},
   "outputs": [
    {
     "name": "stderr",
     "output_type": "stream",
     "text": [
      "/opt/conda/lib/python3.6/site-packages/statsmodels/compat/pandas.py:56: FutureWarning: The pandas.core.datetools module is deprecated and will be removed in a future version. Please use the pandas.tseries module instead.\n",
      "  from pandas.core import datetools\n"
     ]
    },
    {
     "name": "stdout",
     "output_type": "stream",
     "text": [
      "              unvan  Egitim Seviyesi  maas\n",
      "0             Cayci                1  2250\n",
      "1          Sekreter                2  2500\n",
      "2  Uzman Yardimcisi                3  3000\n",
      "3             Uzman                4  4000\n",
      "4  Proje Yoneticisi                5  5500\n"
     ]
    },
    {
     "data": {
      "text/html": [
       "<div>\n",
       "<style scoped>\n",
       "    .dataframe tbody tr th:only-of-type {\n",
       "        vertical-align: middle;\n",
       "    }\n",
       "\n",
       "    .dataframe tbody tr th {\n",
       "        vertical-align: top;\n",
       "    }\n",
       "\n",
       "    .dataframe thead th {\n",
       "        text-align: right;\n",
       "    }\n",
       "</style>\n",
       "<table border=\"1\" class=\"dataframe\">\n",
       "  <thead>\n",
       "    <tr style=\"text-align: right;\">\n",
       "      <th></th>\n",
       "      <th>unvan</th>\n",
       "      <th>Egitim Seviyesi</th>\n",
       "      <th>maas</th>\n",
       "    </tr>\n",
       "  </thead>\n",
       "  <tbody>\n",
       "    <tr>\n",
       "      <th>0</th>\n",
       "      <td>Cayci</td>\n",
       "      <td>1</td>\n",
       "      <td>2250</td>\n",
       "    </tr>\n",
       "    <tr>\n",
       "      <th>1</th>\n",
       "      <td>Sekreter</td>\n",
       "      <td>2</td>\n",
       "      <td>2500</td>\n",
       "    </tr>\n",
       "    <tr>\n",
       "      <th>2</th>\n",
       "      <td>Uzman Yardimcisi</td>\n",
       "      <td>3</td>\n",
       "      <td>3000</td>\n",
       "    </tr>\n",
       "    <tr>\n",
       "      <th>3</th>\n",
       "      <td>Uzman</td>\n",
       "      <td>4</td>\n",
       "      <td>4000</td>\n",
       "    </tr>\n",
       "    <tr>\n",
       "      <th>4</th>\n",
       "      <td>Proje Yoneticisi</td>\n",
       "      <td>5</td>\n",
       "      <td>5500</td>\n",
       "    </tr>\n",
       "  </tbody>\n",
       "</table>\n",
       "</div>"
      ],
      "text/plain": [
       "              unvan  Egitim Seviyesi  maas\n",
       "0             Cayci                1  2250\n",
       "1          Sekreter                2  2500\n",
       "2  Uzman Yardimcisi                3  3000\n",
       "3             Uzman                4  4000\n",
       "4  Proje Yoneticisi                5  5500"
      ]
     },
     "execution_count": 15,
     "metadata": {},
     "output_type": "execute_result"
    }
   ],
   "source": [
    "import numpy as np\n",
    "import matplotlib.pyplot as plt\n",
    "import pandas as pd\n",
    "from sklearn.metrics import r2_score\n",
    "import statsmodels.api as sm\n",
    "\n",
    "veriler = pd.read_csv('../input/comparing-regression2/maaslar2.csv')\n",
    "print(veriler.head())\n",
    "x = veriler.iloc[:,1:2]\n",
    "y = veriler.iloc[:,2:]\n",
    "X = x.values\n",
    "Y = y.values\n",
    "veriler.head()"
   ]
  },
  {
   "cell_type": "code",
   "execution_count": 16,
   "metadata": {},
   "outputs": [
    {
     "data": {
      "text/html": [
       "<div>\n",
       "<style scoped>\n",
       "    .dataframe tbody tr th:only-of-type {\n",
       "        vertical-align: middle;\n",
       "    }\n",
       "\n",
       "    .dataframe tbody tr th {\n",
       "        vertical-align: top;\n",
       "    }\n",
       "\n",
       "    .dataframe thead th {\n",
       "        text-align: right;\n",
       "    }\n",
       "</style>\n",
       "<table border=\"1\" class=\"dataframe\">\n",
       "  <thead>\n",
       "    <tr style=\"text-align: right;\">\n",
       "      <th></th>\n",
       "      <th>Egitim Seviyesi</th>\n",
       "      <th>maas</th>\n",
       "    </tr>\n",
       "  </thead>\n",
       "  <tbody>\n",
       "    <tr>\n",
       "      <th>Egitim Seviyesi</th>\n",
       "      <td>1.000000</td>\n",
       "      <td>0.817949</td>\n",
       "    </tr>\n",
       "    <tr>\n",
       "      <th>maas</th>\n",
       "      <td>0.817949</td>\n",
       "      <td>1.000000</td>\n",
       "    </tr>\n",
       "  </tbody>\n",
       "</table>\n",
       "</div>"
      ],
      "text/plain": [
       "                 Egitim Seviyesi      maas\n",
       "Egitim Seviyesi         1.000000  0.817949\n",
       "maas                    0.817949  1.000000"
      ]
     },
     "execution_count": 16,
     "metadata": {},
     "output_type": "execute_result"
    }
   ],
   "source": [
    "veriler.corr()"
   ]
  },
  {
   "cell_type": "markdown",
   "execution_count": null,
   "metadata": {},
   "source": [
    "<a id=\"9.\"></a> \n",
    "# Linear Regression\n"
   ]
  },
  {
   "cell_type": "code",
   "execution_count": 17,
   "metadata": {},
   "outputs": [
    {
     "name": "stdout",
     "output_type": "stream",
     "text": [
      "                            OLS Regression Results                            \n",
      "==============================================================================\n",
      "Dep. Variable:                      y   R-squared:                       0.930\n",
      "Model:                            OLS   Adj. R-squared:                  0.922\n",
      "Method:                 Least Squares   F-statistic:                     118.9\n",
      "Date:                Sun, 17 May 2020   Prob (F-statistic):           1.73e-06\n",
      "Time:                        15:40:37   Log-Likelihood:                -98.354\n",
      "No. Observations:                  10   AIC:                             198.7\n",
      "Df Residuals:                       9   BIC:                             199.0\n",
      "Df Model:                           1                                         \n",
      "Covariance Type:            nonrobust                                         \n",
      "==============================================================================\n",
      "                 coef    std err          t      P>|t|      [0.025      0.975]\n",
      "------------------------------------------------------------------------------\n",
      "x1          2648.7013    242.880     10.905      0.000    2099.269    3198.134\n",
      "==============================================================================\n",
      "Omnibus:                        0.978   Durbin-Watson:                   0.086\n",
      "Prob(Omnibus):                  0.613   Jarque-Bera (JB):                0.624\n",
      "Skew:                          -0.000   Prob(JB):                        0.732\n",
      "Kurtosis:                       1.776   Cond. No.                         1.00\n",
      "==============================================================================\n",
      "\n",
      "Warnings:\n",
      "[1] Standard Errors assume that the covariance matrix of the errors is correctly specified.\n",
      "Linear R2 degeri:\n",
      "0.6690412331929894\n"
     ]
    },
    {
     "name": "stderr",
     "output_type": "stream",
     "text": [
      "/opt/conda/lib/python3.6/site-packages/scipy/stats/stats.py:1394: UserWarning: kurtosistest only valid for n>=20 ... continuing anyway, n=10\n",
      "  \"anyway, n=%i\" % int(n))\n"
     ]
    },
    {
     "data": {
      "image/png": "[encoded data removed]",
      "text/plain": [
       "<Figure size 432x288 with 1 Axes>"
      ]
     },
     "metadata": {
      "needs_background": "light"
     },
     "output_type": "display_data"
    }
   ],
   "source": [
    "from sklearn.linear_model import LinearRegression\n",
    "lin_reg = LinearRegression()\n",
    "lin_reg.fit(X,Y)\n",
    "model = sm.OLS(lin_reg.predict(X),X)\n",
    "print(model.fit().summary())\n",
    "print(\"Linear R2 degeri:\")\n",
    "print(r2_score(Y, lin_reg.predict((X))))\n",
    "\n",
    "plt.scatter(X,Y,color='red')\n",
    "plt.plot(x,lin_reg.predict(X), color = 'blue')\n",
    "plt.show()"
   ]
  },
  {
   "cell_type": "markdown",
   "execution_count": null,
   "metadata": {},
   "source": [
    "\n",
    "<a id=\"10.\"></a> \n",
    "# Polynomial Regression\n"
   ]
  },
  {
   "cell_type": "code",
   "execution_count": 18,
   "metadata": {},
   "outputs": [
    {
     "name": "stdout",
     "output_type": "stream",
     "text": [
      "Polynomial R2 degeri:\n",
      "0.9973922891706615\n"
     ]
    },
    {
     "data": {
      "image/png": "[encoded data removed]",
      "text/plain": [
       "<Figure size 432x288 with 1 Axes>"
      ]
     },
     "metadata": {
      "needs_background": "light"
     },
     "output_type": "display_data"
    }
   ],
   "source": [
    "from sklearn.preprocessing import PolynomialFeatures\n",
    "poly_reg = PolynomialFeatures(degree = 4)\n",
    "x_poly = poly_reg.fit_transform(X)\n",
    "#print(x_poly)\n",
    "lin_reg2 = LinearRegression()\n",
    "lin_reg2.fit(x_poly,y)\n",
    "model2 = sm.OLS(lin_reg2.predict(poly_reg.fit_transform(X)),X)\n",
    "\n",
    "print(\"Polynomial R2 degeri:\")\n",
    "print(r2_score(Y, lin_reg2.predict(poly_reg.fit_transform(X)) ))\n",
    "\n",
    "plt.scatter(X,Y,color = 'red')\n",
    "plt.plot(X,lin_reg2.predict(poly_reg.fit_transform(X)), color = 'blue')\n",
    "plt.show()"
   ]
  },
  {
   "cell_type": "markdown",
   "execution_count": null,
   "metadata": {},
   "source": [
    "<a id=\"11.\"></a> \n",
    "# Support Vector Regression , Scaling\n"
   ]
  },
  {
   "cell_type": "code",
   "execution_count": 19,
   "metadata": {},
   "outputs": [
    {
     "name": "stdout",
     "output_type": "stream",
     "text": [
      "                            OLS Regression Results                            \n",
      "==============================================================================\n",
      "Dep. Variable:                      y   R-squared:                       0.796\n",
      "Model:                            OLS   Adj. R-squared:                  0.773\n",
      "Method:                 Least Squares   F-statistic:                     35.12\n",
      "Date:                Sun, 17 May 2020   Prob (F-statistic):           0.000222\n",
      "Time:                        15:40:38   Log-Likelihood:                -1.0924\n",
      "No. Observations:                  10   AIC:                             4.185\n",
      "Df Residuals:                       9   BIC:                             4.487\n",
      "Df Model:                           1                                         \n",
      "Covariance Type:            nonrobust                                         \n",
      "==============================================================================\n",
      "                 coef    std err          t      P>|t|      [0.025      0.975]\n",
      "------------------------------------------------------------------------------\n",
      "x1             0.5332      0.090      5.926      0.000       0.330       0.737\n",
      "==============================================================================\n",
      "Omnibus:                        1.804   Durbin-Watson:                   0.365\n",
      "Prob(Omnibus):                  0.406   Jarque-Bera (JB):                0.796\n",
      "Skew:                           0.080   Prob(JB):                        0.672\n",
      "Kurtosis:                       1.627   Cond. No.                         1.00\n",
      "==============================================================================\n",
      "\n",
      "Warnings:\n",
      "[1] Standard Errors assume that the covariance matrix of the errors is correctly specified.\n",
      "SVR R2 degeri:\n",
      "0.7513836788854973\n"
     ]
    },
    {
     "name": "stderr",
     "output_type": "stream",
     "text": [
      "/opt/conda/lib/python3.6/site-packages/sklearn/utils/validation.py:475: DataConversionWarning: Data with input dtype int64 was converted to float64 by StandardScaler.\n",
      "  warnings.warn(msg, DataConversionWarning)\n",
      "/opt/conda/lib/python3.6/site-packages/sklearn/utils/validation.py:578: DataConversionWarning: A column-vector y was passed when a 1d array was expected. Please change the shape of y to (n_samples, ), for example using ravel().\n",
      "  y = column_or_1d(y, warn=True)\n"
     ]
    }
   ],
   "source": [
    "from sklearn.preprocessing import StandardScaler\n",
    "sc1 = StandardScaler()\n",
    "x_olcekli = sc1.fit_transform(X)\n",
    "sc2 = StandardScaler()\n",
    "y_olcekli = sc2.fit_transform(Y)\n",
    "\n",
    "from sklearn.svm import SVR\n",
    "\n",
    "svr_reg = SVR(kernel = 'rbf')\n",
    "svr_reg.fit(x_olcekli,y_olcekli)\n",
    "\n",
    "model3 = sm.OLS(svr_reg.predict(x_olcekli),x_olcekli)\n",
    "print(model3.fit().summary())\n",
    "print(\"SVR R2 degeri:\")\n",
    "print(r2_score(y_olcekli, svr_reg.predict(x_olcekli)) )"
   ]
  },
  {
   "cell_type": "code",
   "execution_count": 20,
   "metadata": {},
   "outputs": [
    {
     "data": {
      "image/png": "[encoded data removed]",
      "text/plain": [
       "<Figure size 432x288 with 1 Axes>"
      ]
     },
     "metadata": {
      "needs_background": "light"
     },
     "output_type": "display_data"
    }
   ],
   "source": [
    "plt.scatter(x_olcekli,y_olcekli,color='red')\n",
    "plt.plot(x_olcekli,svr_reg.predict(x_olcekli),color='blue')\n",
    "plt.show()"
   ]
  },
  {
   "cell_type": "markdown",
   "execution_count": null,
   "metadata": {},
   "source": [
    "<a id=\"12.\"></a> \n",
    "# Decision Tree\n",
    "\n",
    "* [Random Forest](#13.)\n"
   ]
  },
  {
   "cell_type": "code",
   "execution_count": 21,
   "metadata": {},
   "outputs": [
    {
     "name": "stdout",
     "output_type": "stream",
     "text": [
      "dt ols\n",
      "                            OLS Regression Results                            \n",
      "==============================================================================\n",
      "Dep. Variable:                      y   R-squared:                       0.756\n",
      "Model:                            OLS   Adj. R-squared:                  0.729\n",
      "Method:                 Least Squares   F-statistic:                     27.88\n",
      "Date:                Sun, 17 May 2020   Prob (F-statistic):           0.000507\n",
      "Time:                        15:40:38   Log-Likelihood:                -105.61\n",
      "No. Observations:                  10   AIC:                             213.2\n",
      "Df Residuals:                       9   BIC:                             213.5\n",
      "Df Model:                           1                                         \n",
      "Covariance Type:            nonrobust                                         \n",
      "==============================================================================\n",
      "                 coef    std err          t      P>|t|      [0.025      0.975]\n",
      "------------------------------------------------------------------------------\n",
      "x1          2648.7013    501.599      5.281      0.001    1514.006    3783.397\n",
      "==============================================================================\n",
      "Omnibus:                       20.006   Durbin-Watson:                   0.658\n",
      "Prob(Omnibus):                  0.000   Jarque-Bera (JB):               12.131\n",
      "Skew:                           2.116   Prob(JB):                      0.00232\n",
      "Kurtosis:                       6.346   Cond. No.                         1.00\n",
      "==============================================================================\n",
      "\n",
      "Warnings:\n",
      "[1] Standard Errors assume that the covariance matrix of the errors is correctly specified.\n",
      "Decision Tree R2 degeri:\n",
      "1.0\n"
     ]
    }
   ],
   "source": [
    "from sklearn.tree import DecisionTreeRegressor\n",
    "r_dt = DecisionTreeRegressor(random_state=0)\n",
    "r_dt.fit(X,Y)\n",
    "print('dt ols')\n",
    "model4 = sm.OLS(r_dt.predict(X),X)\n",
    "print(model4.fit().summary())\n",
    "print(\"Decision Tree R2 degeri:\")\n",
    "print(r2_score(Y, r_dt.predict(X)) )"
   ]
  },
  {
   "cell_type": "code",
   "execution_count": 22,
   "metadata": {},
   "outputs": [
    {
     "data": {
      "image/png": "[encoded data removed]",
      "text/plain": [
       "<Figure size 432x288 with 1 Axes>"
      ]
     },
     "metadata": {
      "needs_background": "light"
     },
     "output_type": "display_data"
    }
   ],
   "source": [
    "Z = X + 0.5\n",
    "K = X - 0.4\n",
    "\n",
    "plt.scatter(X,Y, color='red')\n",
    "plt.plot(x,r_dt.predict(X), color='blue')\n",
    "plt.plot(x,r_dt.predict(Z),color='green')\n",
    "plt.plot(x,r_dt.predict(K), color = 'yellow')\n",
    "plt.show()"
   ]
  },
  {
   "cell_type": "markdown",
   "execution_count": null,
   "metadata": {},
   "source": [
    "\n",
    "<a id=\"13.\"></a> \n",
    "# Random Forest\n"
   ]
  },
  {
   "cell_type": "code",
   "execution_count": 23,
   "metadata": {},
   "outputs": [
    {
     "name": "stdout",
     "output_type": "stream",
     "text": [
      "dt ols\n",
      "                            OLS Regression Results                            \n",
      "==============================================================================\n",
      "Dep. Variable:                      y   R-squared:                       0.799\n",
      "Model:                            OLS   Adj. R-squared:                  0.776\n",
      "Method:                 Least Squares   F-statistic:                     35.67\n",
      "Date:                Sun, 17 May 2020   Prob (F-statistic):           0.000210\n",
      "Time:                        15:40:39   Log-Likelihood:                -103.44\n",
      "No. Observations:                  10   AIC:                             208.9\n",
      "Df Residuals:                       9   BIC:                             209.2\n",
      "Df Model:                           1                                         \n",
      "Covariance Type:            nonrobust                                         \n",
      "==============================================================================\n",
      "                 coef    std err          t      P>|t|      [0.025      0.975]\n",
      "------------------------------------------------------------------------------\n",
      "x1          2412.7273    404.005      5.972      0.000    1498.804    3326.650\n",
      "==============================================================================\n",
      "Omnibus:                       17.627   Durbin-Watson:                   0.583\n",
      "Prob(Omnibus):                  0.000   Jarque-Bera (JB):                9.871\n",
      "Skew:                           1.965   Prob(JB):                      0.00719\n",
      "Kurtosis:                       5.872   Cond. No.                         1.00\n",
      "==============================================================================\n",
      "\n",
      "Warnings:\n",
      "[1] Standard Errors assume that the covariance matrix of the errors is correctly specified.\n",
      "Random Forest R2 degeri:\n",
      "0.9704434230386582\n"
     ]
    },
    {
     "name": "stderr",
     "output_type": "stream",
     "text": [
      "/opt/conda/lib/python3.6/site-packages/ipykernel_launcher.py:3: DataConversionWarning: A column-vector y was passed when a 1d array was expected. Please change the shape of y to (n_samples,), for example using ravel().\n",
      "  This is separate from the ipykernel package so we can avoid doing imports until\n",
      "/opt/conda/lib/python3.6/site-packages/scipy/stats/stats.py:1394: UserWarning: kurtosistest only valid for n>=20 ... continuing anyway, n=10\n",
      "  \"anyway, n=%i\" % int(n))\n"
     ]
    }
   ],
   "source": [
    "from sklearn.ensemble import RandomForestRegressor\n",
    "rf_reg = RandomForestRegressor(n_estimators = 10, random_state=0)\n",
    "rf_reg.fit(X,Y)\n",
    "print('dt ols')\n",
    "model5 = sm.OLS(rf_reg.predict(X),X)\n",
    "print(model5.fit().summary())\n",
    "print(\"Random Forest R2 degeri:\")\n",
    "print(r2_score(Y, rf_reg.predict(X)) )"
   ]
  },
  {
   "cell_type": "code",
   "execution_count": 24,
   "metadata": {},
   "outputs": [
    {
     "data": {
      "image/png": "[encoded data removed]",
      "text/plain": [
       "<Figure size 432x288 with 1 Axes>"
      ]
     },
     "metadata": {
      "needs_background": "light"
     },
     "output_type": "display_data"
    }
   ],
   "source": [
    "plt.scatter(X,Y, color='red')\n",
    "plt.plot(x,rf_reg.predict(X), color = 'blue')\n",
    "plt.plot(x,rf_reg.predict(Z), color = 'green')\n",
    "plt.show()"
   ]
  },
  {
   "cell_type": "code",
   "execution_count": 25,
   "metadata": {},
   "outputs": [
    {
     "name": "stdout",
     "output_type": "stream",
     "text": [
      "----------------\n",
      "Linear R2 value:\n",
      "0.6690412331929894\n",
      "Polynomial R2 value:\n",
      "0.9973922891706615\n",
      "SVR R2 value:\n",
      "0.7513836788854973\n",
      "Decision Tree R2 value:\n",
      "1.0\n",
      "Random Forest R2 value:\n",
      "0.9704434230386582\n"
     ]
    }
   ],
   "source": [
    "print('----------------')\n",
    "print(\"Linear R2 value:\")\n",
    "print(r2_score(Y, lin_reg.predict((X))))\n",
    "\n",
    "print(\"Polynomial R2 value:\")\n",
    "print(r2_score(Y, lin_reg2.predict(poly_reg.fit_transform(X)) ))\n",
    "\n",
    "print(\"SVR R2 value:\")\n",
    "print(r2_score(y_olcekli, svr_reg.predict(x_olcekli)) )\n",
    "\n",
    "print(\"Decision Tree R2 value:\")\n",
    "print(r2_score(Y, r_dt.predict(X)) )\n",
    "\n",
    "print(\"Random Forest R2 value:\")\n",
    "print(r2_score(Y, rf_reg.predict(X)) )"
   ]
  }
 ],
 "metadata": {
  "kernelspec": {
   "display_name": "Python 3",
   "language": "python",
   "name": "python3"
  },
  "language_info": {
   "codemirror_mode": {
    "name": "ipython",
    "version": 3
   },
   "file_extension": ".py",
   "mimetype": "text/x-python",
   "name": "python",
   "nbconvert_exporter": "python",
   "pygments_lexer": "ipython3",
   "version": "3.6.6"
  }
 },
 "nbformat": 4,
 "nbformat_minor": 4
}
