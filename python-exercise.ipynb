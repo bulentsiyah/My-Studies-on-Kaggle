{
 "cells": [
  {
   "cell_type": "markdown",
   "execution_count": null,
   "metadata": {
    "_uuid": "0726e5c87066fe363f995135fead5f8dcff3522f"
   },
   "source": [
    "\n",
    "It is the kernel that I have tried and compiled from the courses of [DATAI Team](https://www.udemy.com/user/datai-team/) (Language of the courses is Turkish: [Python: Sıfırdan Uzmanlığa Programlama (1)](https://www.udemy.com/python-sfrdan-uzmanlga-programlama-1/)), which is [Grandmaster on Kaggle](https://www.kaggle.com/kanncaa1) and has more than 15 courses on Udemy.\n",
    "\n",
    "\n",
    "# **Content**\n",
    "\n",
    " \n",
    "1. [Python Basics](#1.)\n",
    "   * [variable](#2.)\n",
    "   * [user defined functions](#3.)\n",
    "   * [default ve flexible functions](#4.)\n",
    "   * [lambda function](#5.)\n",
    "   * [nested function](#6.)\n",
    "   * [anonymous function](#7.)\n",
    "   * [list](#8.)\n",
    "   * [tuple](#9.)\n",
    "   * [dictionary](#10.)\n",
    "   * [conditionals](#11.)\n",
    "   * [loops](#12.)\n",
    "1. [Object Oriented Programming](#13.)\n",
    "    * [class](#14.)\n",
    "1. [Numpy](#15.)\n",
    "    * [basic operations](#16.)\n",
    "    * [indexing and slicing](#17.)\n",
    "    * [shape manipulation](#18.)\n",
    "    * [convert and copy](#19.)\n",
    "1. [Pandas](#20.)\n",
    "    * [indexing and slicing](#21.)\n",
    "    * [filtering](#22.)\n",
    "    * [list comprehension](#23.)\n",
    "    * [drop and concatenating](#24.)\n",
    "    * [transforming data](#25.)\n",
    "    * [iteration example](#26.)\n",
    "    * [zip example](#27.)\n",
    "    * [example of list comprehension](#28.)\n",
    "1. [Visualization with Matplotlib](#29.)\n",
    "    * [line Plot example](#30.)\n",
    "    * [scatter plot](#31.)\n",
    "    * [histogram](#32.)\n",
    "    * [bar plot](#33.)\n",
    "    * [subplots](#34.)\n",
    "    \n",
    "\n"
   ]
  },
  {
   "cell_type": "markdown",
   "execution_count": null,
   "metadata": {
    "_uuid": "1cfe3918efa29ed5e7a24f0bc0b798ecfb153908"
   },
   "source": [
    "\n",
    "<a class=\"anchor\" id=\"1.\"></a> \n",
    "# 1.Python Basics"
   ]
  },
  {
   "cell_type": "markdown",
   "execution_count": null,
   "metadata": {},
   "source": [
    "<a class=\"anchor\" id=\"2.\"></a> \n",
    "## variable "
   ]
  },
  {
   "cell_type": "code",
   "execution_count": 1,
   "metadata": {
    "_uuid": "da84d0f4479714306fd089d16c2c3220866634b3"
   },
   "outputs": [
    {
     "name": "stdout",
     "output_type": "stream",
     "text": [
      "<class 'str'>\n"
     ]
    }
   ],
   "source": [
    "var1 = 10 # integer = int\n",
    "ay = \"temmuz\"\n",
    "var3 = 10.3 # double (float)\n",
    "\n",
    "s = \"bugun gunlerden pazartesi\"\n",
    "variable_type = type(s)   # str = string\n",
    "print(variable_type)"
   ]
  },
  {
   "cell_type": "markdown",
   "execution_count": null,
   "metadata": {},
   "source": [
    "\n",
    "<a class=\"anchor\" id=\"3.\"></a> \n",
    "## user defined functions "
   ]
  },
  {
   "cell_type": "code",
   "execution_count": 2,
   "metadata": {
    "_uuid": "6c6305e553e4c0eb6fee26c421b6148e22a9233b"
   },
   "outputs": [
    {
     "name": "stdout",
     "output_type": "stream",
     "text": [
      "14.0\n"
     ]
    }
   ],
   "source": [
    "\n",
    "def benim_ilk_func(a,b):   \n",
    "    \"\"\"\n",
    "    bu benim ilk denemem\n",
    "    parametre: \n",
    "    return: \n",
    "    \"\"\"\n",
    "    output = (((a+b)*50)/100.0)*a/b\n",
    "    return output\n",
    "\n",
    "print(benim_ilk_func(20,50))"
   ]
  },
  {
   "cell_type": "markdown",
   "execution_count": null,
   "metadata": {},
   "source": [
    "\n",
    "    \n",
    "<a class=\"anchor\" id=\"4.\"></a> \n",
    "## default ve flexible functions"
   ]
  },
  {
   "cell_type": "code",
   "execution_count": 3,
   "metadata": {
    "_uuid": "a2cc21033e5f0fa81fc4ae493b05ff8bd32456c1"
   },
   "outputs": [
    {
     "name": "stdout",
     "output_type": "stream",
     "text": [
      "31.400000000000002\n",
      "(10, 20, 30, 40)\n",
      "100\n"
     ]
    }
   ],
   "source": [
    "# %% \n",
    "# default f: cemberin cevre uzunlugu = 2*pi*r\n",
    "def cember_cevresi_hesapla(r,pi=3.14):\n",
    "    \"\"\"\n",
    "    cember cevresi hesapla\n",
    "    input(parametre): r,pi\n",
    "    output = cemberin cevresi\n",
    "    \"\"\"\n",
    "    output = 2*pi*r\n",
    "    return output\n",
    "\n",
    "# flexible\n",
    "def hesapla(boy,kilo,*args):\n",
    "    print(args)\n",
    "    output = (boy+kilo)*args[0]\n",
    "    return output\n",
    "\n",
    "print(cember_cevresi_hesapla(5))\n",
    "print(hesapla(5,5,10,20,30,40))"
   ]
  },
  {
   "cell_type": "markdown",
   "execution_count": null,
   "metadata": {},
   "source": [
    "\n",
    "<a class=\"anchor\" id=\"5.\"></a> \n",
    "## lambda function"
   ]
  },
  {
   "cell_type": "code",
   "execution_count": 4,
   "metadata": {
    "_uuid": "1963a06e2cb324ccfe683e6a0227f62edc1fa982"
   },
   "outputs": [
    {
     "name": "stdout",
     "output_type": "stream",
     "text": [
      "9\n",
      "9\n"
     ]
    }
   ],
   "source": [
    "\n",
    "def hesapla(x):\n",
    "    return x*x\n",
    "print(hesapla(3))\n",
    "\n",
    "sonuc2 = lambda x: x*x\n",
    "print(sonuc2(3))"
   ]
  },
  {
   "cell_type": "markdown",
   "execution_count": null,
   "metadata": {},
   "source": [
    "<a class=\"anchor\" id=\"6.\"></a> \n",
    "## nested function"
   ]
  },
  {
   "cell_type": "code",
   "execution_count": 5,
   "metadata": {
    "_uuid": "e929a47c4cf672cabd0de094428d0fc7e8e717eb"
   },
   "outputs": [
    {
     "name": "stdout",
     "output_type": "stream",
     "text": [
      "25\n"
     ]
    }
   ],
   "source": [
    "\n",
    "def square():\n",
    "    \"\"\" return square of value \"\"\"\n",
    "    def add():\n",
    "        \"\"\" add two local variable \"\"\"\n",
    "        x = 2\n",
    "        y = 3\n",
    "        z = x + y\n",
    "        return z\n",
    "    return add()**2\n",
    "print(square())"
   ]
  },
  {
   "cell_type": "markdown",
   "execution_count": null,
   "metadata": {},
   "source": [
    "\n",
    "<a class=\"anchor\" id=\"7.\"></a> \n",
    "## anonymous function"
   ]
  },
  {
   "cell_type": "code",
   "execution_count": 6,
   "metadata": {
    "_uuid": "2ef03fd0e106debfe79ae63614b7726c5f25129e"
   },
   "outputs": [
    {
     "name": "stdout",
     "output_type": "stream",
     "text": [
      "[1, 4, 9]\n"
     ]
    }
   ],
   "source": [
    "number_list = [1,2,3]\n",
    "y = map(lambda x:x**2,number_list)\n",
    "print(list(y))"
   ]
  },
  {
   "cell_type": "markdown",
   "execution_count": null,
   "metadata": {},
   "source": [
    "\n",
    "<a class=\"anchor\" id=\"8.\"></a> \n",
    "## list"
   ]
  },
  {
   "cell_type": "code",
   "execution_count": 7,
   "metadata": {
    "_uuid": "5f315d09290b9b09f6012bde9d2e5a8e99c8350d",
    "collapsed": true
   },
   "outputs": [
    {
     "name": "stdout",
     "output_type": "stream",
     "text": [
      "<class 'list'>\n",
      "<class 'list'>\n",
      "2\n",
      "6\n",
      "[1, 2, 3]\n",
      "[1, 2, 3, 4, 5, 6, 7]\n",
      "[1, 2, 3, 4, 5, 6]\n",
      "[6, 5, 4, 3, 2, 1]\n",
      "[1, 2, 3, 4, 5, 6, 7]\n"
     ]
    }
   ],
   "source": [
    "liste = [1,2,3,4,5,6]\n",
    "print(type(liste))\n",
    "\n",
    "liste_str = [\"ptesi\",\"sali\",\"cars\"]\n",
    "print(type(liste_str))\n",
    "\n",
    "print(liste[1])\n",
    "print(liste[-1])\n",
    "print(liste[0:3])\n",
    "\n",
    "liste.append(7)\n",
    "print(liste)\n",
    "liste.remove(7)\n",
    "print(liste)\n",
    "liste.reverse()\n",
    "print(liste)\n",
    "\n",
    "liste2 = [1,5,4,3,6,7,2]\n",
    "liste2.sort()\n",
    "print(liste2)\n",
    "\n",
    "string_int_liste = [1,2,3,\"aa\",\"bb\"]"
   ]
  },
  {
   "cell_type": "markdown",
   "execution_count": null,
   "metadata": {},
   "source": [
    "\n",
    "<a class=\"anchor\" id=\"9.\"></a> \n",
    "## tuple"
   ]
  },
  {
   "cell_type": "code",
   "execution_count": 8,
   "metadata": {
    "_uuid": "e70c8899488e4d9d9c1a7858d92d75710724bdb5",
    "collapsed": true
   },
   "outputs": [
    {
     "name": "stdout",
     "output_type": "stream",
     "text": [
      "1\n",
      "2\n"
     ]
    }
   ],
   "source": [
    "\n",
    "t = (1,2,3,3,4,5,6)\n",
    "\n",
    "print(t.count(5))\n",
    "print(t.index(3))"
   ]
  },
  {
   "cell_type": "markdown",
   "execution_count": null,
   "metadata": {},
   "source": [
    "\n",
    "<a class=\"anchor\" id=\"10.\"></a> \n",
    "## dictionary"
   ]
  },
  {
   "cell_type": "code",
   "execution_count": 9,
   "metadata": {
    "_uuid": "00d89b391f1587392774aa0043ca8f6b26e9cbfd"
   },
   "outputs": [
    {
     "name": "stdout",
     "output_type": "stream",
     "text": [
      "{'ali': 32, 'veli': 45, 'ayse': 13}\n",
      "dict_keys(['spain', 'usa'])\n",
      "dict_values(['madrid', 'vegas'])\n",
      "{'spain': 'barcelona', 'usa': 'vegas'}\n",
      "{'spain': 'barcelona', 'usa': 'vegas', 'france': 'paris'}\n",
      "{'usa': 'vegas', 'france': 'paris'}\n",
      "True\n",
      "{}\n"
     ]
    }
   ],
   "source": [
    "\n",
    "def deneme():\n",
    "    dictionary = {\"ali\":32,\"veli\":45,\"ayse\":13}\n",
    "    # ali ,veli ,ayse = keys\n",
    "# 32,45,13 = values\n",
    "    return dictionary\n",
    "\n",
    "dic = deneme()\n",
    "print(dic)\n",
    "\n",
    "dictionary = {'spain' : 'madrid','usa' : 'vegas'}\n",
    "print(dictionary.keys())\n",
    "print(dictionary.values())\n",
    "dictionary['spain'] = \"barcelona\"    # update existing entry\n",
    "print(dictionary)\n",
    "dictionary['france'] = \"paris\"       # Add new entry\n",
    "print(dictionary)\n",
    "del dictionary['spain']              # remove entry with key 'spain'\n",
    "print(dictionary)\n",
    "print('france' in dictionary)        # check include or not\n",
    "dictionary.clear()                   # remove all entries in dict\n",
    "print(dictionary)"
   ]
  },
  {
   "cell_type": "markdown",
   "execution_count": null,
   "metadata": {},
   "source": [
    "\n",
    "<a class=\"anchor\" id=\"11.\"></a> \n",
    "## conditionals"
   ]
  },
  {
   "cell_type": "code",
   "execution_count": 10,
   "metadata": {
    "_uuid": "cb5c75dfa001889eec612343e4e3da4c208215b5",
    "collapsed": true
   },
   "outputs": [
    {
     "name": "stdout",
     "output_type": "stream",
     "text": [
      "var1 kucuktur var2\n",
      "evet 3 degeri listenin icinde\n",
      "evet\n"
     ]
    }
   ],
   "source": [
    "# if else statement\n",
    "\n",
    "var1 = 10\n",
    "var2 = 20\n",
    "\n",
    "if(var1 > var2):\n",
    "    print(\"var1 buyuktur var2\")\n",
    "elif(var1 == var2):\n",
    "    print(\"var and var2 esitler\")\n",
    "else:\n",
    "    print(\"var1 kucuktur var2\")\n",
    "\n",
    "\n",
    "liste = [1,2,3,4,5]\n",
    "\n",
    "value = 3\n",
    "if value in liste:\n",
    "    print(\"evet {} degeri listenin icinde\".format(value))\n",
    "else:\n",
    "    print(\"hayir\")\n",
    "\n",
    "dictionary = {\"ali\":32,\"veli\":45,\"ayse\":13}\n",
    "keys = dictionary.keys()\n",
    "\n",
    "if \"veli\" in keys:\n",
    "    print(\"evet\")\n",
    "else:\n",
    "    print(\"hayir\")"
   ]
  },
  {
   "cell_type": "markdown",
   "execution_count": null,
   "metadata": {},
   "source": [
    "\n",
    "<a class=\"anchor\" id=\"12.\"></a> \n",
    "## loops"
   ]
  },
  {
   "cell_type": "code",
   "execution_count": 11,
   "metadata": {
    "_uuid": "513cb111770a99cc966e434a2df1a71fef9b0669",
    "collapsed": true
   },
   "outputs": [
    {
     "name": "stdout",
     "output_type": "stream",
     "text": [
      "1\n",
      "2\n",
      "a\n",
      "n\n",
      "k\n",
      " \n",
      "i\n",
      "s\n",
      "t\n",
      "ank\n",
      "ist\n",
      "101\n",
      "1\n",
      "5\n",
      "10\n",
      "16\n",
      "24\n",
      "27\n",
      "30\n",
      "34\n",
      "101\n",
      "0\n",
      "1\n",
      "2\n",
      "3\n"
     ]
    }
   ],
   "source": [
    "# for loop\n",
    "for each in range(1,3):\n",
    "    print(each)\n",
    "    \n",
    "for each in \"ank ist\":\n",
    "    print(each)\n",
    "    \n",
    "for each in \"ank ist\".split(): \n",
    "    print(each)\n",
    "    \n",
    "liste = [1,4,5,6,8,3,3,4,67]\n",
    " \n",
    "print(sum(liste))  \n",
    "\n",
    "count = 0\n",
    "for each in liste:\n",
    "    count = count + each\n",
    "    print(count)\n",
    "\n",
    "# while loop\n",
    "i = 0\n",
    "while(i <4):\n",
    "    print(i)\n",
    "    i = i + 1"
   ]
  },
  {
   "cell_type": "markdown",
   "execution_count": null,
   "metadata": {
    "_uuid": "c1efd8997599b1d3a2d0a374b60acd98df69c486"
   },
   "source": [
    "\n",
    "<a class=\"anchor\" id=\"13.\"></a> \n",
    "# 2.Object Oriented Programming"
   ]
  },
  {
   "cell_type": "markdown",
   "execution_count": null,
   "metadata": {},
   "source": [
    "\n",
    "<a class=\"anchor\" id=\"14.\"></a> \n",
    "## class"
   ]
  },
  {
   "cell_type": "code",
   "execution_count": 12,
   "metadata": {
    "_uuid": "56247293c183c8d3f93f9375fc952bfce5e4058b",
    "collapsed": true
   },
   "outputs": [
    {
     "name": "stdout",
     "output_type": "stream",
     "text": [
      "giveNameSurname:  ali veli\n",
      "maas:  100\n",
      "yeni maas:  280.0\n",
      "600\n",
      "ayse yelda\n"
     ]
    }
   ],
   "source": [
    "class Calisan:\n",
    "    zam_orani = 1.8\n",
    "    counter = 0\n",
    "    def __init__(self,isim,soyisim,maas): # constructor\n",
    "        self.isim = isim\n",
    "        self.soyisim = soyisim\n",
    "        self.maas = maas\n",
    "        self.email = isim+soyisim+\"@asd.com\"\n",
    "        Calisan.counter = Calisan.counter + 1\n",
    "    \n",
    "    def giveNameSurname(self):\n",
    "        return self.isim +\" \" +self.soyisim\n",
    "        \n",
    "    def zam_yap(self):\n",
    "        self.maas = self.maas + self.maas*self.zam_orani\n",
    "# class variable\n",
    "calisan1 = Calisan(\"ali\", \"veli\",100) \n",
    "print(\"giveNameSurname: \",calisan1.giveNameSurname())\n",
    "print(\"maas: \",calisan1.maas)\n",
    "calisan1.zam_yap()\n",
    "print(\"yeni maas: \",calisan1.maas)\n",
    "\n",
    "#  class example\n",
    "calisan2 = Calisan(\"ayse\", \"hatice\",200) \n",
    "calisan3 = Calisan(\"ayse\", \"yelda\",600) \n",
    "liste  = [calisan1,calisan2,calisan3]\n",
    "\n",
    "maxi_maas = -1\n",
    "index = -1\n",
    "for each in liste:\n",
    "    if(each.maas>maxi_maas):\n",
    "        maxi_maas = each.maas\n",
    "        index = each\n",
    "        \n",
    "print(maxi_maas)\n",
    "print(index.giveNameSurname())"
   ]
  },
  {
   "cell_type": "markdown",
   "execution_count": null,
   "metadata": {
    "_uuid": "0ab73690a51b50488b6e2923257c4d4f50736fb6"
   },
   "source": [
    "\n",
    "<a class=\"anchor\" id=\"15.\"></a> \n",
    "# 3.Numpy"
   ]
  },
  {
   "cell_type": "code",
   "execution_count": 13,
   "metadata": {
    "_uuid": "3c79ef6f1ae2d9dbdc409723ba06af91ab741fbc",
    "collapsed": true
   },
   "outputs": [
    {
     "name": "stdout",
     "output_type": "stream",
     "text": [
      "(15,)\n",
      "shape:  (15, 1)\n",
      "dimension:  2\n",
      "data type:  int64\n",
      "size:  15\n",
      "type:  <class 'numpy.ndarray'>\n",
      "[[1 2 3 4]\n",
      " [5 6 7 8]\n",
      " [9 8 7 5]]\n",
      "[[5. 0. 0. 0.]\n",
      " [0. 0. 0. 0.]\n",
      " [0. 0. 0. 0.]]\n",
      "[[1. 1. 1. 1.]\n",
      " [1. 1. 1. 1.]\n",
      " [1. 1. 1. 1.]]\n",
      "[[6.90775820e-310 4.68763801e-310 0.00000000e+000]\n",
      " [0.00000000e+000 0.00000000e+000 0.00000000e+000]]\n",
      "[10 15 20 25 30 35 40 45]\n",
      "[10. 20. 30. 40. 50.]\n"
     ]
    }
   ],
   "source": [
    "# importing\n",
    "import numpy as np\n",
    "# numpy basics\n",
    "array = np.array([1,2,3,4,5,6,7,8,9,10,11,12,13,14,15])  # 1*15 vector\n",
    "print(array.shape)\n",
    "a = array.reshape(-1,1)\n",
    "print(\"shape: \",a.shape)\n",
    "print(\"dimension: \", a.ndim)\n",
    "print(\"data type: \",a.dtype.name)\n",
    "print(\"size: \",a.size)\n",
    "print(\"type: \",type(a))\n",
    "\n",
    "array1 = np.array([[1,2,3,4],[5,6,7,8],[9,8,7,5]])\n",
    "print(array1)\n",
    "zeros = np.zeros((3,4))\n",
    "zeros[0,0] = 5\n",
    "print(zeros)\n",
    "\n",
    "print(np.ones((3,4)))\n",
    "print(np.empty((2,3)))\n",
    "\n",
    "a = np.arange(10,50,5) # 10 dan 50 ye 5er 5 er artır\n",
    "print(a)\n",
    "a = np.linspace(10,50,5) #10 50 ye 5 tane yerleştir\n",
    "print(a)"
   ]
  },
  {
   "cell_type": "markdown",
   "execution_count": null,
   "metadata": {},
   "source": [
    "\n",
    "      \n",
    "<a class=\"anchor\" id=\"16.\"></a> \n",
    "## basic operations"
   ]
  },
  {
   "cell_type": "code",
   "execution_count": 14,
   "metadata": {
    "_uuid": "092d482355b4507b48f04a51f76c7c6ddc2c889b",
    "collapsed": true
   },
   "outputs": [
    {
     "name": "stdout",
     "output_type": "stream",
     "text": [
      "[5 7 9]\n",
      "[-3 -3 -3]\n",
      "[1 4 9]\n",
      "[[ 1  4  9]\n",
      " [16 25 36]]\n",
      "[[14 32]\n",
      " [32 77]]\n",
      "1.6048975803280638\n",
      "0.6462414920820414\n",
      "0.17529048584698315\n",
      "[0.35945829 1.24543929]\n",
      "[0.77448829 0.83040929]\n",
      "[[0.41867707 0.77407868]\n",
      " [0.42914776 0.80389147]]\n",
      "[[0.03072675 0.359038  ]\n",
      " [0.03391778 0.41762807]]\n",
      "[[0.35058097 1.1983956 ]\n",
      " [0.36833561 1.29248298]]\n"
     ]
    }
   ],
   "source": [
    "\n",
    "a = np.array([1,2,3])\n",
    "b = np.array([4,5,6])\n",
    "\n",
    "print(a+b)\n",
    "print(a-b)\n",
    "print(a**2)\n",
    "\n",
    "a = np.array([[1,2,3],[4,5,6]])\n",
    "b = np.array([[1,2,3],[4,5,6]])\n",
    "# element wise prodcut\n",
    "print(a*b)\n",
    "# matrix prodcut\n",
    "print(a.dot(b.T))\n",
    "\n",
    "a = np.random.random((2,2)) # 2 2 lık 0-1 arasında sayı uretiyor\n",
    "print(a.sum())\n",
    "print(a.max())\n",
    "print(a.min())\n",
    "print(a.sum(axis=0)) # sutunları topla\n",
    "print(a.sum(axis=1)) # satırları topla\n",
    "print(np.sqrt(a))\n",
    "print(np.square(a)) # a**2\n",
    "print(np.add(a,a))"
   ]
  },
  {
   "cell_type": "markdown",
   "execution_count": null,
   "metadata": {},
   "source": [
    "\n",
    "<a class=\"anchor\" id=\"17.\"></a> \n",
    "## indexing and slicing"
   ]
  },
  {
   "cell_type": "code",
   "execution_count": 15,
   "metadata": {
    "_uuid": "6d25f2b499560986d82e12ac1fe4431e497bcade",
    "collapsed": true
   },
   "outputs": [
    {
     "name": "stdout",
     "output_type": "stream",
     "text": [
      "1\n",
      "[1 2 3 4]\n",
      "[7 6 5 4 3 2 1]\n",
      "7\n",
      "[2 7]\n",
      "[7 8 9]\n",
      "[ 6  7  8  9 10]\n",
      "[ 5 10]\n"
     ]
    }
   ],
   "source": [
    "\n",
    "import numpy as np\n",
    "array = np.array([1,2,3,4,5,6,7])   #  vector dimension = 1\n",
    "print(array[0])\n",
    "print(array[0:4])\n",
    "\n",
    "reverse_array = array[::-1]\n",
    "print(reverse_array)\n",
    "\n",
    "array1 = np.array([[1,2,3,4,5],[6,7,8,9,10]])\n",
    "print(array1[1,1]) # 1 satır 1 sutun 7 \n",
    "print(array1[:,1]) # tum satır 1 sutun 2,7 \n",
    "print(array1[1,1:4]) # 1 satır 1-4 sutun 7-8-9\n",
    "print(array1[-1,:]) #son satırın tum sutunları\n",
    "print(array1[:,-1]) # tum satırların son sutunu 5,10"
   ]
  },
  {
   "cell_type": "markdown",
   "execution_count": null,
   "metadata": {},
   "source": [
    "\n",
    "<a class=\"anchor\" id=\"18.\"></a> \n",
    "## shape manipulation"
   ]
  },
  {
   "cell_type": "code",
   "execution_count": 16,
   "metadata": {
    "_uuid": "1f32a201c7f1ccb512fae53289b9b198e37ef105",
    "collapsed": true
   },
   "outputs": [
    {
     "name": "stdout",
     "output_type": "stream",
     "text": [
      "[1 2 3 4 5 6 7 8 9]\n",
      "[[1 2 3]\n",
      " [4 5 6]\n",
      " [7 8 9]]\n",
      "[[ 1  2]\n",
      " [ 3  4]\n",
      " [-1 -2]\n",
      " [-3 -4]]\n",
      "[[ 1  2 -1 -2]\n",
      " [ 3  4 -3 -4]]\n"
     ]
    }
   ],
   "source": [
    "\n",
    "array = np.array([[1,2,3],[4,5,6],[7,8,9]])\n",
    "\n",
    "# flatten\n",
    "array1 = array.ravel() # duz hale getırıldı\n",
    "print(array1)\n",
    "array2 = array1.reshape(3,3) # matrıse cevır\n",
    "print(array2)\n",
    "\n",
    "# %% stacking arrays\n",
    "array1 = np.array([[1,2],[3,4]])\n",
    "array2 = np.array([[-1,-2],[-3,-4]])\n",
    "\n",
    "# veritical\n",
    "#array([[1, 2],\n",
    "#       [3, 4]])\n",
    "#array([[-1, -2],\n",
    "#       [-3, -4]])\n",
    "array3 = np.vstack((array1,array2))\n",
    "print(array3)\n",
    "# horizontal\n",
    "#array([[1, 2],[-1, -2],\n",
    "#       [3, 4]],[-3, -4]]\n",
    "array4 = np.hstack((array1,array2))\n",
    "print(array4)"
   ]
  },
  {
   "cell_type": "markdown",
   "execution_count": null,
   "metadata": {},
   "source": [
    "      \n",
    "<a class=\"anchor\" id=\"19.\"></a> \n",
    "## convert and copy"
   ]
  },
  {
   "cell_type": "code",
   "execution_count": 17,
   "metadata": {
    "_uuid": "e5c51e86355b8155f8455a2cac4a2ae3fb67a07b",
    "collapsed": true
   },
   "outputs": [
    {
     "name": "stdout",
     "output_type": "stream",
     "text": [
      "5\n",
      "5\n",
      "5\n",
      "1\n"
     ]
    }
   ],
   "source": [
    "\n",
    "liste = [1,2,3,4]   # list\n",
    "array = np.array(liste) #np.array\n",
    "liste2 = list(array) # list\n",
    "\n",
    "a = np.array([1,2,3])\n",
    "b = a\n",
    "b[0] = 5\n",
    "print(b[0])\n",
    "print(a[0]) # a da degıstı\n",
    "\n",
    "d =  np.array([1,2,3])\n",
    "e = d.copy()\n",
    "d[0] = 5\n",
    "print(d[0])\n",
    "print(e[0]) # e da degısmedi"
   ]
  },
  {
   "cell_type": "markdown",
   "execution_count": null,
   "metadata": {
    "_uuid": "27ea0c3c2dc2bdde3d24c1a25c9740d07b1eacb5"
   },
   "source": [
    "\n",
    "<a class=\"anchor\" id=\"20.\"></a> \n",
    "# 4.Pandas"
   ]
  },
  {
   "cell_type": "code",
   "execution_count": 18,
   "metadata": {
    "_uuid": "cde13ac6290d7a4349b7006b78afe23f434740db",
    "collapsed": true
   },
   "outputs": [
    {
     "name": "stdout",
     "output_type": "stream",
     "text": [
      "    NAME  AGE  MAAS\n",
      "0    ali   15   100\n",
      "1   veli   16   150\n",
      "2  kenan   17   240\n",
      "3  hilal   33   350\n",
      "4   ayse   45   110\n",
      "    NAME  AGE  MAAS\n",
      "4   ayse   45   110\n",
      "5  evren   66   220\n",
      "6  isim1   70   300\n",
      "7  isim2   70   300\n",
      "8  isim3   70   300\n"
     ]
    }
   ],
   "source": [
    "import pandas as pd\n",
    "\n",
    "dictionary = {\"NAME\":[\"ali\",\"veli\",\"kenan\",\"hilal\",\"ayse\",\"evren\",\"isim1\",\"isim2\",\"isim3\"],\n",
    "              \"AGE\":[15,16,17,33,45,66,70,70,70],\n",
    "              \"MAAS\": [100,150,240,350,110,220,300,300,300]} \n",
    "\n",
    "dataFrame1 = pd.DataFrame(dictionary)\n",
    "\n",
    "print(dataFrame1.head()) # ilk 5 kısım, içerindeki görmek için\n",
    "print(dataFrame1.tail()) # sondaki 5 tane"
   ]
  },
  {
   "cell_type": "code",
   "execution_count": 19,
   "metadata": {
    "_uuid": "808748687e9dbd5df59942ce93f847053ff6e5d5",
    "collapsed": true
   },
   "outputs": [
    {
     "name": "stdout",
     "output_type": "stream",
     "text": [
      "Index(['NAME', 'AGE', 'MAAS'], dtype='object')\n",
      "------\n",
      "<class 'pandas.core.frame.DataFrame'>\n",
      "RangeIndex: 9 entries, 0 to 8\n",
      "Data columns (total 3 columns):\n",
      "NAME    9 non-null object\n",
      "AGE     9 non-null int64\n",
      "MAAS    9 non-null int64\n",
      "dtypes: int64(2), object(1)\n",
      "memory usage: 296.0+ bytes\n",
      "None\n",
      "------\n",
      "NAME    object\n",
      "AGE      int64\n",
      "MAAS     int64\n",
      "dtype: object\n",
      "------\n",
      "             AGE        MAAS\n",
      "count   9.000000    9.000000\n",
      "mean   44.666667  230.000000\n",
      "std    24.959968   91.515026\n",
      "min    15.000000  100.000000\n",
      "25%    17.000000  150.000000\n",
      "50%    45.000000  240.000000\n",
      "75%    70.000000  300.000000\n",
      "max    70.000000  350.000000\n"
     ]
    }
   ],
   "source": [
    "# pandas basic method\n",
    "print(dataFrame1.columns)\n",
    "print(\"------\")\n",
    "print(dataFrame1.info())\n",
    "print(\"------\")\n",
    "print(dataFrame1.dtypes)\n",
    "print(\"------\")\n",
    "print(dataFrame1.describe())  # numeric feature = columns (age,maas)"
   ]
  },
  {
   "cell_type": "markdown",
   "execution_count": null,
   "metadata": {},
   "source": [
    "\n",
    "<a class=\"anchor\" id=\"21.\"></a> \n",
    "## indexing and slicing"
   ]
  },
  {
   "cell_type": "code",
   "execution_count": 20,
   "metadata": {
    "_uuid": "f1f3602dd3c895e42b132fa98ce115c41c931010",
    "collapsed": true
   },
   "outputs": [
    {
     "name": "stdout",
     "output_type": "stream",
     "text": [
      "0    15\n",
      "1    16\n",
      "2    17\n",
      "3    33\n",
      "4    45\n",
      "5    66\n",
      "6    70\n",
      "7    70\n",
      "8    70\n",
      "Name: AGE, dtype: int64\n",
      "0    15\n",
      "1    16\n",
      "2    17\n",
      "3    33\n",
      "4    45\n",
      "5    66\n",
      "6    70\n",
      "7    70\n",
      "8    70\n",
      "Name: AGE, dtype: int64\n",
      "---1---\n",
      "0    15\n",
      "1    16\n",
      "2    17\n",
      "Name: AGE, dtype: int64\n",
      "---2---\n",
      "0    15\n",
      "1    16\n",
      "Name: AGE, dtype: int64\n",
      "---3---\n",
      "Empty DataFrame\n",
      "Columns: []\n",
      "Index: [0, 1]\n",
      "---4---\n",
      "   AGE  NAME\n",
      "0   15   ali\n",
      "1   16  veli\n",
      "---5---\n",
      "    NAME  AGE  MAAS  yeni_feature\n",
      "2  kenan   17   240            -3\n",
      "1   veli   16   150            -2\n",
      "0    ali   15   100            -1\n",
      "---6---\n",
      "    NAME\n",
      "0    ali\n",
      "1   veli\n",
      "2  kenan\n",
      "---7---\n",
      "0      ali\n",
      "1     veli\n",
      "2    kenan\n",
      "Name: NAME, dtype: object\n",
      "---8---\n",
      "0    100\n",
      "1    150\n",
      "2    240\n",
      "Name: MAAS, dtype: int64\n"
     ]
    }
   ],
   "source": [
    "\n",
    "print(dataFrame1[\"AGE\"])\n",
    "print(dataFrame1.AGE)\n",
    "\n",
    "dictionary = {\"NAME\":[\"ali\",\"veli\",\"kenan\",],\n",
    "              \"AGE\":[15,16,17,],\n",
    "              \"MAAS\": [100,150,240]} \n",
    "\n",
    "dataFrame1 = pd.DataFrame(dictionary)\n",
    "dataFrame1[\"yeni_feature\"] = [-1,-2,-3]\n",
    "print(\"---1---\")\n",
    "print(dataFrame1.loc[:, \"AGE\"])\n",
    "print(\"---2---\")\n",
    "print(dataFrame1.loc[:1, \"AGE\"])\n",
    "print(\"---3---\")\n",
    "print(dataFrame1.loc[:1, \"AGE\":\"NAME\"])\n",
    "print(\"---4---\")\n",
    "print(dataFrame1.loc[:1, [\"AGE\",\"NAME\"]])\n",
    "print(\"---5---\")\n",
    "print(dataFrame1.loc[::-1,:]) #ters yazdı\n",
    "print(\"---6---\")\n",
    "print(dataFrame1.loc[:,:\"NAME\"])\n",
    "print(\"---7---\")\n",
    "print(dataFrame1.loc[:,\"NAME\"])\n",
    "print(\"---8---\")\n",
    "print(dataFrame1.iloc[:,2]) #i integer location name yerıne sutun ındexı verdık"
   ]
  },
  {
   "cell_type": "markdown",
   "execution_count": null,
   "metadata": {},
   "source": [
    "      \n",
    "<a class=\"anchor\" id=\"22.\"></a> \n",
    "## filtering"
   ]
  },
  {
   "cell_type": "code",
   "execution_count": 21,
   "metadata": {
    "_uuid": "349b2efb9a38b68f05f0a3667dd99cc3eb04d7b4",
    "collapsed": true
   },
   "outputs": [
    {
     "name": "stdout",
     "output_type": "stream",
     "text": [
      "0    False\n",
      "1    False\n",
      "2     True\n",
      "3     True\n",
      "4    False\n",
      "5     True\n",
      "Name: MAAS, dtype: bool\n",
      "    NAME  AGE  MAAS\n",
      "2  kenan   17   240\n",
      "3  hilal   33   350\n",
      "5  evren   66   220\n",
      "    NAME  AGE  MAAS\n",
      "5  evren   66   220\n"
     ]
    }
   ],
   "source": [
    "\n",
    "dictionary = {\"NAME\":[\"ali\",\"veli\",\"kenan\",\"hilal\",\"ayse\",\"evren\"],\n",
    "              \"AGE\":[15,16,17,33,45,66],\n",
    "              \"MAAS\": [100,150,240,350,110,220]} \n",
    "dataFrame1 = pd.DataFrame(dictionary)\n",
    "filtre1 = dataFrame1.MAAS > 200\n",
    "print(filtre1)\n",
    "filtrelenmis_data = dataFrame1[filtre1]\n",
    "print(filtrelenmis_data)\n",
    "filtre2 = dataFrame1.AGE <20\n",
    "dataFrame1[filtre1 & filtre2]\n",
    "print(dataFrame1[dataFrame1.AGE > 60])"
   ]
  },
  {
   "cell_type": "markdown",
   "execution_count": null,
   "metadata": {},
   "source": [
    "\n",
    "<a class=\"anchor\" id=\"23.\"></a> \n",
    "## list comprehension"
   ]
  },
  {
   "cell_type": "code",
   "execution_count": 22,
   "metadata": {
    "_uuid": "547721af11c24798a31f3b851879a1d035bea167",
    "collapsed": true
   },
   "outputs": [
    {
     "name": "stdout",
     "output_type": "stream",
     "text": [
      "    NAME  AGE  MAAS maas_seviyesi\n",
      "0    ali   15   100         dusuk\n",
      "1   veli   16   150         dusuk\n",
      "2  kenan   17   240        yuksek\n",
      "3  hilal   33   350        yuksek\n",
      "4   ayse   45   110         dusuk\n",
      "5  evren   66   220        yuksek\n",
      "Index(['NAME', 'AGE', 'MAAS', 'maas_seviyesi'], dtype='object')\n",
      "Index(['name', 'age', 'maas', 'maas_seviyesi'], dtype='object')\n",
      "    name  age  maas maas_seviyesi\n",
      "0    ali   15   100         dusuk\n",
      "1   veli   16   150         dusuk\n",
      "2  kenan   17   240        yuksek\n",
      "3  hilal   33   350        yuksek\n",
      "4   ayse   45   110         dusuk\n",
      "5  evren   66   220        yuksek\n"
     ]
    }
   ],
   "source": [
    "\n",
    "import numpy as np\n",
    "dataFrame1 = pd.DataFrame(dictionary)\n",
    "ortalama_maas = dataFrame1.MAAS.mean()\n",
    "# ortalama_maas_np = np.mean(dataFrame1.MAAS)\n",
    "dataFrame1[\"maas_seviyesi\"] = [\"dusuk\" if ortalama_maas > each else \"yuksek\" for each in dataFrame1.MAAS]\n",
    "print(dataFrame1)\n",
    "print(dataFrame1.columns)\n",
    "dataFrame1.columns = [ each.lower() for each in dataFrame1.columns] \n",
    "print(dataFrame1.columns)\n",
    "dataFrame1.columns = [each.split()[0]+\"_\"+each.split()[1] if(len(each.split())>1) else each for each in dataFrame1.columns]\n",
    "print(dataFrame1) # bosluklu sutun adı varsa _ ekledı ama bızım verıler zaten bosluksuz"
   ]
  },
  {
   "cell_type": "markdown",
   "execution_count": null,
   "metadata": {},
   "source": [
    "\n",
    "<a class=\"anchor\" id=\"24.\"></a> \n",
    "## drop and concatenating"
   ]
  },
  {
   "cell_type": "code",
   "execution_count": 23,
   "metadata": {
    "_uuid": "9a36d4d2063ed86983a48b9933763a05c76d7f09",
    "collapsed": true
   },
   "outputs": [
    {
     "name": "stdout",
     "output_type": "stream",
     "text": [
      "    name  age  maas maas_seviyesi\n",
      "0    ali   15   100         dusuk\n",
      "1   veli   16   150         dusuk\n",
      "2  kenan   17   240        yuksek\n",
      "3  hilal   33   350        yuksek\n",
      "4   ayse   45   110         dusuk\n",
      "    name  age  maas maas_seviyesi\n",
      "1   veli   16   150         dusuk\n",
      "2  kenan   17   240        yuksek\n",
      "3  hilal   33   350        yuksek\n",
      "4   ayse   45   110         dusuk\n",
      "5  evren   66   220        yuksek\n",
      "    name  age  maas maas_seviyesi\n",
      "0    ali   15   100         dusuk\n",
      "1   veli   16   150         dusuk\n",
      "2  kenan   17   240        yuksek\n",
      "3  hilal   33   350        yuksek\n",
      "4   ayse   45   110         dusuk\n",
      "1   veli   16   150         dusuk\n",
      "2  kenan   17   240        yuksek\n",
      "3  hilal   33   350        yuksek\n",
      "4   ayse   45   110         dusuk\n",
      "5  evren   66   220        yuksek\n",
      "   maas  age\n",
      "0   100   15\n",
      "1   150   16\n",
      "2   240   17\n",
      "3   350   33\n",
      "4   110   45\n",
      "5   220   66\n"
     ]
    }
   ],
   "source": [
    "\n",
    "dataFrame1[\"yeni_feature\"] = [-1,-2,-3,-4,-5,-6]\n",
    "dataFrame1.drop([\"yeni_feature\"],axis=1,inplace = True)\n",
    "# dataFrame1 = dataFrame1.drop([\"yeni_feature\"],axis=1)\n",
    "data1 = dataFrame1.head()\n",
    "print(data1)\n",
    "data2 = dataFrame1.tail()\n",
    "print(data2)\n",
    "# vertical\n",
    "data_concat = pd.concat([data1,data2],axis=0) #dusey bırlestırdı yanı ust uste\n",
    "print(data_concat)\n",
    "# horizontal\n",
    "maas = dataFrame1.maas\n",
    "age = dataFrame1.age\n",
    "data_h_concat = pd.concat([maas,age],axis=1) #yatay bırlestırdı yanı yanyana\n",
    "print(data_h_concat)"
   ]
  },
  {
   "cell_type": "markdown",
   "execution_count": null,
   "metadata": {},
   "source": [
    "\n",
    "<a class=\"anchor\" id=\"25.\"></a> \n",
    "## transforming data"
   ]
  },
  {
   "cell_type": "code",
   "execution_count": 24,
   "metadata": {
    "_uuid": "8dfdfc99525c62b3219467cd6199063368a379a9",
    "collapsed": true
   },
   "outputs": [
    {
     "name": "stdout",
     "output_type": "stream",
     "text": [
      "    name  age  maas maas_seviyesi  apply_metodu  list_comp\n",
      "0    ali   15   100         dusuk            30         30\n",
      "1   veli   16   150         dusuk            32         32\n",
      "2  kenan   17   240        yuksek            34         34\n",
      "3  hilal   33   350        yuksek            66         66\n",
      "4   ayse   45   110         dusuk            90         90\n",
      "5  evren   66   220        yuksek           132        132\n"
     ]
    }
   ],
   "source": [
    "\n",
    "def multiply(age):\n",
    "    return age*2\n",
    "dataFrame1[\"apply_metodu\"] = dataFrame1.age.apply(multiply)\n",
    "dataFrame1[\"list_comp\"] = [ each*2 for each in dataFrame1.age]\n",
    "print(dataFrame1)"
   ]
  },
  {
   "cell_type": "markdown",
   "execution_count": null,
   "metadata": {},
   "source": [
    "      \n",
    "<a class=\"anchor\" id=\"26.\"></a> \n",
    "## iteration example"
   ]
  },
  {
   "cell_type": "code",
   "execution_count": 25,
   "metadata": {
    "_uuid": "793a4edc49e0f8da8ab4b87808dc0bc74e413ed6"
   },
   "outputs": [
    {
     "name": "stdout",
     "output_type": "stream",
     "text": [
      "r\n",
      "o n a l d o\n"
     ]
    }
   ],
   "source": [
    "\n",
    "name = \"ronaldo\"\n",
    "it = iter(name)\n",
    "print(next(it))    # print next iteration\n",
    "print(*it)         # print remaining iteration"
   ]
  },
  {
   "cell_type": "markdown",
   "execution_count": null,
   "metadata": {},
   "source": [
    "\n",
    "<a class=\"anchor\" id=\"27.\"></a> \n",
    "## zip example"
   ]
  },
  {
   "cell_type": "code",
   "execution_count": 26,
   "metadata": {
    "_uuid": "c67a856e50020bcf76c46641158269b20abefe7d"
   },
   "outputs": [
    {
     "name": "stdout",
     "output_type": "stream",
     "text": [
      "<zip object at 0x7f28e50d5188>\n",
      "[(1, 5), (2, 6), (3, 7), (4, 8)]\n",
      "-----\n",
      "(1, 2, 3, 4)\n",
      "(5, 6, 7, 8)\n",
      "<class 'tuple'>\n"
     ]
    }
   ],
   "source": [
    "\n",
    "list1 = [1,2,3,4]\n",
    "list2 = [5,6,7,8]\n",
    "z = zip(list1,list2)\n",
    "print(z)\n",
    "z_list = list(z)\n",
    "print(z_list)\n",
    "print(\"-----\")\n",
    "un_zip = zip(*z_list)\n",
    "un_list1,un_list2 = list(un_zip) # unzip returns tuble\n",
    "print(un_list1)\n",
    "print(un_list2)\n",
    "print(type(un_list2))"
   ]
  },
  {
   "cell_type": "markdown",
   "execution_count": null,
   "metadata": {},
   "source": [
    "\n",
    "     \n",
    "<a class=\"anchor\" id=\"28.\"></a> \n",
    "## example of list comprehension"
   ]
  },
  {
   "cell_type": "code",
   "execution_count": 27,
   "metadata": {
    "_uuid": "b043f9a779b251c5ebdabece0e3e2c50b6cdef7e"
   },
   "outputs": [
    {
     "name": "stdout",
     "output_type": "stream",
     "text": [
      "[2, 3, 4]\n",
      "[0, 100, 20]\n"
     ]
    }
   ],
   "source": [
    "\n",
    "num1 = [1,2,3]\n",
    "num2 = [i + 1 for i in num1 ]\n",
    "print(num2)\n",
    "# Conditionals on iterable\n",
    "num1 = [5,10,15]\n",
    "num2 = [i**2 if i == 10 else i-5 if i < 7 else i+5 for i in num1]\n",
    "print(num2)"
   ]
  },
  {
   "cell_type": "markdown",
   "execution_count": null,
   "metadata": {
    "_uuid": "12cc13c9c94d044af4a43b73ef6e88d9c8b8e997"
   },
   "source": [
    "\n",
    "<a class=\"anchor\" id=\"29.\"></a> \n",
    "# 5.Visualization with Matplotlib"
   ]
  },
  {
   "cell_type": "code",
   "execution_count": 28,
   "metadata": {
    "_uuid": "b1e8f0ec920434a3085efc3dd1964cd2842f85ad"
   },
   "outputs": [
    {
     "name": "stdout",
     "output_type": "stream",
     "text": [
      "Index(['Id', 'SepalLengthCm', 'SepalWidthCm', 'PetalLengthCm', 'PetalWidthCm',\n",
      "       'Species'],\n",
      "      dtype='object')\n"
     ]
    }
   ],
   "source": [
    "import pandas as pd\n",
    "data = pd.read_csv(\"../input/Iris.csv\")\n",
    "print(data.columns)"
   ]
  },
  {
   "cell_type": "code",
   "execution_count": 29,
   "metadata": {
    "_uuid": "0876fef0405c953e7013f8120ede8fef5ea6dd53",
    "collapsed": true
   },
   "outputs": [
    {
     "name": "stdout",
     "output_type": "stream",
     "text": [
      "['Iris-setosa' 'Iris-versicolor' 'Iris-virginica']\n"
     ]
    }
   ],
   "source": [
    "print(data.Species.unique())"
   ]
  },
  {
   "cell_type": "code",
   "execution_count": 30,
   "metadata": {
    "_uuid": "d6bd22f365ff765d75c5dba3f1d2609bfbe09523",
    "collapsed": true
   },
   "outputs": [
    {
     "name": "stdout",
     "output_type": "stream",
     "text": [
      "<class 'pandas.core.frame.DataFrame'>\n",
      "RangeIndex: 150 entries, 0 to 149\n",
      "Data columns (total 6 columns):\n",
      "Id               150 non-null int64\n",
      "SepalLengthCm    150 non-null float64\n",
      "SepalWidthCm     150 non-null float64\n",
      "PetalLengthCm    150 non-null float64\n",
      "PetalWidthCm     150 non-null float64\n",
      "Species          150 non-null object\n",
      "dtypes: float64(4), int64(1), object(1)\n",
      "memory usage: 7.1+ KB\n"
     ]
    }
   ],
   "source": [
    "data.info()"
   ]
  },
  {
   "cell_type": "code",
   "execution_count": 31,
   "metadata": {
    "_uuid": "75859b43e3c96aa3908db8aff61d20c3091b23f4",
    "collapsed": true
   },
   "outputs": [
    {
     "data": {
      "text/html": [
       "<div>\n",
       "<style scoped>\n",
       "    .dataframe tbody tr th:only-of-type {\n",
       "        vertical-align: middle;\n",
       "    }\n",
       "\n",
       "    .dataframe tbody tr th {\n",
       "        vertical-align: top;\n",
       "    }\n",
       "\n",
       "    .dataframe thead th {\n",
       "        text-align: right;\n",
       "    }\n",
       "</style>\n",
       "<table border=\"1\" class=\"dataframe\">\n",
       "  <thead>\n",
       "    <tr style=\"text-align: right;\">\n",
       "      <th></th>\n",
       "      <th>Id</th>\n",
       "      <th>SepalLengthCm</th>\n",
       "      <th>SepalWidthCm</th>\n",
       "      <th>PetalLengthCm</th>\n",
       "      <th>PetalWidthCm</th>\n",
       "    </tr>\n",
       "  </thead>\n",
       "  <tbody>\n",
       "    <tr>\n",
       "      <th>count</th>\n",
       "      <td>150.000000</td>\n",
       "      <td>150.000000</td>\n",
       "      <td>150.000000</td>\n",
       "      <td>150.000000</td>\n",
       "      <td>150.000000</td>\n",
       "    </tr>\n",
       "    <tr>\n",
       "      <th>mean</th>\n",
       "      <td>75.500000</td>\n",
       "      <td>5.843333</td>\n",
       "      <td>3.054000</td>\n",
       "      <td>3.758667</td>\n",
       "      <td>1.198667</td>\n",
       "    </tr>\n",
       "    <tr>\n",
       "      <th>std</th>\n",
       "      <td>43.445368</td>\n",
       "      <td>0.828066</td>\n",
       "      <td>0.433594</td>\n",
       "      <td>1.764420</td>\n",
       "      <td>0.763161</td>\n",
       "    </tr>\n",
       "    <tr>\n",
       "      <th>min</th>\n",
       "      <td>1.000000</td>\n",
       "      <td>4.300000</td>\n",
       "      <td>2.000000</td>\n",
       "      <td>1.000000</td>\n",
       "      <td>0.100000</td>\n",
       "    </tr>\n",
       "    <tr>\n",
       "      <th>25%</th>\n",
       "      <td>38.250000</td>\n",
       "      <td>5.100000</td>\n",
       "      <td>2.800000</td>\n",
       "      <td>1.600000</td>\n",
       "      <td>0.300000</td>\n",
       "    </tr>\n",
       "    <tr>\n",
       "      <th>50%</th>\n",
       "      <td>75.500000</td>\n",
       "      <td>5.800000</td>\n",
       "      <td>3.000000</td>\n",
       "      <td>4.350000</td>\n",
       "      <td>1.300000</td>\n",
       "    </tr>\n",
       "    <tr>\n",
       "      <th>75%</th>\n",
       "      <td>112.750000</td>\n",
       "      <td>6.400000</td>\n",
       "      <td>3.300000</td>\n",
       "      <td>5.100000</td>\n",
       "      <td>1.800000</td>\n",
       "    </tr>\n",
       "    <tr>\n",
       "      <th>max</th>\n",
       "      <td>150.000000</td>\n",
       "      <td>7.900000</td>\n",
       "      <td>4.400000</td>\n",
       "      <td>6.900000</td>\n",
       "      <td>2.500000</td>\n",
       "    </tr>\n",
       "  </tbody>\n",
       "</table>\n",
       "</div>"
      ],
      "text/plain": [
       "               Id  SepalLengthCm      ...       PetalLengthCm  PetalWidthCm\n",
       "count  150.000000     150.000000      ...          150.000000    150.000000\n",
       "mean    75.500000       5.843333      ...            3.758667      1.198667\n",
       "std     43.445368       0.828066      ...            1.764420      0.763161\n",
       "min      1.000000       4.300000      ...            1.000000      0.100000\n",
       "25%     38.250000       5.100000      ...            1.600000      0.300000\n",
       "50%     75.500000       5.800000      ...            4.350000      1.300000\n",
       "75%    112.750000       6.400000      ...            5.100000      1.800000\n",
       "max    150.000000       7.900000      ...            6.900000      2.500000\n",
       "\n",
       "[8 rows x 5 columns]"
      ]
     },
     "execution_count": 31,
     "metadata": {},
     "output_type": "execute_result"
    }
   ],
   "source": [
    "data.describe()"
   ]
  },
  {
   "cell_type": "code",
   "execution_count": 32,
   "metadata": {
    "_uuid": "5acceff465c1b5c2b27a5c40f5b2356f20cfbe94",
    "collapsed": true
   },
   "outputs": [
    {
     "data": {
      "text/html": [
       "<div>\n",
       "<style scoped>\n",
       "    .dataframe tbody tr th:only-of-type {\n",
       "        vertical-align: middle;\n",
       "    }\n",
       "\n",
       "    .dataframe tbody tr th {\n",
       "        vertical-align: top;\n",
       "    }\n",
       "\n",
       "    .dataframe thead th {\n",
       "        text-align: right;\n",
       "    }\n",
       "</style>\n",
       "<table border=\"1\" class=\"dataframe\">\n",
       "  <thead>\n",
       "    <tr style=\"text-align: right;\">\n",
       "      <th></th>\n",
       "      <th>SepalLengthCm</th>\n",
       "      <th>SepalWidthCm</th>\n",
       "      <th>PetalLengthCm</th>\n",
       "      <th>PetalWidthCm</th>\n",
       "    </tr>\n",
       "  </thead>\n",
       "  <tbody>\n",
       "    <tr>\n",
       "      <th>SepalLengthCm</th>\n",
       "      <td>1.000000</td>\n",
       "      <td>-0.109369</td>\n",
       "      <td>0.871754</td>\n",
       "      <td>0.817954</td>\n",
       "    </tr>\n",
       "    <tr>\n",
       "      <th>SepalWidthCm</th>\n",
       "      <td>-0.109369</td>\n",
       "      <td>1.000000</td>\n",
       "      <td>-0.420516</td>\n",
       "      <td>-0.356544</td>\n",
       "    </tr>\n",
       "    <tr>\n",
       "      <th>PetalLengthCm</th>\n",
       "      <td>0.871754</td>\n",
       "      <td>-0.420516</td>\n",
       "      <td>1.000000</td>\n",
       "      <td>0.962757</td>\n",
       "    </tr>\n",
       "    <tr>\n",
       "      <th>PetalWidthCm</th>\n",
       "      <td>0.817954</td>\n",
       "      <td>-0.356544</td>\n",
       "      <td>0.962757</td>\n",
       "      <td>1.000000</td>\n",
       "    </tr>\n",
       "  </tbody>\n",
       "</table>\n",
       "</div>"
      ],
      "text/plain": [
       "               SepalLengthCm      ...       PetalWidthCm\n",
       "SepalLengthCm       1.000000      ...           0.817954\n",
       "SepalWidthCm       -0.109369      ...          -0.356544\n",
       "PetalLengthCm       0.871754      ...           0.962757\n",
       "PetalWidthCm        0.817954      ...           1.000000\n",
       "\n",
       "[4 rows x 4 columns]"
      ]
     },
     "execution_count": 32,
     "metadata": {},
     "output_type": "execute_result"
    }
   ],
   "source": [
    "df1 = data.drop([\"Id\"],axis=1)\n",
    "df1.corr()"
   ]
  },
  {
   "cell_type": "code",
   "execution_count": 33,
   "metadata": {
    "_uuid": "808ae3fb573c385295bcd15d9a533a45ecb31043",
    "collapsed": true
   },
   "outputs": [
    {
     "name": "stdout",
     "output_type": "stream",
     "text": [
      "             Id  SepalLengthCm      ...       PetalLengthCm  PetalWidthCm\n",
      "count  50.00000       50.00000      ...           50.000000      50.00000\n",
      "mean   25.50000        5.00600      ...            1.464000       0.24400\n",
      "std    14.57738        0.35249      ...            0.173511       0.10721\n",
      "min     1.00000        4.30000      ...            1.000000       0.10000\n",
      "25%    13.25000        4.80000      ...            1.400000       0.20000\n",
      "50%    25.50000        5.00000      ...            1.500000       0.20000\n",
      "75%    37.75000        5.20000      ...            1.575000       0.30000\n",
      "max    50.00000        5.80000      ...            1.900000       0.60000\n",
      "\n",
      "[8 rows x 5 columns]\n",
      "              Id  SepalLengthCm      ...       PetalLengthCm  PetalWidthCm\n",
      "count   50.00000      50.000000      ...           50.000000     50.000000\n",
      "mean    75.50000       5.936000      ...            4.260000      1.326000\n",
      "std     14.57738       0.516171      ...            0.469911      0.197753\n",
      "min     51.00000       4.900000      ...            3.000000      1.000000\n",
      "25%     63.25000       5.600000      ...            4.000000      1.200000\n",
      "50%     75.50000       5.900000      ...            4.350000      1.300000\n",
      "75%     87.75000       6.300000      ...            4.600000      1.500000\n",
      "max    100.00000       7.000000      ...            5.100000      1.800000\n",
      "\n",
      "[8 rows x 5 columns]\n"
     ]
    }
   ],
   "source": [
    "setosa = data[data.Species == \"Iris-setosa\"]\n",
    "versicolor = data[data.Species == \"Iris-versicolor\"]\n",
    "print(setosa.describe())\n",
    "print(versicolor.describe())"
   ]
  },
  {
   "cell_type": "code",
   "execution_count": 34,
   "metadata": {
    "_uuid": "432d8e2c3bb84bd9d7dcc084bd18347e816445b7"
   },
   "outputs": [
    {
     "data": {
      "image/png": "[encoded data removed]",
      "text/plain": [
       "<Figure size 432x288 with 1 Axes>"
      ]
     },
     "metadata": {},
     "output_type": "display_data"
    }
   ],
   "source": [
    "import matplotlib.pyplot as plt\n",
    "\n",
    "setosa = data[data.Species == \"Iris-setosa\"]\n",
    "versicolor = data[data.Species == \"Iris-versicolor\"]\n",
    "virginica = data[data.Species == \"Iris-virginica\"]\n",
    "\n",
    "plt.plot(setosa.Id,setosa.PetalLengthCm,color=\"red\",label= \"setosa\")\n",
    "plt.plot(versicolor.Id,versicolor.PetalLengthCm,color=\"green\",label= \"versicolor\")\n",
    "plt.plot(virginica.Id,virginica.PetalLengthCm,color=\"blue\",label= \"virginica\")\n",
    "plt.legend()\n",
    "plt.xlabel(\"Id\")\n",
    "plt.ylabel(\"PetalLengthCm\")\n",
    "plt.show()\n",
    "\n",
    "# clf() = cleans it up again you can start a fresh\n",
    "#plt.clf()"
   ]
  },
  {
   "cell_type": "markdown",
   "execution_count": null,
   "metadata": {},
   "source": [
    "\n",
    "     \n",
    "<a class=\"anchor\" id=\"30.\"></a> \n",
    "## line Plot example"
   ]
  },
  {
   "cell_type": "code",
   "execution_count": 35,
   "metadata": {
    "_uuid": "0ffe93b66174e50a54b722f9500f53041a355601"
   },
   "outputs": [
    {
     "data": {
      "image/png": "[encoded data removed]",
      "text/plain": [
       "<Figure size 432x288 with 1 Axes>"
      ]
     },
     "metadata": {},
     "output_type": "display_data"
    }
   ],
   "source": [
    "\n",
    "# color = color, label = label, linewidth = width of line, alpha = opacity, grid = grid, linestyle = sytle of line\n",
    "data.SepalLengthCm.plot(kind = 'line', color = 'g',label = 'SepalLengthCm',linewidth=1,alpha = 0.5,grid = True,linestyle = ':')\n",
    "data.PetalLengthCm.plot(color = 'r',label = 'PetalLengthCm',linewidth=1, alpha = 0.5,grid = True,linestyle = '-.')\n",
    "plt.legend(loc='upper right')     # legend = puts label into plot\n",
    "plt.xlabel('x axis')              # label = name of label\n",
    "plt.ylabel('y axis')\n",
    "plt.title('Line Plot')            # title = title of plot\n",
    "plt.show()"
   ]
  },
  {
   "cell_type": "markdown",
   "execution_count": null,
   "metadata": {},
   "source": [
    "\n",
    "<a class=\"anchor\" id=\"31.\"></a> \n",
    "## scatter plot"
   ]
  },
  {
   "cell_type": "code",
   "execution_count": 36,
   "metadata": {
    "_uuid": "96399300317ddd073d22011e230f3aade5b5f23f"
   },
   "outputs": [
    {
     "data": {
      "image/png": "[encoded data removed]",
      "text/plain": [
       "<Figure size 432x288 with 1 Axes>"
      ]
     },
     "metadata": {},
     "output_type": "display_data"
    }
   ],
   "source": [
    "\n",
    "setosa = data[data.Species == \"Iris-setosa\"]\n",
    "versicolor = data[data.Species == \"Iris-versicolor\"]\n",
    "virginica = data[data.Species == \"Iris-virginica\"]\n",
    "\n",
    "plt.scatter(setosa.PetalLengthCm,setosa.PetalWidthCm,color=\"red\",label=\"setosa\")\n",
    "plt.scatter(versicolor.PetalLengthCm,versicolor.PetalWidthCm,color=\"green\",label=\"versicolor\")\n",
    "plt.scatter(virginica.PetalLengthCm,virginica.PetalWidthCm,color=\"blue\",label=\"virginica\")\n",
    "plt.legend()\n",
    "plt.xlabel(\"PetalLengthCm\")\n",
    "plt.ylabel(\"PetalWidthCm\")\n",
    "plt.title(\"scatter plot\")\n",
    "plt.show()"
   ]
  },
  {
   "cell_type": "markdown",
   "execution_count": null,
   "metadata": {},
   "source": [
    "\n",
    "      \n",
    "<a class=\"anchor\" id=\"32.\"></a> \n",
    "## histogram"
   ]
  },
  {
   "cell_type": "code",
   "execution_count": 37,
   "metadata": {
    "_uuid": "3c06cf8beb0415b422b1d398b0e1400cba83c749"
   },
   "outputs": [
    {
     "data": {
      "image/png": "[encoded data removed]",
      "text/plain": [
       "<Figure size 432x288 with 1 Axes>"
      ]
     },
     "metadata": {},
     "output_type": "display_data"
    }
   ],
   "source": [
    "\n",
    "plt.hist(setosa.PetalLengthCm,bins= 10)\n",
    "plt.xlabel(\"PetalLengthCm values\")\n",
    "plt.ylabel(\"frekans\")\n",
    "plt.title(\"hist\")\n",
    "plt.show()"
   ]
  },
  {
   "cell_type": "markdown",
   "execution_count": null,
   "metadata": {},
   "source": [
    "\n",
    "<a class=\"anchor\" id=\"33.\"></a> \n",
    "## bar plot"
   ]
  },
  {
   "cell_type": "code",
   "execution_count": 38,
   "metadata": {
    "_uuid": "031b747e37242b1e328833051b5b7c356f96baf8",
    "collapsed": true
   },
   "outputs": [
    {
     "data": {
      "image/png": "[encoded data removed]",
      "text/plain": [
       "<Figure size 432x288 with 1 Axes>"
      ]
     },
     "metadata": {},
     "output_type": "display_data"
    }
   ],
   "source": [
    "\n",
    "import numpy as np\n",
    "\n",
    "x = np.array([1,2,3,4,5,6,7])\n",
    "a = [\"turkey\",\"usa\",\"a\",\"b\",\"v\",\"d\",\"s\"]\n",
    "y = x*2+5\n",
    "\n",
    "plt.bar(a,y)\n",
    "plt.title(\"bar plot\")\n",
    "plt.xlabel(\"x\")\n",
    "plt.ylabel(\"y\")\n",
    "plt.show()"
   ]
  },
  {
   "cell_type": "markdown",
   "execution_count": null,
   "metadata": {},
   "source": [
    "    \n",
    "<a class=\"anchor\" id=\"34.\"></a> \n",
    "## subplots"
   ]
  },
  {
   "cell_type": "code",
   "execution_count": 39,
   "metadata": {
    "_uuid": "6a7dd2ac850611be29f9b5d96d8529344c23d086",
    "collapsed": true
   },
   "outputs": [
    {
     "data": {
      "image/png": "[encoded data removed]",
      "text/plain": [
       "<Figure size 432x288 with 4 Axes>"
      ]
     },
     "metadata": {},
     "output_type": "display_data"
    },
    {
     "data": {
      "image/png": "[encoded data removed]",
      "text/plain": [
       "<Figure size 432x288 with 2 Axes>"
      ]
     },
     "metadata": {},
     "output_type": "display_data"
    }
   ],
   "source": [
    "\n",
    "df1 = data.drop([\"Id\"],axis=1)\n",
    "df1.plot(grid=True,alpha= 0.9,subplots = True)\n",
    "plt.show()\n",
    "\n",
    "setosa = data[data.Species == \"Iris-setosa\"]\n",
    "versicolor = data[data.Species == \"Iris-versicolor\"]\n",
    "virginica = data[data.Species == \"Iris-virginica\"]\n",
    "\n",
    "plt.subplot(2,1,1)\n",
    "plt.plot(setosa.Id,setosa.PetalLengthCm,color=\"red\",label= \"setosa\")\n",
    "plt.ylabel(\"setosa -PetalLengthCm\")\n",
    "plt.subplot(2,1,2)\n",
    "plt.plot(versicolor.Id,versicolor.PetalLengthCm,color=\"green\",label= \"versicolor\")\n",
    "plt.ylabel(\"versicolor -PetalLengthCm\")\n",
    "plt.show()\n"
   ]
  }
 ],
 "metadata": {
  "kernelspec": {
   "display_name": "Python 3",
   "language": "python",
   "name": "python3"
  },
  "language_info": {
   "codemirror_mode": {
    "name": "ipython",
    "version": 3
   },
   "file_extension": ".py",
   "mimetype": "text/x-python",
   "name": "python",
   "nbconvert_exporter": "python",
   "pygments_lexer": "ipython3",
   "version": "3.6.4"
  }
 },
 "nbformat": 4,
 "nbformat_minor": 4
}
