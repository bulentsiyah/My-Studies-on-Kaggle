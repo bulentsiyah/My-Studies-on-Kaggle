{
 "cells": [
  {
   "cell_type": "markdown",
   "execution_count": null,
   "metadata": {
    "_cell_guid": "b1076dfc-b9ad-4769-8c92-a6c4dae69d19",
    "_uuid": "8f2839f25d086af736a60e9eeb907d3b93b6e0e5"
   },
   "source": [
    "It is the kernel that I have tried and compiled from the courses of [İbrahim Cebeci](https://www.udemy.com/user/ibrahim-cebeci-2/) (Language of the courses is Turkish: [Doğal Dil İşleme A-Z™: (NLP)](https://www.udemy.com/course/dogal-dil-isleme/)), which is has more than 6 courses on Udemy.\n",
    "\n",
    "# Content\n",
    "\n",
    "\n",
    "#### [1.StopWords - Stemmer - Count Vectorizer](#1.)\n",
    "#### [2.Reg.Exp.- Lemmatization - Bag of Words](#2.)\n",
    "#### [3.NLTK - Word2Vec(SkipGram,CBOW) - Glove](#3.)\n",
    "\n",
    "![](https://iili.io/JGUWve.png)"
   ]
  },
  {
   "cell_type": "markdown",
   "execution_count": null,
   "metadata": {},
   "source": [
    "\n",
    "<a id=\"1.\"></a> \n",
    "# 1.StopWords - Stemmer - Count Vectorizer"
   ]
  },
  {
   "cell_type": "code",
   "execution_count": 1,
   "metadata": {},
   "outputs": [
    {
     "name": "stdout",
     "output_type": "stream",
     "text": [
      "[nltk_data] Error loading stopwords: <urlopen error [Errno -2] Name or\n",
      "[nltk_data]     service not known>\n"
     ]
    },
    {
     "data": {
      "text/html": [
       "<div>\n",
       "<style scoped>\n",
       "    .dataframe tbody tr th:only-of-type {\n",
       "        vertical-align: middle;\n",
       "    }\n",
       "\n",
       "    .dataframe tbody tr th {\n",
       "        vertical-align: top;\n",
       "    }\n",
       "\n",
       "    .dataframe thead th {\n",
       "        text-align: right;\n",
       "    }\n",
       "</style>\n",
       "<table border=\"1\" class=\"dataframe\">\n",
       "  <thead>\n",
       "    <tr style=\"text-align: right;\">\n",
       "      <th></th>\n",
       "      <th>Review</th>\n",
       "      <th>Liked</th>\n",
       "    </tr>\n",
       "  </thead>\n",
       "  <tbody>\n",
       "    <tr>\n",
       "      <th>0</th>\n",
       "      <td>Wow... Loved this place.</td>\n",
       "      <td>1</td>\n",
       "    </tr>\n",
       "    <tr>\n",
       "      <th>1</th>\n",
       "      <td>Crust is not good.</td>\n",
       "      <td>0</td>\n",
       "    </tr>\n",
       "    <tr>\n",
       "      <th>2</th>\n",
       "      <td>Not tasty and the texture was just nasty.</td>\n",
       "      <td>0</td>\n",
       "    </tr>\n",
       "    <tr>\n",
       "      <th>3</th>\n",
       "      <td>Stopped by during the late May bank holiday of...</td>\n",
       "      <td>1</td>\n",
       "    </tr>\n",
       "    <tr>\n",
       "      <th>4</th>\n",
       "      <td>The selection on the menu was great and so wer...</td>\n",
       "      <td>1</td>\n",
       "    </tr>\n",
       "  </tbody>\n",
       "</table>\n",
       "</div>"
      ],
      "text/plain": [
       "                                              Review  Liked\n",
       "0                           Wow... Loved this place.      1\n",
       "1                                 Crust is not good.      0\n",
       "2          Not tasty and the texture was just nasty.      0\n",
       "3  Stopped by during the late May bank holiday of...      1\n",
       "4  The selection on the menu was great and so wer...      1"
      ]
     },
     "execution_count": 1,
     "metadata": {},
     "output_type": "execute_result"
    }
   ],
   "source": [
    "import numpy as np # linear algebra\n",
    "import pandas as pd # data processing, CSV file I/O (e.g. pd.read_csv)\n",
    "\n",
    "import re\n",
    "import nltk\n",
    "\n",
    "from nltk.stem.porter import PorterStemmer\n",
    "ps = PorterStemmer()\n",
    "\n",
    "nltk.download('stopwords')\n",
    "from nltk.corpus import stopwords\n",
    "stopwords.words('english')\n",
    "\n",
    "yorumlar = pd.read_csv('../input/restaurant-reviews/Restaurant_Reviews.csv')\n",
    "yorumlar.head()"
   ]
  },
  {
   "cell_type": "markdown",
   "execution_count": null,
   "metadata": {},
   "source": [
    "## Regular Expression\n",
    "### SparceMatrix-StopWords-Stemmer"
   ]
  },
  {
   "cell_type": "code",
   "execution_count": 2,
   "metadata": {},
   "outputs": [
    {
     "data": {
      "text/plain": [
       "['wow love place',\n",
       " 'crust good',\n",
       " 'tasti textur nasti',\n",
       " 'stop late may bank holiday rick steve recommend love',\n",
       " 'select menu great price']"
      ]
     },
     "execution_count": 2,
     "metadata": {},
     "output_type": "execute_result"
    }
   ],
   "source": [
    "#import re #regular expression\n",
    "#Preprocessing (Önişleme) -- SparceMatrix-StopWords-Stemmer\n",
    "derlem = []\n",
    "for i in range(len(yorumlar)):\n",
    "    yorum = re.sub('[^a-zA-Z]',' ',yorumlar['Review'][i])\n",
    "    yorum = yorum.lower()\n",
    "    yorum = yorum.split()\n",
    "    yorum = [ps.stem(kelime) for kelime in yorum if not kelime in set(stopwords.words('english'))] #stopwords.words('turkish')\n",
    "    yorum = ' '.join(yorum) #vektor için list değil string hali gerekli\n",
    "    derlem.append(yorum)\n",
    "    \n",
    "derlem[0:5]"
   ]
  },
  {
   "cell_type": "markdown",
   "execution_count": null,
   "metadata": {},
   "source": [
    "## CountVectorizer\n",
    "### Bag of Words (BOW)"
   ]
  },
  {
   "cell_type": "code",
   "execution_count": 3,
   "metadata": {},
   "outputs": [
    {
     "name": "stdout",
     "output_type": "stream",
     "text": [
      "[[0 0 0 ... 0 0 0]\n",
      " [0 0 0 ... 0 0 0]\n",
      " [0 0 0 ... 0 0 0]\n",
      " [0 0 0 ... 0 0 0]\n",
      " [0 0 0 ... 0 0 0]]\n",
      "[1 0 0 1 1]\n"
     ]
    }
   ],
   "source": [
    "#Feautre Extraction ( Öznitelik Çıkarımı) -- CountVectorizer\n",
    "#Bag of Words (BOW)\n",
    "from sklearn.feature_extraction.text import CountVectorizer\n",
    "cv = CountVectorizer(max_features = 2000) #kelımelerden en cok kullanılan kac tane alınsın \n",
    "X = cv.fit_transform(derlem).toarray() # bağımsız değişken\n",
    "y = yorumlar.iloc[:,1].values # bağımlı değişken\n",
    "print(X[0:5])\n",
    "print(y[0:5])"
   ]
  },
  {
   "cell_type": "code",
   "execution_count": 4,
   "metadata": {},
   "outputs": [
    {
     "data": {
      "text/plain": [
       "Text(0.5,1,'Liked')"
      ]
     },
     "execution_count": 4,
     "metadata": {},
     "output_type": "execute_result"
    },
    {
     "data": {
      "image/png": "[encoded data removed]",
      "text/plain": [
       "<Figure size 1080x504 with 1 Axes>"
      ]
     },
     "metadata": {
      "needs_background": "light"
     },
     "output_type": "display_data"
    }
   ],
   "source": [
    "import seaborn as sns\n",
    "import matplotlib.pyplot as plt\n",
    "# visualize number of digits classes\n",
    "plt.figure(figsize=(15,7))\n",
    "sns.countplot(y)\n",
    "plt.title(\"Liked\")"
   ]
  },
  {
   "cell_type": "code",
   "execution_count": 5,
   "metadata": {},
   "outputs": [
    {
     "name": "stderr",
     "output_type": "stream",
     "text": [
      "/opt/conda/lib/python3.6/site-packages/sklearn/cross_validation.py:41: DeprecationWarning: This module was deprecated in version 0.18 in favor of the model_selection module into which all the refactored classes and functions are moved. Also note that the interface of the new CV iterators are different from that of this module. This module will be removed in 0.20.\n",
      "  \"This module will be removed in 0.20.\", DeprecationWarning)\n"
     ]
    },
    {
     "name": "stdout",
     "output_type": "stream",
     "text": [
      "score:  0.725\n"
     ]
    },
    {
     "data": {
      "image/png": "[encoded data removed]",
      "text/plain": [
       "<Figure size 360x360 with 2 Axes>"
      ]
     },
     "metadata": {
      "needs_background": "light"
     },
     "output_type": "display_data"
    }
   ],
   "source": [
    "from sklearn.cross_validation import train_test_split\n",
    "X_train, X_test, y_train, y_test = train_test_split(X, y, test_size = 0.20, random_state = 0)\n",
    "\n",
    "from sklearn.naive_bayes import GaussianNB\n",
    "gnb = GaussianNB()\n",
    "gnb.fit(X_train,y_train)\n",
    "\n",
    "y_pred = gnb.predict(X_test)\n",
    "\n",
    "from sklearn.metrics import confusion_matrix\n",
    "cm = confusion_matrix(y_test,y_pred)\n",
    "#print(cm)\n",
    "print(\"score: \",gnb.score(X_test,y_test))\n",
    "\n",
    "# %% cm visualization\n",
    "import seaborn as sns\n",
    "import matplotlib.pyplot as plt\n",
    "f, ax = plt.subplots(figsize =(5,5))\n",
    "sns.heatmap(cm,annot = True,linewidths=0.5,linecolor=\"red\",fmt = \".0f\",ax=ax)\n",
    "plt.xlabel(\"y_pred\")\n",
    "plt.ylabel(\"y_true\")\n",
    "plt.show()"
   ]
  },
  {
   "cell_type": "markdown",
   "execution_count": null,
   "metadata": {},
   "source": [
    "\n",
    "<a id=\"2.\"></a> \n",
    "# 2.Reg.Exp.- Lemmatization - Bag of Words"
   ]
  },
  {
   "cell_type": "code",
   "execution_count": 6,
   "metadata": {},
   "outputs": [
    {
     "name": "stdout",
     "output_type": "stream",
     "text": [
      "[nltk_data] Error loading stopwords: <urlopen error [Errno -2] Name or\n",
      "[nltk_data]     service not known>\n"
     ]
    },
    {
     "data": {
      "text/html": [
       "<div>\n",
       "<style scoped>\n",
       "    .dataframe tbody tr th:only-of-type {\n",
       "        vertical-align: middle;\n",
       "    }\n",
       "\n",
       "    .dataframe tbody tr th {\n",
       "        vertical-align: top;\n",
       "    }\n",
       "\n",
       "    .dataframe thead th {\n",
       "        text-align: right;\n",
       "    }\n",
       "</style>\n",
       "<table border=\"1\" class=\"dataframe\">\n",
       "  <thead>\n",
       "    <tr style=\"text-align: right;\">\n",
       "      <th></th>\n",
       "      <th>_unit_id</th>\n",
       "      <th>_golden</th>\n",
       "      <th>_unit_state</th>\n",
       "      <th>_trusted_judgments</th>\n",
       "      <th>_last_judgment_at</th>\n",
       "      <th>gender</th>\n",
       "      <th>gender:confidence</th>\n",
       "      <th>profile_yn</th>\n",
       "      <th>profile_yn:confidence</th>\n",
       "      <th>created</th>\n",
       "      <th>description</th>\n",
       "      <th>fav_number</th>\n",
       "      <th>gender_gold</th>\n",
       "      <th>link_color</th>\n",
       "      <th>name</th>\n",
       "      <th>profile_yn_gold</th>\n",
       "      <th>profileimage</th>\n",
       "      <th>retweet_count</th>\n",
       "      <th>sidebar_color</th>\n",
       "      <th>text</th>\n",
       "      <th>tweet_coord</th>\n",
       "      <th>tweet_count</th>\n",
       "      <th>tweet_created</th>\n",
       "      <th>tweet_id</th>\n",
       "      <th>tweet_location</th>\n",
       "      <th>user_timezone</th>\n",
       "    </tr>\n",
       "  </thead>\n",
       "  <tbody>\n",
       "    <tr>\n",
       "      <th>0</th>\n",
       "      <td>815719226</td>\n",
       "      <td>False</td>\n",
       "      <td>finalized</td>\n",
       "      <td>3</td>\n",
       "      <td>10/26/15 23:24</td>\n",
       "      <td>male</td>\n",
       "      <td>1.0000</td>\n",
       "      <td>yes</td>\n",
       "      <td>1.0</td>\n",
       "      <td>12/5/13 1:48</td>\n",
       "      <td>i sing my own rhythm.</td>\n",
       "      <td>0</td>\n",
       "      <td>NaN</td>\n",
       "      <td>08C2C2</td>\n",
       "      <td>sheezy0</td>\n",
       "      <td>NaN</td>\n",
       "      <td>https://pbs.twimg.com/profile_images/414342229...</td>\n",
       "      <td>0</td>\n",
       "      <td>FFFFFF</td>\n",
       "      <td>Robbie E Responds To Critics After Win Against...</td>\n",
       "      <td>NaN</td>\n",
       "      <td>110964</td>\n",
       "      <td>10/26/15 12:40</td>\n",
       "      <td>6.587300e+17</td>\n",
       "      <td>main; @Kan1shk3</td>\n",
       "      <td>Chennai</td>\n",
       "    </tr>\n",
       "    <tr>\n",
       "      <th>1</th>\n",
       "      <td>815719227</td>\n",
       "      <td>False</td>\n",
       "      <td>finalized</td>\n",
       "      <td>3</td>\n",
       "      <td>10/26/15 23:30</td>\n",
       "      <td>male</td>\n",
       "      <td>1.0000</td>\n",
       "      <td>yes</td>\n",
       "      <td>1.0</td>\n",
       "      <td>10/1/12 13:51</td>\n",
       "      <td>I'm the author of novels filled with family dr...</td>\n",
       "      <td>68</td>\n",
       "      <td>NaN</td>\n",
       "      <td>0084B4</td>\n",
       "      <td>DavdBurnett</td>\n",
       "      <td>NaN</td>\n",
       "      <td>https://pbs.twimg.com/profile_images/539604221...</td>\n",
       "      <td>0</td>\n",
       "      <td>C0DEED</td>\n",
       "      <td>ÛÏIt felt like they were my friends and I was...</td>\n",
       "      <td>NaN</td>\n",
       "      <td>7471</td>\n",
       "      <td>10/26/15 12:40</td>\n",
       "      <td>6.587300e+17</td>\n",
       "      <td>NaN</td>\n",
       "      <td>Eastern Time (US &amp; Canada)</td>\n",
       "    </tr>\n",
       "    <tr>\n",
       "      <th>2</th>\n",
       "      <td>815719228</td>\n",
       "      <td>False</td>\n",
       "      <td>finalized</td>\n",
       "      <td>3</td>\n",
       "      <td>10/26/15 23:33</td>\n",
       "      <td>male</td>\n",
       "      <td>0.6625</td>\n",
       "      <td>yes</td>\n",
       "      <td>1.0</td>\n",
       "      <td>11/28/14 11:30</td>\n",
       "      <td>louis whining and squealing and all</td>\n",
       "      <td>7696</td>\n",
       "      <td>NaN</td>\n",
       "      <td>ABB8C2</td>\n",
       "      <td>lwtprettylaugh</td>\n",
       "      <td>NaN</td>\n",
       "      <td>https://pbs.twimg.com/profile_images/657330418...</td>\n",
       "      <td>1</td>\n",
       "      <td>C0DEED</td>\n",
       "      <td>i absolutely adore when louis starts the songs...</td>\n",
       "      <td>NaN</td>\n",
       "      <td>5617</td>\n",
       "      <td>10/26/15 12:40</td>\n",
       "      <td>6.587300e+17</td>\n",
       "      <td>clcncl</td>\n",
       "      <td>Belgrade</td>\n",
       "    </tr>\n",
       "    <tr>\n",
       "      <th>3</th>\n",
       "      <td>815719229</td>\n",
       "      <td>False</td>\n",
       "      <td>finalized</td>\n",
       "      <td>3</td>\n",
       "      <td>10/26/15 23:10</td>\n",
       "      <td>male</td>\n",
       "      <td>1.0000</td>\n",
       "      <td>yes</td>\n",
       "      <td>1.0</td>\n",
       "      <td>6/11/09 22:39</td>\n",
       "      <td>Mobile guy.  49ers, Shazam, Google, Kleiner Pe...</td>\n",
       "      <td>202</td>\n",
       "      <td>NaN</td>\n",
       "      <td>0084B4</td>\n",
       "      <td>douggarland</td>\n",
       "      <td>NaN</td>\n",
       "      <td>https://pbs.twimg.com/profile_images/259703936...</td>\n",
       "      <td>0</td>\n",
       "      <td>C0DEED</td>\n",
       "      <td>Hi @JordanSpieth - Looking at the url - do you...</td>\n",
       "      <td>NaN</td>\n",
       "      <td>1693</td>\n",
       "      <td>10/26/15 12:40</td>\n",
       "      <td>6.587300e+17</td>\n",
       "      <td>Palo Alto, CA</td>\n",
       "      <td>Pacific Time (US &amp; Canada)</td>\n",
       "    </tr>\n",
       "    <tr>\n",
       "      <th>4</th>\n",
       "      <td>815719230</td>\n",
       "      <td>False</td>\n",
       "      <td>finalized</td>\n",
       "      <td>3</td>\n",
       "      <td>10/27/15 1:15</td>\n",
       "      <td>female</td>\n",
       "      <td>1.0000</td>\n",
       "      <td>yes</td>\n",
       "      <td>1.0</td>\n",
       "      <td>4/16/14 13:23</td>\n",
       "      <td>Ricky Wilson The Best FRONTMAN/Kaiser Chiefs T...</td>\n",
       "      <td>37318</td>\n",
       "      <td>NaN</td>\n",
       "      <td>3B94D9</td>\n",
       "      <td>WilfordGemma</td>\n",
       "      <td>NaN</td>\n",
       "      <td>https://pbs.twimg.com/profile_images/564094871...</td>\n",
       "      <td>0</td>\n",
       "      <td>0</td>\n",
       "      <td>Watching Neighbours on Sky+ catching up with t...</td>\n",
       "      <td>NaN</td>\n",
       "      <td>31462</td>\n",
       "      <td>10/26/15 12:40</td>\n",
       "      <td>6.587300e+17</td>\n",
       "      <td>NaN</td>\n",
       "      <td>NaN</td>\n",
       "    </tr>\n",
       "  </tbody>\n",
       "</table>\n",
       "</div>"
      ],
      "text/plain": [
       "    _unit_id             ...                           user_timezone\n",
       "0  815719226             ...                                 Chennai\n",
       "1  815719227             ...              Eastern Time (US & Canada)\n",
       "2  815719228             ...                                Belgrade\n",
       "3  815719229             ...              Pacific Time (US & Canada)\n",
       "4  815719230             ...                                     NaN\n",
       "\n",
       "[5 rows x 26 columns]"
      ]
     },
     "execution_count": 6,
     "metadata": {},
     "output_type": "execute_result"
    }
   ],
   "source": [
    "import pandas as pd\n",
    "import re\n",
    "import nltk # natural language tool kit\n",
    "nltk.download(\"stopwords\")      # corpus diye bir kalsore indiriliyor\n",
    "from nltk.corpus import stopwords  # sonra ben corpus klasorunden import ediyorum\n",
    "\n",
    "import nltk as nlp\n",
    "lemma = nlp.WordNetLemmatizer()\n",
    "\n",
    "from nltk.stem.porter import PorterStemmer\n",
    "ps = PorterStemmer()\n",
    "\n",
    "# %% import twitter data\n",
    "data = pd.read_csv(r\"../input/twitter-user-gender-classification/gender-classifier-DFE-791531.csv\",encoding = \"latin1\")\n",
    "data.head()"
   ]
  },
  {
   "cell_type": "code",
   "execution_count": 7,
   "metadata": {},
   "outputs": [
    {
     "name": "stdout",
     "output_type": "stream",
     "text": [
      "<class 'pandas.core.frame.DataFrame'>\n",
      "RangeIndex: 20050 entries, 0 to 20049\n",
      "Data columns (total 2 columns):\n",
      "gender         19953 non-null object\n",
      "description    16306 non-null object\n",
      "dtypes: object(2)\n",
      "memory usage: 313.4+ KB\n",
      "None\n"
     ]
    }
   ],
   "source": [
    "data = pd.concat([data.gender,data.description],axis=1)\n",
    "print(data.info())"
   ]
  },
  {
   "cell_type": "code",
   "execution_count": 8,
   "metadata": {},
   "outputs": [
    {
     "name": "stdout",
     "output_type": "stream",
     "text": [
      "   gender                                        description\n",
      "0       0                              i sing my own rhythm.\n",
      "1       0  I'm the author of novels filled with family dr...\n",
      "2       0                louis whining and squealing and all\n",
      "3       0  Mobile guy.  49ers, Shazam, Google, Kleiner Pe...\n",
      "4       1  Ricky Wilson The Best FRONTMAN/Kaiser Chiefs T...\n",
      "<class 'pandas.core.frame.DataFrame'>\n",
      "Int64Index: 16224 entries, 0 to 20049\n",
      "Data columns (total 2 columns):\n",
      "gender         16224 non-null int64\n",
      "description    16224 non-null object\n",
      "dtypes: int64(1), object(1)\n",
      "memory usage: 380.2+ KB\n",
      "None\n"
     ]
    }
   ],
   "source": [
    "data.dropna(axis = 0,inplace = True)\n",
    "data.gender = [1 if each == \"female\" else 0 for each in data.gender]\n",
    "print(data.head())\n",
    "print(data.info())"
   ]
  },
  {
   "cell_type": "markdown",
   "execution_count": null,
   "metadata": {},
   "source": [
    "## Clening data "
   ]
  },
  {
   "cell_type": "code",
   "execution_count": 9,
   "metadata": {},
   "outputs": [
    {
     "data": {
      "text/plain": [
       "['sing rhythm',\n",
       " 'author novel filled family drama romance',\n",
       " 'louis whining squealing',\n",
       " 'mobile guy er shazam google kleiner perkins yahoo sprint pc airtouch air force stanford gsb uva dad husband brother golfer',\n",
       " 'ricky wilson best frontman kaiser chief best band xxxx thank kaiser chief incredible year gig memory cherish always xxxxxxx']"
      ]
     },
     "execution_count": 9,
     "metadata": {},
     "output_type": "execute_result"
    }
   ],
   "source": [
    "#%% clening data \n",
    "description_list = []\n",
    "for description in data.description:\n",
    "    # regular expression RE mesela \"[^a-zA-Z]\"\n",
    "    description = re.sub(\"[^a-zA-Z]\",\" \",description)\n",
    "    description = description.lower()   # buyuk harftan kucuk harfe cevirme\n",
    "    # description = description.split()\n",
    "    # split yerine tokenizer kullanabiliriz\n",
    "    # split kullanırsak \"shouldn't \" gibi kelimeler \"should\" ve \"not\" diye ikiye ayrılmaz ama word_tokenize() kullanirsak ayrilir\n",
    "    description = nltk.word_tokenize(description)\n",
    "    # stopwords (irrelavent words) gereksiz kelimeler\n",
    "    description = [ word for word in description if not word in set(stopwords.words(\"english\"))]\n",
    "    # lemmatazation loved => love   gitmeyecegim = > git\n",
    "    lemma = nlp.WordNetLemmatizer()\n",
    "    description = [ lemma.lemmatize(word) for word in description] #[ ps.stem(word) for word in description]\n",
    "    description = \" \".join(description)  #vektor için list değil string hali gerekli\n",
    "    description_list.append(description)\n",
    "description_list[0:5]"
   ]
  },
  {
   "cell_type": "markdown",
   "execution_count": null,
   "metadata": {},
   "source": [
    "## Bag of Words"
   ]
  },
  {
   "cell_type": "code",
   "execution_count": 10,
   "metadata": {},
   "outputs": [
    {
     "name": "stdout",
     "output_type": "stream",
     "text": [
      "en sik kullanilan 5000 kelimeden bazıları: ['aa', 'aaron', 'ab', 'abacus', 'abc']\n"
     ]
    }
   ],
   "source": [
    "# %% bag of words\n",
    "from sklearn.feature_extraction.text import CountVectorizer # bag of words yaratmak icin kullandigim metot\n",
    "max_features = 5000 #kelımelerden en cok kullanılan kac tane alınsın\n",
    "\n",
    "count_vectorizer = CountVectorizer(max_features=max_features,stop_words = \"english\")\n",
    "sparce_matrix = count_vectorizer.fit_transform(description_list).toarray()  # x bağımsız değişken\n",
    "print(\"en sik kullanilan {} kelimeden bazıları: {}\".format(max_features,count_vectorizer.get_feature_names()[0:5]))\n",
    "\n",
    "y = data.iloc[:,0].values   # male or female classes\n",
    "x = sparce_matrix"
   ]
  },
  {
   "cell_type": "code",
   "execution_count": 11,
   "metadata": {},
   "outputs": [
    {
     "data": {
      "text/plain": [
       "Text(0.5,1,'male or female classes')"
      ]
     },
     "execution_count": 11,
     "metadata": {},
     "output_type": "execute_result"
    },
    {
     "data": {
      "image/png": "[encoded data removed]",
      "text/plain": [
       "<Figure size 1080x504 with 1 Axes>"
      ]
     },
     "metadata": {
      "needs_background": "light"
     },
     "output_type": "display_data"
    }
   ],
   "source": [
    "import seaborn as sns\n",
    "import matplotlib.pyplot as plt\n",
    "# visualize number of digits classes\n",
    "plt.figure(figsize=(15,7))\n",
    "sns.countplot(y)\n",
    "plt.title(\"male or female classes\")"
   ]
  },
  {
   "cell_type": "markdown",
   "execution_count": null,
   "metadata": {},
   "source": [
    "## Train-Test Split"
   ]
  },
  {
   "cell_type": "code",
   "execution_count": 12,
   "metadata": {},
   "outputs": [
    {
     "name": "stdout",
     "output_type": "stream",
     "text": [
      "accuracy:  0.4622496147919877\n"
     ]
    },
    {
     "data": {
      "image/png": "[encoded data removed]",
      "text/plain": [
       "<Figure size 360x360 with 2 Axes>"
      ]
     },
     "metadata": {
      "needs_background": "light"
     },
     "output_type": "display_data"
    }
   ],
   "source": [
    "# train test split\n",
    "from sklearn.model_selection import train_test_split\n",
    "x_train, x_test, y_train, y_test = train_test_split(x,y, test_size = 0.2, random_state = 0)\n",
    "\n",
    "# %% naive bayes\n",
    "from sklearn.naive_bayes import GaussianNB\n",
    "nb = GaussianNB()\n",
    "nb.fit(x_train,y_train)\n",
    "\n",
    "#%% prediction\n",
    "y_pred = nb.predict(x_test)\n",
    "\n",
    "print(\"accuracy: \",nb.score(y_pred.reshape(-1,1),y_test))\n",
    "\n",
    "from sklearn.metrics import confusion_matrix\n",
    "cm = confusion_matrix(y_test,y_pred)\n",
    "\n",
    "# %% cm visualization\n",
    "import seaborn as sns\n",
    "import matplotlib.pyplot as plt\n",
    "f, ax = plt.subplots(figsize =(5,5))\n",
    "sns.heatmap(cm,annot = True,linewidths=0.5,linecolor=\"red\",fmt = \".0f\",ax=ax)\n",
    "plt.xlabel(\"y_pred\")\n",
    "plt.ylabel(\"y_true\")\n",
    "plt.show()"
   ]
  },
  {
   "cell_type": "markdown",
   "execution_count": null,
   "metadata": {},
   "source": [
    "\n",
    "<a id=\"3.\"></a> \n",
    "# 3.NLTK - Word2Vec(SkipGram,CBOW) - Glove"
   ]
  },
  {
   "cell_type": "markdown",
   "execution_count": null,
   "metadata": {},
   "source": [
    "## NLTK-Tokenize"
   ]
  },
  {
   "cell_type": "code",
   "execution_count": 13,
   "metadata": {
    "_uuid": "91089a96def02f009eae6f7a607cbca06bb4f873"
   },
   "outputs": [],
   "source": [
    "# NLTK-Tokenize\n",
    "from nltk.tokenize import sent_tokenize, word_tokenize\n",
    "text = \"Alan Mathison Turing was an English computer scientist, mathematician, logician, cryptanalyst, philosopher, and theoretical biologist. Turing was highly influential in the development of theoretical computer science, providing a formalisation of the concepts of algorithm and computation with the Turing machine, which can be considered a model of a general purpose computer. Turing is widely considered to be the father of theoretical computer science and artificial intelligence.\""
   ]
  },
  {
   "cell_type": "code",
   "execution_count": 14,
   "metadata": {
    "_uuid": "e7ad9d0cd5583550451243b0b21cb52336fd75a4"
   },
   "outputs": [
    {
     "data": {
      "text/plain": [
       "['Alan',\n",
       " 'Mathison',\n",
       " 'Turing',\n",
       " 'was',\n",
       " 'an',\n",
       " 'English',\n",
       " 'computer',\n",
       " 'scientist,',\n",
       " 'mathematician,',\n",
       " 'logician,']"
      ]
     },
     "execution_count": 14,
     "metadata": {},
     "output_type": "execute_result"
    }
   ],
   "source": [
    "text.split()[0:10]"
   ]
  },
  {
   "cell_type": "code",
   "execution_count": 15,
   "metadata": {
    "_uuid": "ffd2e7f59b45a892996fc797d944083d74fec56c"
   },
   "outputs": [
    {
     "data": {
      "text/plain": [
       "['Alan',\n",
       " 'Mathison',\n",
       " 'Turing',\n",
       " 'was',\n",
       " 'an',\n",
       " 'English',\n",
       " 'computer',\n",
       " 'scientist',\n",
       " ',',\n",
       " 'mathematician']"
      ]
     },
     "execution_count": 15,
     "metadata": {},
     "output_type": "execute_result"
    }
   ],
   "source": [
    "word_tokenize(text)[0:10] #kelıme tokenlestırme"
   ]
  },
  {
   "cell_type": "code",
   "execution_count": 16,
   "metadata": {
    "_uuid": "1ae07f0404b5da99d6e4022e4c9d73b1eb2bb010"
   },
   "outputs": [
    {
     "data": {
      "text/plain": [
       "['Alan Mathison Turing was an English computer scientist, mathematician, logician, cryptanalyst, philosopher, and theoretical biologist.',\n",
       " 'Turing was highly influential in the development of theoretical computer science, providing a formalisation of the concepts of algorithm and computation with the Turing machine, which can be considered a model of a general purpose computer.',\n",
       " 'Turing is widely considered to be the father of theoretical computer science and artificial intelligence.']"
      ]
     },
     "execution_count": 16,
     "metadata": {},
     "output_type": "execute_result"
    }
   ],
   "source": [
    "sent_tokenize(text)[0:10] #cumle tokenlestırme"
   ]
  },
  {
   "cell_type": "markdown",
   "execution_count": null,
   "metadata": {},
   "source": [
    "## NLTK-StopWords"
   ]
  },
  {
   "cell_type": "code",
   "execution_count": 17,
   "metadata": {
    "_uuid": "728279c5e90df95fb2c96077b38f7005139844c9"
   },
   "outputs": [
    {
     "name": "stdout",
     "output_type": "stream",
     "text": [
      "['i', 'me', 'my', 'myself', 'we', 'our', 'ours', 'ourselves', 'you', \"you're\"]\n"
     ]
    }
   ],
   "source": [
    "# NLTK-StopWords\n",
    "from nltk.corpus import stopwords\n",
    "from nltk.tokenize import word_tokenize\n",
    "\n",
    "text = 'Fazıl Say is a Turkish pianist and composer who was born in Ankara, described recently as \"not merely a pianist of genius; but undoubtedly he will be one of the great artists of the twenty-first century\".'\n",
    "\n",
    "stopwords = stopwords.words('english')\n",
    "print(stopwords[0:10])"
   ]
  },
  {
   "cell_type": "code",
   "execution_count": 18,
   "metadata": {
    "_uuid": "bc3ea891ad8f31780306f0454a96879ee7e7a898"
   },
   "outputs": [
    {
     "data": {
      "text/plain": [
       "['Fazıl',\n",
       " 'Say',\n",
       " 'Turkish',\n",
       " 'pianist',\n",
       " 'composer',\n",
       " 'born',\n",
       " 'Ankara',\n",
       " ',',\n",
       " 'described',\n",
       " 'recently']"
      ]
     },
     "execution_count": 18,
     "metadata": {},
     "output_type": "execute_result"
    }
   ],
   "source": [
    "words = word_tokenize(text)\n",
    "filtered_words = []\n",
    "for word in words:\n",
    "    if word not in stopwords:\n",
    "        filtered_words.append(word)\n",
    "        \n",
    "filtered_words[0:10]"
   ]
  },
  {
   "cell_type": "markdown",
   "execution_count": null,
   "metadata": {},
   "source": [
    "## NLTK-Stemmer"
   ]
  },
  {
   "cell_type": "code",
   "execution_count": 19,
   "metadata": {
    "_uuid": "6444b7849b36d27b2efaf518b492badda11e8b79"
   },
   "outputs": [
    {
     "name": "stdout",
     "output_type": "stream",
     "text": [
      "drive\n",
      "drive\n",
      "driver\n",
      "drive\n",
      "drove\n",
      "cat\n",
      "children\n"
     ]
    }
   ],
   "source": [
    "# NLTK-Stemmer\n",
    "from nltk.stem import PorterStemmer\n",
    "ps = PorterStemmer()\n",
    "\n",
    "words = ['drive', 'driving', 'driver', 'drives', 'drove', 'cats', 'children']\n",
    "#words = ['Boyunluk', 'Boynu', 'Boylar', 'Boyun', 'Boy']\n",
    "\n",
    "for w in words:\n",
    "    print(ps.stem(w))\n",
    "    \n",
    "#kelimenin sonundaki ekler kesiliyor"
   ]
  },
  {
   "cell_type": "markdown",
   "execution_count": null,
   "metadata": {},
   "source": [
    "## NLTK-Part of Speech Tagging"
   ]
  },
  {
   "cell_type": "code",
   "execution_count": 20,
   "metadata": {
    "_uuid": "1c769865bc25657272d193c567eaaf33aa18e508"
   },
   "outputs": [
    {
     "data": {
      "text/plain": [
       "['Friedrich',\n",
       " 'Wilhelm',\n",
       " 'Nietzsche',\n",
       " 'was',\n",
       " 'a',\n",
       " 'German',\n",
       " 'philosopher',\n",
       " ',',\n",
       " 'cultural',\n",
       " 'critic']"
      ]
     },
     "execution_count": 20,
     "metadata": {},
     "output_type": "execute_result"
    }
   ],
   "source": [
    "# NLTK-Part of Speech Tagging\n",
    "import nltk\n",
    "\n",
    "text = 'Friedrich Wilhelm Nietzsche was a German philosopher, cultural critic, composer, poet, philologist, and a Latin and Greek scholar whose work has exerted a profound influence on Western philosophy and modern intellectual history. He began his career as a classical philologist before turning to philosophy. He became the youngest ever to hold the Chair of Classical Philology at the University of Basel in 1869 at the age of 24. Nietzsche resigned in 1879 due to health problems that plagued him most of his life; he completed much of his core writing in the following decade. In 1889 at age 44, he suffered a collapse and afterward, a complete loss of his mental faculties. He lived his remaining years in the care of his mother until her death in 1897 and then with his sister Elisabeth Förster-Nietzsche. Nietzsche died in 1900.'\n",
    "tokenized = nltk.word_tokenize(text)\n",
    "tokenized[0:10]"
   ]
  },
  {
   "cell_type": "code",
   "execution_count": 21,
   "metadata": {
    "_uuid": "44ee917792c47d76fcc0e63354e4a4411f10b68d"
   },
   "outputs": [
    {
     "data": {
      "text/plain": [
       "'\\nCC     coordinating conjunction\\nCD     cardinal digit\\nDT     determiner\\nEX     existential there (like: \"there is\" ... think of it like \"there exists\")\\nFW     foreign word\\nIN     preposition/subordinating conjunction\\nJJ     adjective \\'big\\'\\nJJR    adjective, comparative \\'bigger\\'\\nJJS    adjective, superlative \\'biggest\\'\\nLS     list marker 1)\\nMD     modal could, will\\nNN     noun, singular \\'desk\\'\\nNNS    noun plural \\'desks\\'\\nNNP    proper noun, singular \\'Harrison\\'\\nNNPS   proper noun, plural \\'Americans\\'\\nPDT    predeterminer \\'all the kids\\'\\nPOS    possessive ending parent\\'s\\nPRP    personal pronoun I, he, she\\nPRP$   possessive pronoun my, his, hers\\nRB     adverb very, silently,\\nRBR    adverb, comparative better\\nRBS    adverb, superlative best\\nRP     particle give up\\nTO     to go \\'to\\' the store.\\nUH     interjection errrrrrrrm\\nVB     verb, base form take\\nVBD    verb, past tense took\\nVBG    verb, gerund/present participle taking\\nVBN    verb, past participle taken\\nVBP    verb, sing. present, non-3d take\\nVBZ    verb, 3rd person sing. present takes\\nWDT    wh-determiner which\\nWP     wh-pronoun who, what\\nWP$    possessive wh-pronoun whose\\nWRB    wh-abverb where, when\\n'"
      ]
     },
     "execution_count": 21,
     "metadata": {},
     "output_type": "execute_result"
    }
   ],
   "source": [
    "\"\"\"\n",
    "CC     coordinating conjunction\n",
    "CD     cardinal digit\n",
    "DT     determiner\n",
    "EX     existential there (like: \"there is\" ... think of it like \"there exists\")\n",
    "FW     foreign word\n",
    "IN     preposition/subordinating conjunction\n",
    "JJ     adjective 'big'\n",
    "JJR    adjective, comparative 'bigger'\n",
    "JJS    adjective, superlative 'biggest'\n",
    "LS     list marker 1)\n",
    "MD     modal could, will\n",
    "NN     noun, singular 'desk'\n",
    "NNS    noun plural 'desks'\n",
    "NNP    proper noun, singular 'Harrison'\n",
    "NNPS   proper noun, plural 'Americans'\n",
    "PDT    predeterminer 'all the kids'\n",
    "POS    possessive ending parent's\n",
    "PRP    personal pronoun I, he, she\n",
    "PRP$   possessive pronoun my, his, hers\n",
    "RB     adverb very, silently,\n",
    "RBR    adverb, comparative better\n",
    "RBS    adverb, superlative best\n",
    "RP     particle give up\n",
    "TO     to go 'to' the store.\n",
    "UH     interjection errrrrrrrm\n",
    "VB     verb, base form take\n",
    "VBD    verb, past tense took\n",
    "VBG    verb, gerund/present participle taking\n",
    "VBN    verb, past participle taken\n",
    "VBP    verb, sing. present, non-3d take\n",
    "VBZ    verb, 3rd person sing. present takes\n",
    "WDT    wh-determiner which\n",
    "WP     wh-pronoun who, what\n",
    "WP$    possessive wh-pronoun whose\n",
    "WRB    wh-abverb where, when\n",
    "\"\"\""
   ]
  },
  {
   "cell_type": "code",
   "execution_count": 22,
   "metadata": {
    "_uuid": "7c3fa8346699e0083267ad7b00dc4656da31d671"
   },
   "outputs": [
    {
     "data": {
      "text/plain": [
       "[('Friedrich', 'NNP'),\n",
       " ('Wilhelm', 'NNP'),\n",
       " ('Nietzsche', 'NNP'),\n",
       " ('was', 'VBD'),\n",
       " ('a', 'DT'),\n",
       " ('German', 'JJ'),\n",
       " ('philosopher', 'NN'),\n",
       " (',', ','),\n",
       " ('cultural', 'JJ'),\n",
       " ('critic', 'NN')]"
      ]
     },
     "execution_count": 22,
     "metadata": {},
     "output_type": "execute_result"
    }
   ],
   "source": [
    "nltk.pos_tag(tokenized)[0:10]"
   ]
  },
  {
   "cell_type": "markdown",
   "execution_count": null,
   "metadata": {},
   "source": [
    "## NLTK-named entitiy recognition"
   ]
  },
  {
   "cell_type": "code",
   "execution_count": 23,
   "metadata": {
    "_uuid": "d272ce9daf1cd2b8cd0d71f55a0b6d3e6628251e"
   },
   "outputs": [
    {
     "name": "stdout",
     "output_type": "stream",
     "text": [
      "['Steve', 'Jobs', 'was', 'an', 'American', 'entrepreneur', 'and', 'business', 'magnate', '.']\n"
     ]
    }
   ],
   "source": [
    "# NLTK-named entitiy recognition\n",
    "\n",
    "import nltk\n",
    "text = \"Steve Jobs was an American entrepreneur and business magnate. He was the chairman, chief executive officer (CEO), and a co-founder of Apple Inc., chairman and majority shareholder of Pixar, a member of The Walt Disney Company's board of directors following its acquisition of Pixar, and the founder, chairman, and CEO of NeXT. Jobs is widely recognized as a pioneer of the microcomputer revolution of the 1970s and 1980s, along with Apple co-founder Steve Wozniak. \"\n",
    "tokenized = nltk.word_tokenize(text)\n",
    "print(tokenized[0:10])"
   ]
  },
  {
   "cell_type": "code",
   "execution_count": 24,
   "metadata": {
    "_uuid": "6b4025cc459717bee65101d8a54bbc0aa3db0ad0"
   },
   "outputs": [
    {
     "name": "stdout",
     "output_type": "stream",
     "text": [
      "[('Steve', 'NNP'), ('Jobs', 'NNP'), ('was', 'VBD'), ('an', 'DT'), ('American', 'JJ'), ('entrepreneur', 'NN'), ('and', 'CC'), ('business', 'NN'), ('magnate', 'NN'), ('.', '.')]\n"
     ]
    }
   ],
   "source": [
    "tagged = nltk.pos_tag(tokenized)\n",
    "print(tagged[0:10])"
   ]
  },
  {
   "cell_type": "code",
   "execution_count": 25,
   "metadata": {
    "_uuid": "7ee5a0d5367f1b670541aced1f05984246f23bf0"
   },
   "outputs": [
    {
     "name": "stdout",
     "output_type": "stream",
     "text": [
      "[Tree('PERSON', [('Steve', 'NNP')]), Tree('PERSON', [('Jobs', 'NNP')]), ('was', 'VBD'), ('an', 'DT'), Tree('GPE', [('American', 'JJ')]), ('entrepreneur', 'NN'), ('and', 'CC'), ('business', 'NN'), ('magnate', 'NN'), ('.', '.')]\n"
     ]
    }
   ],
   "source": [
    "named_ent = nltk.ne_chunk(tagged)\n",
    "print(named_ent[0:10])\n",
    "#named_ent.draw()"
   ]
  },
  {
   "cell_type": "code",
   "execution_count": 26,
   "metadata": {
    "_uuid": "a2dc5445cd47c898086d8cec166df1966fa20778"
   },
   "outputs": [
    {
     "data": {
      "text/plain": [
       "'\\nNE Türü         \\tÖrnek\\nORGANIZATION    \\tGeorgia-Pacific Corp., WHO\\nPERSON          \\tEddy Bonte, President Obama\\nLOCATION        \\tMurray River, Mount Everest\\nDATE            \\tJune, 2008-06-29\\nTIME            \\ttwo fifty a m, 1:30 p.m.\\nMONEY           \\t175 million Canadian Dollars, GBP 10.40\\nPERCENT         \\ttwenty pct, 18.75 %\\nFACILITY        \\tWashington Monument, Stonehenge\\nGPE             \\tSouth East Asia, Midlothian\\n'"
      ]
     },
     "execution_count": 26,
     "metadata": {},
     "output_type": "execute_result"
    }
   ],
   "source": [
    "\"\"\"\n",
    "NE Türü         \tÖrnek\n",
    "ORGANIZATION    \tGeorgia-Pacific Corp., WHO\n",
    "PERSON          \tEddy Bonte, President Obama\n",
    "LOCATION        \tMurray River, Mount Everest\n",
    "DATE            \tJune, 2008-06-29\n",
    "TIME            \ttwo fifty a m, 1:30 p.m.\n",
    "MONEY           \t175 million Canadian Dollars, GBP 10.40\n",
    "PERCENT         \ttwenty pct, 18.75 %\n",
    "FACILITY        \tWashington Monument, Stonehenge\n",
    "GPE             \tSouth East Asia, Midlothian\n",
    "\"\"\""
   ]
  },
  {
   "cell_type": "markdown",
   "execution_count": null,
   "metadata": {},
   "source": [
    "## NLTK-Lemmatizing"
   ]
  },
  {
   "cell_type": "code",
   "execution_count": 27,
   "metadata": {
    "_uuid": "8bdd6dbd9521a2349747d905b7fd08d2d8348c9f"
   },
   "outputs": [
    {
     "name": "stdout",
     "output_type": "stream",
     "text": [
      "drive\n",
      "driving\n",
      "driver\n",
      "drive\n",
      "drove\n",
      "cat\n",
      "child\n",
      "drive\n"
     ]
    }
   ],
   "source": [
    "# NLTK-Lemmatizing\n",
    "from nltk.stem import WordNetLemmatizer\n",
    "lem = WordNetLemmatizer()\n",
    "\n",
    "words = ['drive', 'driving', 'driver', 'drives', 'drove', 'cats', 'children']\n",
    "for w in words:\n",
    "    print(lem.lemmatize(w))\n",
    "#kelimenin sözlükteki köküne iniliyor (morfolojik)\n",
    "\n",
    "print(lem.lemmatize('drove', 'v'))"
   ]
  },
  {
   "cell_type": "markdown",
   "execution_count": null,
   "metadata": {},
   "source": [
    "## Word2Vec"
   ]
  },
  {
   "cell_type": "code",
   "execution_count": 28,
   "metadata": {
    "_uuid": "e6f61d7355e8b29a6950e317bdd5808b5e300a86"
   },
   "outputs": [
    {
     "name": "stdout",
     "output_type": "stream",
     "text": [
      "[['iran', 'devlet', 'televizyonu', 'ülkedeki', 'eyaletin', 'sinde', 'yapılan', 'reformcuları', 'protesto', 'amaçlı', 'yürüyüşlere', 'milyonlarca', 'kişinin', 'katıldığını', 'bildirdi'], ['gösterilerde', 'fitnecilere', 'ölüm', 'münafıklara', 'ölüm', 'abd', 'ye', 'ölüm', 'ingiltere', 'ye', 'ölüm', 'sloganları', 'atıldı'], ['dini', 'lider', 'ali', 'hamaney', 've', 'cumhurbaşkanı', 'mahmud', 'ahmedinejad', 'ı', 'destekleyen', 'iranlılar', 'son', 'olaylarda', 'yeğeni', 'öldürülen', 'mir', 'hüseyin', 'musevi', 'başta', 'olmak', 'üzere', 'muhalefet', 'liderlerini', 'kınadılar'], ['musevi', 'ye', 'ölüm', 've', 'idam', 'idam', 'sloganları', 'duyuldu'], ['muhalefet', 'liderleri', 'kaçtı', 'mı', 'aşure', 'günü', 'yaşanan', 'çatışmalarda', 'devlet', 'kaynaklarına', 'göre', 'u', 'terörist', 'olmak', 'üzere', 'kişi', 'ölmüştü'], ['den', 'fazla', 'kişinin', 'yaralandığı', 'olaylar', 'sırasında', 'en', 'az', 'kişi', 'tutuklanmıştı'], ['öte', 'yandan', 'iran', 'haber', 'ajansı', 'irna', 'muhalif', 'liderler', 'mir', 'hüseyin', 'musevi', 've', 'mehdi', 'kerrubi', 'nin', 'başkentten', 'kaçarak', 'ülkenin', 'kuzeyine', 'geçtiğini', 'ileri', 'sürdü', 'ancak', 'muhalefet', 'iddiayı', 'yalanladı'], ['hamaney', 'in', 'bir', 'dönem', 'korumalığını', 'yapan', 've', 'şu', 'anda', 'fransa', 'da', 'saklandığı', 'söylenen', 'bir', 'kişinin', 'muhalefete', 'verdiği', 'bilgilere', 'göre', 'münzevi', 'yaşamı', 'na', 'rağmen', 'dini', 'liderin', 'havyara', 'karşı', 'korkunç', 'bir', 'iştahı', 'var'], ['baston', 've', 'at', 'meraklısı', 'hamaney', 'aynı', 'zamanda', 'değerli', 'mücevherlerle', 'bezenmiş', 'bastonların', 've', 'cins', 'atların', 'koleksiyonunu', 'yapıyor'], ['hamaney', 'in', 'antika', 'bastonlarının', 'sayısı']]\n"
     ]
    }
   ],
   "source": [
    "#Word2Vec\n",
    "import numpy as np\n",
    "#numpy vektor ve matrısler uzerıne ıslem yapmamızı sağlar\n",
    "from gensim.models import Word2Vec\n",
    "from sklearn.manifold import TSNE\n",
    "import matplotlib.pyplot as plt\n",
    "\n",
    "# Word2Vec corpus üzerinde tüm kelimelerin üzerinden geç\n",
    "# her kelimenin etrafındaki kelimeleri tahmin et\n",
    "# iki kelime birbirne ne kadar sık bulunuyorsa vektöre yansıt\n",
    "f = open('../input/hurriyet/hurriyet.txt', 'r', encoding='utf8')\n",
    "text = f.read()\n",
    "t_list = text.split('\\n')\n",
    "\n",
    "corpus = []\n",
    "\n",
    "for cumle in t_list:\n",
    "    corpus.append(cumle.split())\n",
    "print(corpus[:10])"
   ]
  },
  {
   "cell_type": "code",
   "execution_count": 29,
   "metadata": {
    "_uuid": "9671530475321d91fdf06c9094db26b842e396db"
   },
   "outputs": [
    {
     "data": {
      "text/plain": [
       "array([ 0.43778765, -0.90223444,  0.37828615,  0.10035159, -0.0760783 ,\n",
       "       -0.1367065 , -0.22206822,  0.10576011,  0.26512158,  0.28685355,\n",
       "       -0.21809924, -0.30248895,  0.44299066,  0.91831857, -0.45399898,\n",
       "       -0.11750132,  0.11100883,  0.8305459 ,  0.7290407 , -0.09896986,\n",
       "       -0.20636629, -0.12795049,  0.47952697, -0.22489874,  0.01970391,\n",
       "        0.46261978,  0.15668304, -0.4951677 ,  0.19398053, -0.2948776 ,\n",
       "       -0.1102379 ,  0.53846043,  0.10821059,  0.19447304, -0.00231502,\n",
       "       -0.16358587,  0.2844942 ,  0.06057941, -0.26662976, -0.3609207 ,\n",
       "       -0.04301647, -0.0772246 , -0.35759014,  0.8005127 , -0.01989518,\n",
       "       -0.38912252, -0.27666435,  0.02099366, -0.47167778,  0.01313333,\n",
       "        0.16988844,  0.28194985,  0.28203046, -0.3122912 ,  0.3058704 ,\n",
       "        0.12820148,  0.2480082 , -0.2473095 ,  0.39929628,  0.02512074,\n",
       "        0.14117038,  0.34247252,  0.06970467, -0.4736123 ,  0.47237128,\n",
       "       -0.5313134 , -0.28636715,  0.17363705, -0.02066661, -0.7316595 ,\n",
       "       -0.46944985, -0.20765547, -0.26545382, -0.5447184 ,  0.10882132,\n",
       "        0.33525503, -0.41104084, -0.09593101,  0.06776899, -0.01777195,\n",
       "       -0.06393443, -0.19626589, -0.41297182,  0.08268774, -0.22901987,\n",
       "        0.17929406,  0.05657089,  0.0708208 , -0.17556301,  0.2661953 ,\n",
       "       -0.2988139 , -0.05668806,  0.04415137,  0.5189973 ,  0.22977805,\n",
       "       -0.51883745, -0.275966  , -0.37083197,  0.34595922, -0.4079764 ],\n",
       "      dtype=float32)"
      ]
     },
     "execution_count": 29,
     "metadata": {},
     "output_type": "execute_result"
    }
   ],
   "source": [
    "model = Word2Vec(corpus, size=100, window=5, min_count=5, sg=1) #genelde size 5-300 uzunlugunda vektor olustururuz #gozetımsız ogrenme yontemı\n",
    "#size 100 uzunlugunda vektor\n",
    "#window sol ve sagda bakılacak kelıme sayısı\n",
    "#sg 1 ise skip-gram kullanılacak, default olarak cbow kullanılıyor.\n",
    "#mın_count kelıme en az kac kere gecıyorsa al \n",
    "model.wv['ankara']\n",
    "# wv word vektorun kısaltılmısı\n",
    "#kelime vektörü, word vector, word embedding, embedding hep aynı şeyi ifade ediyor"
   ]
  },
  {
   "cell_type": "code",
   "execution_count": 30,
   "metadata": {
    "_uuid": "b3f8c8238e64c5066658bdff82813b5aa87c208f"
   },
   "outputs": [
    {
     "name": "stdout",
     "output_type": "stream",
     "text": [
      "[('avusturya', 0.8305239081382751), ('hollanda', 0.7620744109153748), ('fransa', 0.7554739713668823), ('danimarka', 0.7339168787002563), ('bavyera', 0.7321945428848267), ('berlin', 0.681398868560791), ('maiziere', 0.6799507141113281), ('saksonya', 0.6791752576828003), ('maizière', 0.6705039739608765), ('belçika', 0.6691569685935974)]\n"
     ]
    },
    {
     "name": "stderr",
     "output_type": "stream",
     "text": [
      "/opt/conda/lib/python3.6/site-packages/gensim/matutils.py:737: FutureWarning: Conversion of the second argument of issubdtype from `int` to `np.signedinteger` is deprecated. In future, it will be treated as `np.int64 == np.dtype(int).type`.\n",
      "  if np.issubdtype(vec.dtype, np.int):\n"
     ]
    }
   ],
   "source": [
    "print(model.wv.most_similar('almanya'))\n",
    "#yazdıgınız kelıme kelıme haznesınde yoksa hata alırsınız."
   ]
  },
  {
   "cell_type": "code",
   "execution_count": 31,
   "metadata": {
    "_uuid": "6197e409f1b591ab2a4374c2a454512089a11e57"
   },
   "outputs": [],
   "source": [
    "#model.save('word2vec.model')\n",
    "#model = Word2Vec.load('word2vec.model')"
   ]
  },
  {
   "cell_type": "code",
   "execution_count": 32,
   "metadata": {
    "_uuid": "8df87248700a65baad5f7161523bbb62125124c2"
   },
   "outputs": [],
   "source": [
    "def closestwords_tsneplot(model, word):\n",
    "    '''\n",
    "     bu sınıf verılen modelı ıle kelımeyı alır\n",
    "     kelımeye en yakın kelımelerın vektorlerını bır dızıye atarız\n",
    "     TSNE ıle bu vektorlerı grafıge donustururuz\n",
    "    '''\n",
    "    word_vectors = np.empty((0,100)) # en yakın olanları lısteyi hazırladık\n",
    "    word_labels = [word] #kelımeyı dızı halıne getırdık\n",
    "    \n",
    "    close_words = model.wv.most_similar(word) #yakın olan kelımeler bulundu\n",
    "    \n",
    "    word_vectors = np.append(word_vectors, np.array([model.wv[word]]), axis=0) #gelen kelımenın vektoru eklendı\n",
    "    \n",
    "    for w, _ in close_words: #w kelimenın kendısı dıgerı ıse yakınlık oranı\n",
    "        word_labels.append(w)\n",
    "        word_vectors = np.append(word_vectors, np.array([model.wv[w]]), axis=0) #yakın kelımelerın vektorlerı de eklendı\n",
    "        #boylece  gelen kelıme ve yakın kelımeler word_labels, bunların vektorlerı ise word_vectors akta\n",
    "        \n",
    "    tsne = TSNE(random_state=0) #kelımeleı grafıge doken kutuphane\n",
    "    Y = tsne.fit_transform(word_vectors)\n",
    "    \n",
    "    x_coords = Y[:, 0]\n",
    "    y_coords = Y[:, 1]\n",
    "    \n",
    "    plt.scatter(x_coords, y_coords)\n",
    "    \n",
    "    for label, x, y in zip(word_labels, x_coords, y_coords):\n",
    "        plt.annotate(label, xy=(x, y), xytext=(5, -2), textcoords='offset points')\n",
    "        \n",
    "    plt.show()"
   ]
  },
  {
   "cell_type": "code",
   "execution_count": 33,
   "metadata": {
    "_uuid": "6912550c8be677064c411a9483ceb93f88be902b"
   },
   "outputs": [
    {
     "data": {
      "image/png": "[encoded data removed]",
      "text/plain": [
       "<Figure size 432x288 with 1 Axes>"
      ]
     },
     "metadata": {
      "needs_background": "light"
     },
     "output_type": "display_data"
    }
   ],
   "source": [
    "closestwords_tsneplot(model, 'almanya')"
   ]
  },
  {
   "cell_type": "markdown",
   "execution_count": null,
   "metadata": {},
   "source": [
    "## Glove"
   ]
  },
  {
   "cell_type": "code",
   "execution_count": 34,
   "metadata": {
    "_uuid": "5447b11f4af54e61818ba15d12e81a59e57877f7"
   },
   "outputs": [],
   "source": [
    "def read_data(file_name):\n",
    "    with open(file_name,'r') as f:\n",
    "        word_vocab = set() # not using list to avoid duplicate entry\n",
    "        word2vector = {}\n",
    "        for line in f:\n",
    "            line_ = line.strip() #Remove white space\n",
    "            words_Vec = line_.split()\n",
    "            word_vocab.add(words_Vec[0])\n",
    "            word2vector[words_Vec[0]] = np.array(words_Vec[1:],dtype=float)\n",
    "    print(\"Total Words in DataSet:\",len(word_vocab))\n",
    "    return word_vocab,word2vector"
   ]
  },
  {
   "cell_type": "code",
   "execution_count": 35,
   "metadata": {
    "_uuid": "4c01dd1f91dfbe0fbcd282e0c640fb3defd888d3"
   },
   "outputs": [
    {
     "data": {
      "text/plain": [
       "\"\\nglove_input =  read_data('../input/glove6b100dtxt/glove.6B.100d.txt')\\nword2vec_output =  read_data('../input/glove-vec/glove.6B.100d.word2vec') #word2vec yazıyor ama glove kullanılacak word2vec yazmasının amacı gensım yuklemeyı kolaylastırma\\nglove2word2vec(glove_input, word2vec_output)\\n\\n\\nmodel = KeyedVectors.load_word2vec_format(word2vec_output, binary=False)\\nmodel['istanbul']\\nmodel.most_similar('ankara') #bu yontem word2vec vardı ama glove 6 mılyar kelıme ıcınde daha basarılı\\nmodel.most_similar(positive=['woman', 'king'], negative=['man'], topn=2)\\n#topn demek sadece n tane goster\\nmodel.most_similar(positive=['berlin', 'turkey'], negative=['ankara'], topn=1)\\nmodel.most_similar(positive=['teach', 'doctor'], negative=['treat'], topn=1)\\n\\n\\n\""
      ]
     },
     "execution_count": 35,
     "metadata": {},
     "output_type": "execute_result"
    }
   ],
   "source": [
    "from gensim.scripts.glove2word2vec import glove2word2vec\n",
    "from gensim.models import KeyedVectors # global vectors for word representations (Glove 2014)\n",
    "'''\n",
    "glove_input =  read_data('../input/glove6b100dtxt/glove.6B.100d.txt')\n",
    "word2vec_output =  read_data('../input/glove-vec/glove.6B.100d.word2vec') #word2vec yazıyor ama glove kullanılacak word2vec yazmasının amacı gensım yuklemeyı kolaylastırma\n",
    "glove2word2vec(glove_input, word2vec_output)\n",
    "\n",
    "\n",
    "model = KeyedVectors.load_word2vec_format(word2vec_output, binary=False)\n",
    "model['istanbul']\n",
    "model.most_similar('ankara') #bu yontem word2vec vardı ama glove 6 mılyar kelıme ıcınde daha basarılı\n",
    "model.most_similar(positive=['woman', 'king'], negative=['man'], topn=2)\n",
    "#topn demek sadece n tane goster\n",
    "model.most_similar(positive=['berlin', 'turkey'], negative=['ankara'], topn=1)\n",
    "model.most_similar(positive=['teach', 'doctor'], negative=['treat'], topn=1)\n",
    "\n",
    "\n",
    "'''\n"
   ]
  }
 ],
 "metadata": {
  "kernelspec": {
   "display_name": "Python 3",
   "language": "python",
   "name": "python3"
  },
  "language_info": {
   "codemirror_mode": {
    "name": "ipython",
    "version": 3
   },
   "file_extension": ".py",
   "mimetype": "text/x-python",
   "name": "python",
   "nbconvert_exporter": "python",
   "pygments_lexer": "ipython3",
   "version": "3.6.6"
  }
 },
 "nbformat": 4,
 "nbformat_minor": 4
}
