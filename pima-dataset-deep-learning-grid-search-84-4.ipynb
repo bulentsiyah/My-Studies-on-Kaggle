{
 "cells": [
  {
   "cell_type": "markdown",
   "execution_count": null,
   "metadata": {
    "_cell_guid": "b1076dfc-b9ad-4769-8c92-a6c4dae69d19",
    "_uuid": "8f2839f25d086af736a60e9eeb907d3b93b6e0e5"
   },
   "source": [
    "# Deep Learning Grid Search\n",
    "\n",
    "In this project, we will learn how to use the scikit-learn grid search capability.\n",
    "\n",
    "We are going to learn the following topics:\n",
    "\n",
    "* How to use Keras models in scikit-learn.\n",
    "* How to use grid search in scikit-learn.\n",
    "* How to tune batch size and training epochs.\n",
    "* How to tune learning rate\n",
    "* How to tune network weight initialization.\n",
    "* How to tune activation functions.\n",
    "* How to tune dropout regularization.\n",
    "* How to tune the number of neurons in the hidden layer."
   ]
  },
  {
   "cell_type": "code",
   "execution_count": 1,
   "metadata": {
    "_cell_guid": "79c7e3d0-c299-4dcb-8224-4455121ee9b0",
    "_uuid": "d629ff2d2480ee46fbb7e2d37f6b5fab8052498a"
   },
   "outputs": [
    {
     "name": "stderr",
     "output_type": "stream",
     "text": [
      "Using TensorFlow backend.\n"
     ]
    },
    {
     "name": "stdout",
     "output_type": "stream",
     "text": [
      "Python: 3.6.6 |Anaconda, Inc.| (default, Oct  9 2018, 12:34:16) \n",
      "[GCC 7.3.0]\n",
      "Pandas: 0.23.4\n",
      "Numpy: 1.16.2\n",
      "Sklearn: 0.20.3\n",
      "Keras: 2.2.4\n"
     ]
    }
   ],
   "source": [
    "import sys\n",
    "import pandas\n",
    "import numpy\n",
    "import sklearn\n",
    "import keras\n",
    "\n",
    "print('Python: {}'.format(sys.version))\n",
    "print('Pandas: {}'.format(pandas.__version__))\n",
    "print('Numpy: {}'.format(numpy.__version__))\n",
    "print('Sklearn: {}'.format(sklearn.__version__))\n",
    "print('Keras: {}'.format(keras.__version__))"
   ]
  },
  {
   "cell_type": "code",
   "execution_count": 2,
   "metadata": {
    "_uuid": "68a60e83a77164333e1643cafed703843a344e15"
   },
   "outputs": [
    {
     "data": {
      "text/html": [
       "<div>\n",
       "<style scoped>\n",
       "    .dataframe tbody tr th:only-of-type {\n",
       "        vertical-align: middle;\n",
       "    }\n",
       "\n",
       "    .dataframe tbody tr th {\n",
       "        vertical-align: top;\n",
       "    }\n",
       "\n",
       "    .dataframe thead th {\n",
       "        text-align: right;\n",
       "    }\n",
       "</style>\n",
       "<table border=\"1\" class=\"dataframe\">\n",
       "  <thead>\n",
       "    <tr style=\"text-align: right;\">\n",
       "      <th></th>\n",
       "      <th>Pregnancies</th>\n",
       "      <th>Glucose</th>\n",
       "      <th>BloodPressure</th>\n",
       "      <th>SkinThickness</th>\n",
       "      <th>Insulin</th>\n",
       "      <th>BMI</th>\n",
       "      <th>DiabetesPedigreeFunction</th>\n",
       "      <th>Age</th>\n",
       "      <th>Outcome</th>\n",
       "    </tr>\n",
       "  </thead>\n",
       "  <tbody>\n",
       "    <tr>\n",
       "      <th>0</th>\n",
       "      <td>6</td>\n",
       "      <td>148</td>\n",
       "      <td>72</td>\n",
       "      <td>35</td>\n",
       "      <td>0</td>\n",
       "      <td>33.6</td>\n",
       "      <td>0.627</td>\n",
       "      <td>50</td>\n",
       "      <td>1</td>\n",
       "    </tr>\n",
       "    <tr>\n",
       "      <th>1</th>\n",
       "      <td>1</td>\n",
       "      <td>85</td>\n",
       "      <td>66</td>\n",
       "      <td>29</td>\n",
       "      <td>0</td>\n",
       "      <td>26.6</td>\n",
       "      <td>0.351</td>\n",
       "      <td>31</td>\n",
       "      <td>0</td>\n",
       "    </tr>\n",
       "    <tr>\n",
       "      <th>2</th>\n",
       "      <td>8</td>\n",
       "      <td>183</td>\n",
       "      <td>64</td>\n",
       "      <td>0</td>\n",
       "      <td>0</td>\n",
       "      <td>23.3</td>\n",
       "      <td>0.672</td>\n",
       "      <td>32</td>\n",
       "      <td>1</td>\n",
       "    </tr>\n",
       "    <tr>\n",
       "      <th>3</th>\n",
       "      <td>1</td>\n",
       "      <td>89</td>\n",
       "      <td>66</td>\n",
       "      <td>23</td>\n",
       "      <td>94</td>\n",
       "      <td>28.1</td>\n",
       "      <td>0.167</td>\n",
       "      <td>21</td>\n",
       "      <td>0</td>\n",
       "    </tr>\n",
       "    <tr>\n",
       "      <th>4</th>\n",
       "      <td>0</td>\n",
       "      <td>137</td>\n",
       "      <td>40</td>\n",
       "      <td>35</td>\n",
       "      <td>168</td>\n",
       "      <td>43.1</td>\n",
       "      <td>2.288</td>\n",
       "      <td>33</td>\n",
       "      <td>1</td>\n",
       "    </tr>\n",
       "  </tbody>\n",
       "</table>\n",
       "</div>"
      ],
      "text/plain": [
       "   Pregnancies  Glucose   ...     Age  Outcome\n",
       "0            6      148   ...      50        1\n",
       "1            1       85   ...      31        0\n",
       "2            8      183   ...      32        1\n",
       "3            1       89   ...      21        0\n",
       "4            0      137   ...      33        1\n",
       "\n",
       "[5 rows x 9 columns]"
      ]
     },
     "execution_count": 2,
     "metadata": {},
     "output_type": "execute_result"
    }
   ],
   "source": [
    "import pandas as pd\n",
    "import numpy as np\n",
    "\n",
    "names = ['n_pregnant', 'glucose_concentration', 'blood_pressuer (mm Hg)', 'skin_thickness (mm)', 'serum_insulin (mu U/ml)',\n",
    "        'BMI', 'pedigree_function', 'age', 'class']\n",
    "#df = pd.read_csv('../input/diabetes.csv', names = names)\n",
    "df = pd.read_csv('../input/diabetes.csv')\n",
    "df.head()"
   ]
  },
  {
   "cell_type": "code",
   "execution_count": 3,
   "metadata": {
    "_uuid": "cc9ad941f9ab6e6299ff254f36c074f8fd96bd8f"
   },
   "outputs": [
    {
     "data": {
      "text/html": [
       "<div>\n",
       "<style scoped>\n",
       "    .dataframe tbody tr th:only-of-type {\n",
       "        vertical-align: middle;\n",
       "    }\n",
       "\n",
       "    .dataframe tbody tr th {\n",
       "        vertical-align: top;\n",
       "    }\n",
       "\n",
       "    .dataframe thead th {\n",
       "        text-align: right;\n",
       "    }\n",
       "</style>\n",
       "<table border=\"1\" class=\"dataframe\">\n",
       "  <thead>\n",
       "    <tr style=\"text-align: right;\">\n",
       "      <th></th>\n",
       "      <th>Pregnancies</th>\n",
       "      <th>Glucose</th>\n",
       "      <th>BloodPressure</th>\n",
       "      <th>SkinThickness</th>\n",
       "      <th>Insulin</th>\n",
       "      <th>BMI</th>\n",
       "      <th>DiabetesPedigreeFunction</th>\n",
       "      <th>Age</th>\n",
       "      <th>Outcome</th>\n",
       "    </tr>\n",
       "  </thead>\n",
       "  <tbody>\n",
       "    <tr>\n",
       "      <th>count</th>\n",
       "      <td>768.000000</td>\n",
       "      <td>768.000000</td>\n",
       "      <td>768.000000</td>\n",
       "      <td>768.000000</td>\n",
       "      <td>768.000000</td>\n",
       "      <td>768.000000</td>\n",
       "      <td>768.000000</td>\n",
       "      <td>768.000000</td>\n",
       "      <td>768.000000</td>\n",
       "    </tr>\n",
       "    <tr>\n",
       "      <th>mean</th>\n",
       "      <td>3.845052</td>\n",
       "      <td>120.894531</td>\n",
       "      <td>69.105469</td>\n",
       "      <td>20.536458</td>\n",
       "      <td>79.799479</td>\n",
       "      <td>31.992578</td>\n",
       "      <td>0.471876</td>\n",
       "      <td>33.240885</td>\n",
       "      <td>0.348958</td>\n",
       "    </tr>\n",
       "    <tr>\n",
       "      <th>std</th>\n",
       "      <td>3.369578</td>\n",
       "      <td>31.972618</td>\n",
       "      <td>19.355807</td>\n",
       "      <td>15.952218</td>\n",
       "      <td>115.244002</td>\n",
       "      <td>7.884160</td>\n",
       "      <td>0.331329</td>\n",
       "      <td>11.760232</td>\n",
       "      <td>0.476951</td>\n",
       "    </tr>\n",
       "    <tr>\n",
       "      <th>min</th>\n",
       "      <td>0.000000</td>\n",
       "      <td>0.000000</td>\n",
       "      <td>0.000000</td>\n",
       "      <td>0.000000</td>\n",
       "      <td>0.000000</td>\n",
       "      <td>0.000000</td>\n",
       "      <td>0.078000</td>\n",
       "      <td>21.000000</td>\n",
       "      <td>0.000000</td>\n",
       "    </tr>\n",
       "    <tr>\n",
       "      <th>25%</th>\n",
       "      <td>1.000000</td>\n",
       "      <td>99.000000</td>\n",
       "      <td>62.000000</td>\n",
       "      <td>0.000000</td>\n",
       "      <td>0.000000</td>\n",
       "      <td>27.300000</td>\n",
       "      <td>0.243750</td>\n",
       "      <td>24.000000</td>\n",
       "      <td>0.000000</td>\n",
       "    </tr>\n",
       "    <tr>\n",
       "      <th>50%</th>\n",
       "      <td>3.000000</td>\n",
       "      <td>117.000000</td>\n",
       "      <td>72.000000</td>\n",
       "      <td>23.000000</td>\n",
       "      <td>30.500000</td>\n",
       "      <td>32.000000</td>\n",
       "      <td>0.372500</td>\n",
       "      <td>29.000000</td>\n",
       "      <td>0.000000</td>\n",
       "    </tr>\n",
       "    <tr>\n",
       "      <th>75%</th>\n",
       "      <td>6.000000</td>\n",
       "      <td>140.250000</td>\n",
       "      <td>80.000000</td>\n",
       "      <td>32.000000</td>\n",
       "      <td>127.250000</td>\n",
       "      <td>36.600000</td>\n",
       "      <td>0.626250</td>\n",
       "      <td>41.000000</td>\n",
       "      <td>1.000000</td>\n",
       "    </tr>\n",
       "    <tr>\n",
       "      <th>max</th>\n",
       "      <td>17.000000</td>\n",
       "      <td>199.000000</td>\n",
       "      <td>122.000000</td>\n",
       "      <td>99.000000</td>\n",
       "      <td>846.000000</td>\n",
       "      <td>67.100000</td>\n",
       "      <td>2.420000</td>\n",
       "      <td>81.000000</td>\n",
       "      <td>1.000000</td>\n",
       "    </tr>\n",
       "  </tbody>\n",
       "</table>\n",
       "</div>"
      ],
      "text/plain": [
       "       Pregnancies     Glucose     ...             Age     Outcome\n",
       "count   768.000000  768.000000     ...      768.000000  768.000000\n",
       "mean      3.845052  120.894531     ...       33.240885    0.348958\n",
       "std       3.369578   31.972618     ...       11.760232    0.476951\n",
       "min       0.000000    0.000000     ...       21.000000    0.000000\n",
       "25%       1.000000   99.000000     ...       24.000000    0.000000\n",
       "50%       3.000000  117.000000     ...       29.000000    0.000000\n",
       "75%       6.000000  140.250000     ...       41.000000    1.000000\n",
       "max      17.000000  199.000000     ...       81.000000    1.000000\n",
       "\n",
       "[8 rows x 9 columns]"
      ]
     },
     "execution_count": 3,
     "metadata": {},
     "output_type": "execute_result"
    }
   ],
   "source": [
    "# Describe the dataset\n",
    "df.describe()"
   ]
  },
  {
   "cell_type": "code",
   "execution_count": 4,
   "metadata": {
    "_uuid": "8df79be80598e9d8b97956f1dd66cb416867a182"
   },
   "outputs": [
    {
     "data": {
      "text/html": [
       "<div>\n",
       "<style scoped>\n",
       "    .dataframe tbody tr th:only-of-type {\n",
       "        vertical-align: middle;\n",
       "    }\n",
       "\n",
       "    .dataframe tbody tr th {\n",
       "        vertical-align: top;\n",
       "    }\n",
       "\n",
       "    .dataframe thead th {\n",
       "        text-align: right;\n",
       "    }\n",
       "</style>\n",
       "<table border=\"1\" class=\"dataframe\">\n",
       "  <thead>\n",
       "    <tr style=\"text-align: right;\">\n",
       "      <th></th>\n",
       "      <th>Pregnancies</th>\n",
       "      <th>Glucose</th>\n",
       "      <th>BloodPressure</th>\n",
       "      <th>SkinThickness</th>\n",
       "      <th>Insulin</th>\n",
       "      <th>BMI</th>\n",
       "      <th>DiabetesPedigreeFunction</th>\n",
       "      <th>Age</th>\n",
       "      <th>Outcome</th>\n",
       "    </tr>\n",
       "  </thead>\n",
       "  <tbody>\n",
       "    <tr>\n",
       "      <th>75</th>\n",
       "      <td>1</td>\n",
       "      <td>0</td>\n",
       "      <td>48</td>\n",
       "      <td>20</td>\n",
       "      <td>0</td>\n",
       "      <td>24.7</td>\n",
       "      <td>0.140</td>\n",
       "      <td>22</td>\n",
       "      <td>0</td>\n",
       "    </tr>\n",
       "    <tr>\n",
       "      <th>182</th>\n",
       "      <td>1</td>\n",
       "      <td>0</td>\n",
       "      <td>74</td>\n",
       "      <td>20</td>\n",
       "      <td>23</td>\n",
       "      <td>27.7</td>\n",
       "      <td>0.299</td>\n",
       "      <td>21</td>\n",
       "      <td>0</td>\n",
       "    </tr>\n",
       "    <tr>\n",
       "      <th>342</th>\n",
       "      <td>1</td>\n",
       "      <td>0</td>\n",
       "      <td>68</td>\n",
       "      <td>35</td>\n",
       "      <td>0</td>\n",
       "      <td>32.0</td>\n",
       "      <td>0.389</td>\n",
       "      <td>22</td>\n",
       "      <td>0</td>\n",
       "    </tr>\n",
       "    <tr>\n",
       "      <th>349</th>\n",
       "      <td>5</td>\n",
       "      <td>0</td>\n",
       "      <td>80</td>\n",
       "      <td>32</td>\n",
       "      <td>0</td>\n",
       "      <td>41.0</td>\n",
       "      <td>0.346</td>\n",
       "      <td>37</td>\n",
       "      <td>1</td>\n",
       "    </tr>\n",
       "    <tr>\n",
       "      <th>502</th>\n",
       "      <td>6</td>\n",
       "      <td>0</td>\n",
       "      <td>68</td>\n",
       "      <td>41</td>\n",
       "      <td>0</td>\n",
       "      <td>39.0</td>\n",
       "      <td>0.727</td>\n",
       "      <td>41</td>\n",
       "      <td>1</td>\n",
       "    </tr>\n",
       "  </tbody>\n",
       "</table>\n",
       "</div>"
      ],
      "text/plain": [
       "     Pregnancies  Glucose   ...     Age  Outcome\n",
       "75             1        0   ...      22        0\n",
       "182            1        0   ...      21        0\n",
       "342            1        0   ...      22        0\n",
       "349            5        0   ...      37        1\n",
       "502            6        0   ...      41        1\n",
       "\n",
       "[5 rows x 9 columns]"
      ]
     },
     "execution_count": 4,
     "metadata": {},
     "output_type": "execute_result"
    }
   ],
   "source": [
    "df[df['Glucose'] == 0]"
   ]
  },
  {
   "cell_type": "code",
   "execution_count": 5,
   "metadata": {},
   "outputs": [
    {
     "data": {
      "text/html": [
       "<div>\n",
       "<style scoped>\n",
       "    .dataframe tbody tr th:only-of-type {\n",
       "        vertical-align: middle;\n",
       "    }\n",
       "\n",
       "    .dataframe tbody tr th {\n",
       "        vertical-align: top;\n",
       "    }\n",
       "\n",
       "    .dataframe thead th {\n",
       "        text-align: right;\n",
       "    }\n",
       "</style>\n",
       "<table border=\"1\" class=\"dataframe\">\n",
       "  <thead>\n",
       "    <tr style=\"text-align: right;\">\n",
       "      <th></th>\n",
       "      <th>Pregnancies</th>\n",
       "      <th>Glucose</th>\n",
       "      <th>BloodPressure</th>\n",
       "      <th>SkinThickness</th>\n",
       "      <th>Insulin</th>\n",
       "      <th>BMI</th>\n",
       "      <th>DiabetesPedigreeFunction</th>\n",
       "      <th>Age</th>\n",
       "      <th>Outcome</th>\n",
       "    </tr>\n",
       "  </thead>\n",
       "  <tbody>\n",
       "    <tr>\n",
       "      <th>count</th>\n",
       "      <td>768.000000</td>\n",
       "      <td>763.000000</td>\n",
       "      <td>733.000000</td>\n",
       "      <td>541.000000</td>\n",
       "      <td>394.000000</td>\n",
       "      <td>757.000000</td>\n",
       "      <td>768.000000</td>\n",
       "      <td>768.000000</td>\n",
       "      <td>768.000000</td>\n",
       "    </tr>\n",
       "    <tr>\n",
       "      <th>mean</th>\n",
       "      <td>3.845052</td>\n",
       "      <td>121.686763</td>\n",
       "      <td>72.405184</td>\n",
       "      <td>29.153420</td>\n",
       "      <td>155.548223</td>\n",
       "      <td>32.457464</td>\n",
       "      <td>0.471876</td>\n",
       "      <td>33.240885</td>\n",
       "      <td>0.348958</td>\n",
       "    </tr>\n",
       "    <tr>\n",
       "      <th>std</th>\n",
       "      <td>3.369578</td>\n",
       "      <td>30.535641</td>\n",
       "      <td>12.382158</td>\n",
       "      <td>10.476982</td>\n",
       "      <td>118.775855</td>\n",
       "      <td>6.924988</td>\n",
       "      <td>0.331329</td>\n",
       "      <td>11.760232</td>\n",
       "      <td>0.476951</td>\n",
       "    </tr>\n",
       "    <tr>\n",
       "      <th>min</th>\n",
       "      <td>0.000000</td>\n",
       "      <td>44.000000</td>\n",
       "      <td>24.000000</td>\n",
       "      <td>7.000000</td>\n",
       "      <td>14.000000</td>\n",
       "      <td>18.200000</td>\n",
       "      <td>0.078000</td>\n",
       "      <td>21.000000</td>\n",
       "      <td>0.000000</td>\n",
       "    </tr>\n",
       "    <tr>\n",
       "      <th>25%</th>\n",
       "      <td>1.000000</td>\n",
       "      <td>99.000000</td>\n",
       "      <td>64.000000</td>\n",
       "      <td>22.000000</td>\n",
       "      <td>76.250000</td>\n",
       "      <td>27.500000</td>\n",
       "      <td>0.243750</td>\n",
       "      <td>24.000000</td>\n",
       "      <td>0.000000</td>\n",
       "    </tr>\n",
       "    <tr>\n",
       "      <th>50%</th>\n",
       "      <td>3.000000</td>\n",
       "      <td>117.000000</td>\n",
       "      <td>72.000000</td>\n",
       "      <td>29.000000</td>\n",
       "      <td>125.000000</td>\n",
       "      <td>32.300000</td>\n",
       "      <td>0.372500</td>\n",
       "      <td>29.000000</td>\n",
       "      <td>0.000000</td>\n",
       "    </tr>\n",
       "    <tr>\n",
       "      <th>75%</th>\n",
       "      <td>6.000000</td>\n",
       "      <td>141.000000</td>\n",
       "      <td>80.000000</td>\n",
       "      <td>36.000000</td>\n",
       "      <td>190.000000</td>\n",
       "      <td>36.600000</td>\n",
       "      <td>0.626250</td>\n",
       "      <td>41.000000</td>\n",
       "      <td>1.000000</td>\n",
       "    </tr>\n",
       "    <tr>\n",
       "      <th>max</th>\n",
       "      <td>17.000000</td>\n",
       "      <td>199.000000</td>\n",
       "      <td>122.000000</td>\n",
       "      <td>99.000000</td>\n",
       "      <td>846.000000</td>\n",
       "      <td>67.100000</td>\n",
       "      <td>2.420000</td>\n",
       "      <td>81.000000</td>\n",
       "      <td>1.000000</td>\n",
       "    </tr>\n",
       "  </tbody>\n",
       "</table>\n",
       "</div>"
      ],
      "text/plain": [
       "       Pregnancies     Glucose     ...             Age     Outcome\n",
       "count   768.000000  763.000000     ...      768.000000  768.000000\n",
       "mean      3.845052  121.686763     ...       33.240885    0.348958\n",
       "std       3.369578   30.535641     ...       11.760232    0.476951\n",
       "min       0.000000   44.000000     ...       21.000000    0.000000\n",
       "25%       1.000000   99.000000     ...       24.000000    0.000000\n",
       "50%       3.000000  117.000000     ...       29.000000    0.000000\n",
       "75%       6.000000  141.000000     ...       41.000000    1.000000\n",
       "max      17.000000  199.000000     ...       81.000000    1.000000\n",
       "\n",
       "[8 rows x 9 columns]"
      ]
     },
     "execution_count": 5,
     "metadata": {},
     "output_type": "execute_result"
    }
   ],
   "source": [
    "# Preprocess the data, mark zero values as NaN and drop\n",
    "columns = ['Glucose', 'BloodPressure', 'SkinThickness', 'Insulin', 'BMI']\n",
    "\n",
    "for col in columns:\n",
    "    df[col].replace(0, np.NaN, inplace=True)\n",
    "    \n",
    "df.describe()"
   ]
  },
  {
   "cell_type": "code",
   "execution_count": 6,
   "metadata": {},
   "outputs": [
    {
     "data": {
      "text/html": [
       "<div>\n",
       "<style scoped>\n",
       "    .dataframe tbody tr th:only-of-type {\n",
       "        vertical-align: middle;\n",
       "    }\n",
       "\n",
       "    .dataframe tbody tr th {\n",
       "        vertical-align: top;\n",
       "    }\n",
       "\n",
       "    .dataframe thead th {\n",
       "        text-align: right;\n",
       "    }\n",
       "</style>\n",
       "<table border=\"1\" class=\"dataframe\">\n",
       "  <thead>\n",
       "    <tr style=\"text-align: right;\">\n",
       "      <th></th>\n",
       "      <th>Pregnancies</th>\n",
       "      <th>Glucose</th>\n",
       "      <th>BloodPressure</th>\n",
       "      <th>SkinThickness</th>\n",
       "      <th>Insulin</th>\n",
       "      <th>BMI</th>\n",
       "      <th>DiabetesPedigreeFunction</th>\n",
       "      <th>Age</th>\n",
       "      <th>Outcome</th>\n",
       "    </tr>\n",
       "  </thead>\n",
       "  <tbody>\n",
       "    <tr>\n",
       "      <th>count</th>\n",
       "      <td>392.000000</td>\n",
       "      <td>392.000000</td>\n",
       "      <td>392.000000</td>\n",
       "      <td>392.000000</td>\n",
       "      <td>392.000000</td>\n",
       "      <td>392.000000</td>\n",
       "      <td>392.000000</td>\n",
       "      <td>392.000000</td>\n",
       "      <td>392.000000</td>\n",
       "    </tr>\n",
       "    <tr>\n",
       "      <th>mean</th>\n",
       "      <td>3.301020</td>\n",
       "      <td>122.627551</td>\n",
       "      <td>70.663265</td>\n",
       "      <td>29.145408</td>\n",
       "      <td>156.056122</td>\n",
       "      <td>33.086224</td>\n",
       "      <td>0.523046</td>\n",
       "      <td>30.864796</td>\n",
       "      <td>0.331633</td>\n",
       "    </tr>\n",
       "    <tr>\n",
       "      <th>std</th>\n",
       "      <td>3.211424</td>\n",
       "      <td>30.860781</td>\n",
       "      <td>12.496092</td>\n",
       "      <td>10.516424</td>\n",
       "      <td>118.841690</td>\n",
       "      <td>7.027659</td>\n",
       "      <td>0.345488</td>\n",
       "      <td>10.200777</td>\n",
       "      <td>0.471401</td>\n",
       "    </tr>\n",
       "    <tr>\n",
       "      <th>min</th>\n",
       "      <td>0.000000</td>\n",
       "      <td>56.000000</td>\n",
       "      <td>24.000000</td>\n",
       "      <td>7.000000</td>\n",
       "      <td>14.000000</td>\n",
       "      <td>18.200000</td>\n",
       "      <td>0.085000</td>\n",
       "      <td>21.000000</td>\n",
       "      <td>0.000000</td>\n",
       "    </tr>\n",
       "    <tr>\n",
       "      <th>25%</th>\n",
       "      <td>1.000000</td>\n",
       "      <td>99.000000</td>\n",
       "      <td>62.000000</td>\n",
       "      <td>21.000000</td>\n",
       "      <td>76.750000</td>\n",
       "      <td>28.400000</td>\n",
       "      <td>0.269750</td>\n",
       "      <td>23.000000</td>\n",
       "      <td>0.000000</td>\n",
       "    </tr>\n",
       "    <tr>\n",
       "      <th>50%</th>\n",
       "      <td>2.000000</td>\n",
       "      <td>119.000000</td>\n",
       "      <td>70.000000</td>\n",
       "      <td>29.000000</td>\n",
       "      <td>125.500000</td>\n",
       "      <td>33.200000</td>\n",
       "      <td>0.449500</td>\n",
       "      <td>27.000000</td>\n",
       "      <td>0.000000</td>\n",
       "    </tr>\n",
       "    <tr>\n",
       "      <th>75%</th>\n",
       "      <td>5.000000</td>\n",
       "      <td>143.000000</td>\n",
       "      <td>78.000000</td>\n",
       "      <td>37.000000</td>\n",
       "      <td>190.000000</td>\n",
       "      <td>37.100000</td>\n",
       "      <td>0.687000</td>\n",
       "      <td>36.000000</td>\n",
       "      <td>1.000000</td>\n",
       "    </tr>\n",
       "    <tr>\n",
       "      <th>max</th>\n",
       "      <td>17.000000</td>\n",
       "      <td>198.000000</td>\n",
       "      <td>110.000000</td>\n",
       "      <td>63.000000</td>\n",
       "      <td>846.000000</td>\n",
       "      <td>67.100000</td>\n",
       "      <td>2.420000</td>\n",
       "      <td>81.000000</td>\n",
       "      <td>1.000000</td>\n",
       "    </tr>\n",
       "  </tbody>\n",
       "</table>\n",
       "</div>"
      ],
      "text/plain": [
       "       Pregnancies     Glucose     ...             Age     Outcome\n",
       "count   392.000000  392.000000     ...      392.000000  392.000000\n",
       "mean      3.301020  122.627551     ...       30.864796    0.331633\n",
       "std       3.211424   30.860781     ...       10.200777    0.471401\n",
       "min       0.000000   56.000000     ...       21.000000    0.000000\n",
       "25%       1.000000   99.000000     ...       23.000000    0.000000\n",
       "50%       2.000000  119.000000     ...       27.000000    0.000000\n",
       "75%       5.000000  143.000000     ...       36.000000    1.000000\n",
       "max      17.000000  198.000000     ...       81.000000    1.000000\n",
       "\n",
       "[8 rows x 9 columns]"
      ]
     },
     "execution_count": 6,
     "metadata": {},
     "output_type": "execute_result"
    }
   ],
   "source": [
    "# Drop rows with missing values\n",
    "df.dropna(inplace=True)\n",
    "\n",
    "# summarize the number of rows and columns in df\n",
    "df.describe()"
   ]
  },
  {
   "cell_type": "code",
   "execution_count": 7,
   "metadata": {},
   "outputs": [
    {
     "name": "stdout",
     "output_type": "stream",
     "text": [
      "(392, 9)\n"
     ]
    }
   ],
   "source": [
    "# Convert dataframe to numpy array\n",
    "dataset = df.values\n",
    "print(dataset.shape)"
   ]
  },
  {
   "cell_type": "code",
   "execution_count": 8,
   "metadata": {},
   "outputs": [],
   "source": [
    "# split into input (X) and an output (Y)\n",
    "X = dataset[:,0:8]\n",
    "Y = dataset[:, 8].astype(int)"
   ]
  },
  {
   "cell_type": "code",
   "execution_count": 9,
   "metadata": {},
   "outputs": [
    {
     "name": "stdout",
     "output_type": "stream",
     "text": [
      "(392, 8)\n",
      "(392,)\n",
      "[0 1 1 1 1]\n"
     ]
    }
   ],
   "source": [
    "print(X.shape)\n",
    "print(Y.shape)\n",
    "print(Y[:5])"
   ]
  },
  {
   "cell_type": "code",
   "execution_count": 10,
   "metadata": {},
   "outputs": [],
   "source": [
    "# Normalize the data using sklearn StandardScaler\n",
    "from sklearn.preprocessing import StandardScaler\n",
    "\n",
    "scaler = StandardScaler().fit(X)"
   ]
  },
  {
   "cell_type": "code",
   "execution_count": 11,
   "metadata": {},
   "outputs": [
    {
     "name": "stdout",
     "output_type": "stream",
     "text": [
      "StandardScaler(copy=True, with_mean=True, with_std=True)\n"
     ]
    }
   ],
   "source": [
    "print(scaler)"
   ]
  },
  {
   "cell_type": "code",
   "execution_count": 12,
   "metadata": {},
   "outputs": [
    {
     "data": {
      "text/html": [
       "<div>\n",
       "<style scoped>\n",
       "    .dataframe tbody tr th:only-of-type {\n",
       "        vertical-align: middle;\n",
       "    }\n",
       "\n",
       "    .dataframe tbody tr th {\n",
       "        vertical-align: top;\n",
       "    }\n",
       "\n",
       "    .dataframe thead th {\n",
       "        text-align: right;\n",
       "    }\n",
       "</style>\n",
       "<table border=\"1\" class=\"dataframe\">\n",
       "  <thead>\n",
       "    <tr style=\"text-align: right;\">\n",
       "      <th></th>\n",
       "      <th>0</th>\n",
       "      <th>1</th>\n",
       "      <th>2</th>\n",
       "      <th>3</th>\n",
       "      <th>4</th>\n",
       "      <th>5</th>\n",
       "      <th>6</th>\n",
       "      <th>7</th>\n",
       "    </tr>\n",
       "  </thead>\n",
       "  <tbody>\n",
       "    <tr>\n",
       "      <th>count</th>\n",
       "      <td>3.920000e+02</td>\n",
       "      <td>3.920000e+02</td>\n",
       "      <td>3.920000e+02</td>\n",
       "      <td>3.920000e+02</td>\n",
       "      <td>3.920000e+02</td>\n",
       "      <td>3.920000e+02</td>\n",
       "      <td>3.920000e+02</td>\n",
       "      <td>3.920000e+02</td>\n",
       "    </tr>\n",
       "    <tr>\n",
       "      <th>mean</th>\n",
       "      <td>-4.021726e-17</td>\n",
       "      <td>3.129583e-17</td>\n",
       "      <td>-4.641624e-16</td>\n",
       "      <td>1.042250e-16</td>\n",
       "      <td>6.485742e-17</td>\n",
       "      <td>1.543550e-16</td>\n",
       "      <td>3.880116e-17</td>\n",
       "      <td>1.028089e-16</td>\n",
       "    </tr>\n",
       "    <tr>\n",
       "      <th>std</th>\n",
       "      <td>1.001278e+00</td>\n",
       "      <td>1.001278e+00</td>\n",
       "      <td>1.001278e+00</td>\n",
       "      <td>1.001278e+00</td>\n",
       "      <td>1.001278e+00</td>\n",
       "      <td>1.001278e+00</td>\n",
       "      <td>1.001278e+00</td>\n",
       "      <td>1.001278e+00</td>\n",
       "    </tr>\n",
       "    <tr>\n",
       "      <th>min</th>\n",
       "      <td>-1.029213e+00</td>\n",
       "      <td>-2.161731e+00</td>\n",
       "      <td>-3.739001e+00</td>\n",
       "      <td>-2.108484e+00</td>\n",
       "      <td>-1.196867e+00</td>\n",
       "      <td>-2.120941e+00</td>\n",
       "      <td>-1.269525e+00</td>\n",
       "      <td>-9.682991e-01</td>\n",
       "    </tr>\n",
       "    <tr>\n",
       "      <th>25%</th>\n",
       "      <td>-7.174265e-01</td>\n",
       "      <td>-7.665958e-01</td>\n",
       "      <td>-6.941640e-01</td>\n",
       "      <td>-7.755315e-01</td>\n",
       "      <td>-6.681786e-01</td>\n",
       "      <td>-6.676780e-01</td>\n",
       "      <td>-7.340909e-01</td>\n",
       "      <td>-7.719850e-01</td>\n",
       "    </tr>\n",
       "    <tr>\n",
       "      <th>50%</th>\n",
       "      <td>-4.056403e-01</td>\n",
       "      <td>-1.176959e-01</td>\n",
       "      <td>-5.314565e-02</td>\n",
       "      <td>-1.384444e-02</td>\n",
       "      <td>-2.574448e-01</td>\n",
       "      <td>1.621036e-02</td>\n",
       "      <td>-2.131475e-01</td>\n",
       "      <td>-3.793569e-01</td>\n",
       "    </tr>\n",
       "    <tr>\n",
       "      <th>75%</th>\n",
       "      <td>5.297185e-01</td>\n",
       "      <td>6.609841e-01</td>\n",
       "      <td>5.878727e-01</td>\n",
       "      <td>7.478426e-01</td>\n",
       "      <td>2.859877e-01</td>\n",
       "      <td>5.718696e-01</td>\n",
       "      <td>4.751644e-01</td>\n",
       "      <td>5.040564e-01</td>\n",
       "    </tr>\n",
       "    <tr>\n",
       "      <th>max</th>\n",
       "      <td>4.271153e+00</td>\n",
       "      <td>2.445459e+00</td>\n",
       "      <td>3.151946e+00</td>\n",
       "      <td>3.223325e+00</td>\n",
       "      <td>5.812990e+00</td>\n",
       "      <td>4.846172e+00</td>\n",
       "      <td>5.497667e+00</td>\n",
       "      <td>4.921123e+00</td>\n",
       "    </tr>\n",
       "  </tbody>\n",
       "</table>\n",
       "</div>"
      ],
      "text/plain": [
       "                  0             1      ...                  6             7\n",
       "count  3.920000e+02  3.920000e+02      ...       3.920000e+02  3.920000e+02\n",
       "mean  -4.021726e-17  3.129583e-17      ...       3.880116e-17  1.028089e-16\n",
       "std    1.001278e+00  1.001278e+00      ...       1.001278e+00  1.001278e+00\n",
       "min   -1.029213e+00 -2.161731e+00      ...      -1.269525e+00 -9.682991e-01\n",
       "25%   -7.174265e-01 -7.665958e-01      ...      -7.340909e-01 -7.719850e-01\n",
       "50%   -4.056403e-01 -1.176959e-01      ...      -2.131475e-01 -3.793569e-01\n",
       "75%    5.297185e-01  6.609841e-01      ...       4.751644e-01  5.040564e-01\n",
       "max    4.271153e+00  2.445459e+00      ...       5.497667e+00  4.921123e+00\n",
       "\n",
       "[8 rows x 8 columns]"
      ]
     },
     "execution_count": 12,
     "metadata": {},
     "output_type": "execute_result"
    }
   ],
   "source": [
    "# Transform and display the training data\n",
    "X_standardized = scaler.transform(X)\n",
    "\n",
    "data = pd.DataFrame(X_standardized)\n",
    "data.describe()"
   ]
  },
  {
   "cell_type": "code",
   "execution_count": 13,
   "metadata": {},
   "outputs": [],
   "source": [
    "# import necessary sklearn and keras packages\n",
    "from sklearn.model_selection import GridSearchCV, KFold\n",
    "from keras.models import Sequential\n",
    "from keras.layers import Dense\n",
    "from keras.wrappers.scikit_learn import KerasClassifier\n",
    "from keras.optimizers import Adam\n",
    "\n",
    "# Do a grid search for the optimal batch size and number of epochs\n",
    "# import necessary packages\n",
    "from sklearn.model_selection import GridSearchCV\n",
    "from sklearn.model_selection import KFold\n",
    "from keras.models import Sequential\n",
    "from keras.layers import Dense\n",
    "from keras.wrappers.scikit_learn import KerasClassifier\n",
    "from keras.optimizers import Adam\n",
    "from keras.callbacks import ModelCheckpoint"
   ]
  },
  {
   "cell_type": "code",
   "execution_count": 14,
   "metadata": {},
   "outputs": [
    {
     "name": "stdout",
     "output_type": "stream",
     "text": [
      "Fitting 3 folds for each of 12 candidates, totalling 36 fits\n",
      "[CV] batch_size=16, epochs=2 .........................................\n",
      "WARNING:tensorflow:From /opt/conda/lib/python3.6/site-packages/tensorflow/python/framework/op_def_library.py:263: colocate_with (from tensorflow.python.framework.ops) is deprecated and will be removed in a future version.\n",
      "Instructions for updating:\n",
      "Colocations handled automatically by placer.\n"
     ]
    },
    {
     "name": "stderr",
     "output_type": "stream",
     "text": [
      "/opt/conda/lib/python3.6/site-packages/sklearn/model_selection/_split.py:426: FutureWarning: You should specify a value for 'n_splits' instead of relying on the default value. The default value will change from 3 to 5 in version 0.22.\n",
      "  warnings.warn(NSPLIT_WARNING, FutureWarning)\n",
      "[Parallel(n_jobs=1)]: Using backend SequentialBackend with 1 concurrent workers.\n"
     ]
    },
    {
     "name": "stdout",
     "output_type": "stream",
     "text": [
      "WARNING:tensorflow:From /opt/conda/lib/python3.6/site-packages/tensorflow/python/ops/math_ops.py:3066: to_int32 (from tensorflow.python.ops.math_ops) is deprecated and will be removed in a future version.\n",
      "Instructions for updating:\n",
      "Use tf.cast instead.\n",
      "[CV]  batch_size=16, epochs=2, score=0.7251908396946565, total=   4.6s\n",
      "[CV] batch_size=16, epochs=2 .........................................\n"
     ]
    },
    {
     "name": "stderr",
     "output_type": "stream",
     "text": [
      "[Parallel(n_jobs=1)]: Done   1 out of   1 | elapsed:    4.6s remaining:    0.0s\n"
     ]
    },
    {
     "name": "stdout",
     "output_type": "stream",
     "text": [
      "[CV]  batch_size=16, epochs=2, score=0.6946564885496184, total=   1.0s\n",
      "[CV] batch_size=16, epochs=2 .........................................\n"
     ]
    },
    {
     "name": "stderr",
     "output_type": "stream",
     "text": [
      "[Parallel(n_jobs=1)]: Done   2 out of   2 | elapsed:    5.6s remaining:    0.0s\n"
     ]
    },
    {
     "name": "stdout",
     "output_type": "stream",
     "text": [
      "[CV] ............... batch_size=16, epochs=2, score=0.8, total=   1.1s\n",
      "[CV] batch_size=16, epochs=5 .........................................\n"
     ]
    },
    {
     "name": "stderr",
     "output_type": "stream",
     "text": [
      "[Parallel(n_jobs=1)]: Done   3 out of   3 | elapsed:    6.8s remaining:    0.0s\n"
     ]
    },
    {
     "name": "stdout",
     "output_type": "stream",
     "text": [
      "[CV]  batch_size=16, epochs=5, score=0.7251908396946565, total=   1.4s\n",
      "[CV] batch_size=16, epochs=5 .........................................\n"
     ]
    },
    {
     "name": "stderr",
     "output_type": "stream",
     "text": [
      "[Parallel(n_jobs=1)]: Done   4 out of   4 | elapsed:    8.2s remaining:    0.0s\n"
     ]
    },
    {
     "name": "stdout",
     "output_type": "stream",
     "text": [
      "[CV]  batch_size=16, epochs=5, score=0.7557251908396947, total=   1.4s\n",
      "[CV] batch_size=16, epochs=5 .........................................\n"
     ]
    },
    {
     "name": "stderr",
     "output_type": "stream",
     "text": [
      "[Parallel(n_jobs=1)]: Done   5 out of   5 | elapsed:    9.6s remaining:    0.0s\n"
     ]
    },
    {
     "name": "stdout",
     "output_type": "stream",
     "text": [
      "[CV] . batch_size=16, epochs=5, score=0.823076923076923, total=   1.4s\n",
      "[CV] batch_size=16, epochs=10 ........................................\n"
     ]
    },
    {
     "name": "stderr",
     "output_type": "stream",
     "text": [
      "[Parallel(n_jobs=1)]: Done   6 out of   6 | elapsed:   11.0s remaining:    0.0s\n"
     ]
    },
    {
     "name": "stdout",
     "output_type": "stream",
     "text": [
      "[CV]  batch_size=16, epochs=10, score=0.7251908396946565, total=   1.9s\n",
      "[CV] batch_size=16, epochs=10 ........................................\n"
     ]
    },
    {
     "name": "stderr",
     "output_type": "stream",
     "text": [
      "[Parallel(n_jobs=1)]: Done   7 out of   7 | elapsed:   12.9s remaining:    0.0s\n"
     ]
    },
    {
     "name": "stdout",
     "output_type": "stream",
     "text": [
      "[CV]  batch_size=16, epochs=10, score=0.7633587786259542, total=   1.8s\n",
      "[CV] batch_size=16, epochs=10 ........................................\n"
     ]
    },
    {
     "name": "stderr",
     "output_type": "stream",
     "text": [
      "[Parallel(n_jobs=1)]: Done   8 out of   8 | elapsed:   14.7s remaining:    0.0s\n"
     ]
    },
    {
     "name": "stdout",
     "output_type": "stream",
     "text": [
      "[CV]  batch_size=16, epochs=10, score=0.823076923076923, total=   2.0s\n",
      "[CV] batch_size=32, epochs=2 .........................................\n"
     ]
    },
    {
     "name": "stderr",
     "output_type": "stream",
     "text": [
      "[Parallel(n_jobs=1)]: Done   9 out of   9 | elapsed:   16.8s remaining:    0.0s\n"
     ]
    },
    {
     "name": "stdout",
     "output_type": "stream",
     "text": [
      "[CV]  batch_size=32, epochs=2, score=0.6106870229007634, total=   1.5s\n",
      "[CV] batch_size=32, epochs=2 .........................................\n",
      "[CV]  batch_size=32, epochs=2, score=0.7175572519083969, total=   1.7s\n",
      "[CV] batch_size=32, epochs=2 .........................................\n",
      "[CV]  batch_size=32, epochs=2, score=0.7076923076923077, total=   1.6s\n",
      "[CV] batch_size=32, epochs=5 .........................................\n",
      "[CV]  batch_size=32, epochs=5, score=0.7480916030534351, total=   2.0s\n",
      "[CV] batch_size=32, epochs=5 .........................................\n",
      "[CV]  batch_size=32, epochs=5, score=0.7633587786259542, total=   2.2s\n",
      "[CV] batch_size=32, epochs=5 .........................................\n",
      "[CV]  batch_size=32, epochs=5, score=0.7769230769230769, total=   2.0s\n",
      "[CV] batch_size=32, epochs=10 ........................................\n",
      "[CV]  batch_size=32, epochs=10, score=0.7251908396946565, total=   2.4s\n",
      "[CV] batch_size=32, epochs=10 ........................................\n",
      "[CV]  batch_size=32, epochs=10, score=0.7480916030534351, total=   2.7s\n",
      "[CV] batch_size=32, epochs=10 ........................................\n",
      "[CV]  batch_size=32, epochs=10, score=0.8076923076923077, total=   2.7s\n",
      "[CV] batch_size=64, epochs=2 .........................................\n",
      "[CV]  batch_size=64, epochs=2, score=0.6106870229007634, total=   2.3s\n",
      "[CV] batch_size=64, epochs=2 .........................................\n",
      "[CV]  batch_size=64, epochs=2, score=0.6946564885496184, total=   2.4s\n",
      "[CV] batch_size=64, epochs=2 .........................................\n",
      "[CV] ............... batch_size=64, epochs=2, score=0.7, total=   2.5s\n",
      "[CV] batch_size=64, epochs=5 .........................................\n",
      "[CV]  batch_size=64, epochs=5, score=0.7557251908396947, total=   2.9s\n",
      "[CV] batch_size=64, epochs=5 .........................................\n",
      "[CV]  batch_size=64, epochs=5, score=0.7480916030534351, total=   2.7s\n",
      "[CV] batch_size=64, epochs=5 .........................................\n",
      "[CV]  batch_size=64, epochs=5, score=0.8076923076923077, total=   2.8s\n",
      "[CV] batch_size=64, epochs=10 ........................................\n",
      "[CV]  batch_size=64, epochs=10, score=0.6106870229007634, total=   3.0s\n",
      "[CV] batch_size=64, epochs=10 ........................................\n",
      "[CV]  batch_size=64, epochs=10, score=0.6946564885496184, total=   3.1s\n",
      "[CV] batch_size=64, epochs=10 ........................................\n",
      "[CV] .............. batch_size=64, epochs=10, score=0.7, total=   3.2s\n",
      "[CV] batch_size=128, epochs=2 ........................................\n",
      "[CV]  batch_size=128, epochs=2, score=0.6106870229007634, total=   3.3s\n",
      "[CV] batch_size=128, epochs=2 ........................................\n",
      "[CV]  batch_size=128, epochs=2, score=0.6946564885496184, total=   3.7s\n",
      "[CV] batch_size=128, epochs=2 ........................................\n",
      "[CV] .............. batch_size=128, epochs=2, score=0.7, total=   3.4s\n",
      "[CV] batch_size=128, epochs=5 ........................................\n",
      "[CV]  batch_size=128, epochs=5, score=0.6106870229007634, total=   3.7s\n",
      "[CV] batch_size=128, epochs=5 ........................................\n",
      "[CV]  batch_size=128, epochs=5, score=0.6946564885496184, total=   3.6s\n",
      "[CV] batch_size=128, epochs=5 ........................................\n",
      "[CV] .............. batch_size=128, epochs=5, score=0.7, total=   3.7s\n",
      "[CV] batch_size=128, epochs=10 .......................................\n",
      "[CV]  batch_size=128, epochs=10, score=0.6106870229007634, total=   4.2s\n",
      "[CV] batch_size=128, epochs=10 .......................................\n",
      "[CV]  batch_size=128, epochs=10, score=0.7709923664122137, total=   4.1s\n",
      "[CV] batch_size=128, epochs=10 .......................................\n",
      "[CV]  batch_size=128, epochs=10, score=0.823076923076923, total=   4.2s\n"
     ]
    },
    {
     "name": "stderr",
     "output_type": "stream",
     "text": [
      "[Parallel(n_jobs=1)]: Done  36 out of  36 | elapsed:  1.6min finished\n",
      "/opt/conda/lib/python3.6/site-packages/sklearn/model_selection/_search.py:841: DeprecationWarning: The default of the `iid` parameter will change from True to False in version 0.22 and will be removed in 0.24. This will change numeric results when test-set sizes are unequal.\n",
      "  DeprecationWarning)\n"
     ]
    },
    {
     "name": "stdout",
     "output_type": "stream",
     "text": [
      "Best: 0.7704081632653061, using {'batch_size': 16, 'epochs': 10}\n",
      "0.7397959183673469 (0.04420655086038713) with: {'batch_size': 16, 'epochs': 2}\n",
      "0.7678571428571429 (0.040850475022620486) with: {'batch_size': 16, 'epochs': 5}\n",
      "0.7704081632653061 (0.04024710335299166) with: {'batch_size': 16, 'epochs': 10}\n",
      "0.6785714285714286 (0.04826150648308716) with: {'batch_size': 32, 'epochs': 2}\n",
      "0.7627551020408163 (0.011770576951981667) with: {'batch_size': 32, 'epochs': 5}\n",
      "0.7602040816326531 (0.03473598863727556) with: {'batch_size': 32, 'epochs': 10}\n",
      "0.6683673469387755 (0.040922319147141326) with: {'batch_size': 64, 'epochs': 2}\n",
      "0.7704081632653061 (0.02644777265496764) with: {'batch_size': 64, 'epochs': 5}\n",
      "0.6683673469387755 (0.040922319147141326) with: {'batch_size': 64, 'epochs': 10}\n",
      "0.6683673469387755 (0.040922319147141326) with: {'batch_size': 128, 'epochs': 2}\n",
      "0.6683673469387755 (0.040922319147141326) with: {'batch_size': 128, 'epochs': 5}\n",
      "0.7346938775510204 (0.09038727439766982) with: {'batch_size': 128, 'epochs': 10}\n"
     ]
    }
   ],
   "source": [
    "\n",
    "# Define a random seed\n",
    "seed = 6\n",
    "np.random.seed(seed)\n",
    "\n",
    "# Start defining the model\n",
    "def create_model():\n",
    "    # create model\n",
    "    model = Sequential()\n",
    "    model.add(Dense(8, input_dim = 8, kernel_initializer='normal', activation='relu'))\n",
    "    model.add(Dense(16, input_dim = 8, kernel_initializer='normal', activation='relu'))\n",
    "    model.add(Dense(8, input_dim = 16, kernel_initializer='normal', activation='relu'))\n",
    "    model.add(Dense(1, activation='sigmoid'))\n",
    "\n",
    "    # compile the model\n",
    "    adam = Adam(lr = 0.01)\n",
    "    model.compile(loss = 'binary_crossentropy', optimizer = adam, metrics = ['accuracy'])\n",
    "    return model\n",
    "\n",
    "# create the model\n",
    "model = KerasClassifier(build_fn = create_model, verbose = 0)\n",
    "\n",
    "# define the grid search parameters\n",
    "batch_size = [16, 32, 64,128]\n",
    "epochs = [2, 5, 10]\n",
    "\n",
    "# make a dictionary of the grid search parameters\n",
    "param_grid = dict(batch_size=batch_size, epochs=epochs)\n",
    "\n",
    "# build and fit the GridSearchCV\n",
    "grid = GridSearchCV(estimator = model, param_grid = param_grid, cv = KFold(random_state=seed), verbose = 10)\n",
    "grid_results = grid.fit(X_standardized, Y)\n",
    "\n",
    "# summarize the results\n",
    "print(\"Best: {0}, using {1}\".format(grid_results.best_score_, grid_results.best_params_))\n",
    "means = grid_results.cv_results_['mean_test_score']\n",
    "stds = grid_results.cv_results_['std_test_score']\n",
    "params = grid_results.cv_results_['params']\n",
    "for mean, stdev, param in zip(means, stds, params):\n",
    "    print('{0} ({1}) with: {2}'.format(mean, stdev, param))\n"
   ]
  },
  {
   "cell_type": "code",
   "execution_count": 15,
   "metadata": {},
   "outputs": [],
   "source": [
    "best_batch_size = 64\n",
    "best_epochs = 10 # 100"
   ]
  },
  {
   "cell_type": "code",
   "execution_count": 16,
   "metadata": {},
   "outputs": [
    {
     "name": "stdout",
     "output_type": "stream",
     "text": [
      "Fitting 3 folds for each of 12 candidates, totalling 36 fits\n",
      "[CV] dropout_rate=0.0, learn_rate=0.001 ..............................\n"
     ]
    },
    {
     "name": "stderr",
     "output_type": "stream",
     "text": [
      "/opt/conda/lib/python3.6/site-packages/sklearn/model_selection/_split.py:426: FutureWarning: You should specify a value for 'n_splits' instead of relying on the default value. The default value will change from 3 to 5 in version 0.22.\n",
      "  warnings.warn(NSPLIT_WARNING, FutureWarning)\n",
      "[Parallel(n_jobs=1)]: Using backend SequentialBackend with 1 concurrent workers.\n"
     ]
    },
    {
     "name": "stdout",
     "output_type": "stream",
     "text": [
      "[CV]  dropout_rate=0.0, learn_rate=0.001, score=0.6106870229007634, total=   4.6s\n",
      "[CV] dropout_rate=0.0, learn_rate=0.001 ..............................\n"
     ]
    },
    {
     "name": "stderr",
     "output_type": "stream",
     "text": [
      "[Parallel(n_jobs=1)]: Done   1 out of   1 | elapsed:    4.6s remaining:    0.0s\n"
     ]
    },
    {
     "name": "stdout",
     "output_type": "stream",
     "text": [
      "[CV]  dropout_rate=0.0, learn_rate=0.001, score=0.6946564885496184, total=   4.8s\n",
      "[CV] dropout_rate=0.0, learn_rate=0.001 ..............................\n"
     ]
    },
    {
     "name": "stderr",
     "output_type": "stream",
     "text": [
      "[Parallel(n_jobs=1)]: Done   2 out of   2 | elapsed:    9.4s remaining:    0.0s\n"
     ]
    },
    {
     "name": "stdout",
     "output_type": "stream",
     "text": [
      "[CV] .... dropout_rate=0.0, learn_rate=0.001, score=0.7, total=   4.7s\n",
      "[CV] dropout_rate=0.0, learn_rate=0.01 ...............................\n"
     ]
    },
    {
     "name": "stderr",
     "output_type": "stream",
     "text": [
      "[Parallel(n_jobs=1)]: Done   3 out of   3 | elapsed:   14.1s remaining:    0.0s\n"
     ]
    },
    {
     "name": "stdout",
     "output_type": "stream",
     "text": [
      "[CV]  dropout_rate=0.0, learn_rate=0.01, score=0.6106870229007634, total=   5.0s\n",
      "[CV] dropout_rate=0.0, learn_rate=0.01 ...............................\n"
     ]
    },
    {
     "name": "stderr",
     "output_type": "stream",
     "text": [
      "[Parallel(n_jobs=1)]: Done   4 out of   4 | elapsed:   19.1s remaining:    0.0s\n"
     ]
    },
    {
     "name": "stdout",
     "output_type": "stream",
     "text": [
      "[CV]  dropout_rate=0.0, learn_rate=0.01, score=0.7557251908396947, total=   4.9s\n",
      "[CV] dropout_rate=0.0, learn_rate=0.01 ...............................\n"
     ]
    },
    {
     "name": "stderr",
     "output_type": "stream",
     "text": [
      "[Parallel(n_jobs=1)]: Done   5 out of   5 | elapsed:   24.0s remaining:    0.0s\n"
     ]
    },
    {
     "name": "stdout",
     "output_type": "stream",
     "text": [
      "[CV]  dropout_rate=0.0, learn_rate=0.01, score=0.8076923076923077, total=   5.1s\n",
      "[CV] dropout_rate=0.0, learn_rate=0.1 ................................\n"
     ]
    },
    {
     "name": "stderr",
     "output_type": "stream",
     "text": [
      "[Parallel(n_jobs=1)]: Done   6 out of   6 | elapsed:   29.1s remaining:    0.0s\n"
     ]
    },
    {
     "name": "stdout",
     "output_type": "stream",
     "text": [
      "[CV]  dropout_rate=0.0, learn_rate=0.1, score=0.7251908396946565, total=   5.4s\n",
      "[CV] dropout_rate=0.0, learn_rate=0.1 ................................\n"
     ]
    },
    {
     "name": "stderr",
     "output_type": "stream",
     "text": [
      "[Parallel(n_jobs=1)]: Done   7 out of   7 | elapsed:   34.6s remaining:    0.0s\n"
     ]
    },
    {
     "name": "stdout",
     "output_type": "stream",
     "text": [
      "[CV]  dropout_rate=0.0, learn_rate=0.1, score=0.7786259541984732, total=   5.3s\n",
      "[CV] dropout_rate=0.0, learn_rate=0.1 ................................\n"
     ]
    },
    {
     "name": "stderr",
     "output_type": "stream",
     "text": [
      "[Parallel(n_jobs=1)]: Done   8 out of   8 | elapsed:   39.9s remaining:    0.0s\n"
     ]
    },
    {
     "name": "stdout",
     "output_type": "stream",
     "text": [
      "[CV]  dropout_rate=0.0, learn_rate=0.1, score=0.8307692307692308, total=   5.5s\n",
      "[CV] dropout_rate=0.2, learn_rate=0.001 ..............................\n",
      "WARNING:tensorflow:From /opt/conda/lib/python3.6/site-packages/keras/backend/tensorflow_backend.py:3445: calling dropout (from tensorflow.python.ops.nn_ops) with keep_prob is deprecated and will be removed in a future version.\n",
      "Instructions for updating:\n",
      "Please use `rate` instead of `keep_prob`. Rate should be set to `rate = 1 - keep_prob`.\n"
     ]
    },
    {
     "name": "stderr",
     "output_type": "stream",
     "text": [
      "[Parallel(n_jobs=1)]: Done   9 out of   9 | elapsed:   45.3s remaining:    0.0s\n"
     ]
    },
    {
     "name": "stdout",
     "output_type": "stream",
     "text": [
      "[CV]  dropout_rate=0.2, learn_rate=0.001, score=0.6106870229007634, total=   6.8s\n",
      "[CV] dropout_rate=0.2, learn_rate=0.001 ..............................\n",
      "[CV]  dropout_rate=0.2, learn_rate=0.001, score=0.6946564885496184, total=   6.1s\n",
      "[CV] dropout_rate=0.2, learn_rate=0.001 ..............................\n",
      "[CV] .... dropout_rate=0.2, learn_rate=0.001, score=0.7, total=   6.4s\n",
      "[CV] dropout_rate=0.2, learn_rate=0.01 ...............................\n",
      "[CV]  dropout_rate=0.2, learn_rate=0.01, score=0.7633587786259542, total=   6.2s\n",
      "[CV] dropout_rate=0.2, learn_rate=0.01 ...............................\n",
      "[CV]  dropout_rate=0.2, learn_rate=0.01, score=0.6946564885496184, total=   6.5s\n",
      "[CV] dropout_rate=0.2, learn_rate=0.01 ...............................\n",
      "[CV]  dropout_rate=0.2, learn_rate=0.01, score=0.8153846153846154, total=   6.8s\n",
      "[CV] dropout_rate=0.2, learn_rate=0.1 ................................\n",
      "[CV]  dropout_rate=0.2, learn_rate=0.1, score=0.7175572519083969, total=   6.8s\n",
      "[CV] dropout_rate=0.2, learn_rate=0.1 ................................\n",
      "[CV]  dropout_rate=0.2, learn_rate=0.1, score=0.7404580152671756, total=   7.1s\n",
      "[CV] dropout_rate=0.2, learn_rate=0.1 ................................\n",
      "[CV]  dropout_rate=0.2, learn_rate=0.1, score=0.8307692307692308, total=   7.0s\n",
      "[CV] dropout_rate=0.4, learn_rate=0.001 ..............................\n",
      "[CV]  dropout_rate=0.4, learn_rate=0.001, score=0.6106870229007634, total=   7.8s\n",
      "[CV] dropout_rate=0.4, learn_rate=0.001 ..............................\n",
      "[CV]  dropout_rate=0.4, learn_rate=0.001, score=0.6946564885496184, total=   8.3s\n",
      "[CV] dropout_rate=0.4, learn_rate=0.001 ..............................\n",
      "[CV] .... dropout_rate=0.4, learn_rate=0.001, score=0.7, total=   7.9s\n",
      "[CV] dropout_rate=0.4, learn_rate=0.01 ...............................\n",
      "[CV]  dropout_rate=0.4, learn_rate=0.01, score=0.7175572519083969, total=   7.8s\n",
      "[CV] dropout_rate=0.4, learn_rate=0.01 ...............................\n",
      "[CV]  dropout_rate=0.4, learn_rate=0.01, score=0.7633587786259542, total=   8.2s\n",
      "[CV] dropout_rate=0.4, learn_rate=0.01 ...............................\n",
      "[CV]  dropout_rate=0.4, learn_rate=0.01, score=0.8076923076923077, total=   8.1s\n",
      "[CV] dropout_rate=0.4, learn_rate=0.1 ................................\n",
      "[CV]  dropout_rate=0.4, learn_rate=0.1, score=0.6106870229007634, total=   8.6s\n",
      "[CV] dropout_rate=0.4, learn_rate=0.1 ................................\n",
      "[CV]  dropout_rate=0.4, learn_rate=0.1, score=0.7862595419847328, total=   8.8s\n",
      "[CV] dropout_rate=0.4, learn_rate=0.1 ................................\n",
      "[CV]  dropout_rate=0.4, learn_rate=0.1, score=0.7076923076923077, total=   8.9s\n",
      "[CV] dropout_rate=0.6, learn_rate=0.001 ..............................\n",
      "[CV]  dropout_rate=0.6, learn_rate=0.001, score=0.6106870229007634, total=   9.1s\n",
      "[CV] dropout_rate=0.6, learn_rate=0.001 ..............................\n",
      "[CV]  dropout_rate=0.6, learn_rate=0.001, score=0.6946564885496184, total=   9.1s\n",
      "[CV] dropout_rate=0.6, learn_rate=0.001 ..............................\n",
      "[CV] .... dropout_rate=0.6, learn_rate=0.001, score=0.7, total=   9.4s\n",
      "[CV] dropout_rate=0.6, learn_rate=0.01 ...............................\n",
      "[CV]  dropout_rate=0.6, learn_rate=0.01, score=0.6106870229007634, total=   9.5s\n",
      "[CV] dropout_rate=0.6, learn_rate=0.01 ...............................\n",
      "[CV]  dropout_rate=0.6, learn_rate=0.01, score=0.6946564885496184, total=  10.8s\n",
      "[CV] dropout_rate=0.6, learn_rate=0.01 ...............................\n",
      "[CV] ..... dropout_rate=0.6, learn_rate=0.01, score=0.7, total=  10.2s\n",
      "[CV] dropout_rate=0.6, learn_rate=0.1 ................................\n",
      "[CV]  dropout_rate=0.6, learn_rate=0.1, score=0.6106870229007634, total=  10.2s\n",
      "[CV] dropout_rate=0.6, learn_rate=0.1 ................................\n",
      "[CV]  dropout_rate=0.6, learn_rate=0.1, score=0.6946564885496184, total=  10.4s\n",
      "[CV] dropout_rate=0.6, learn_rate=0.1 ................................\n",
      "[CV] ...... dropout_rate=0.6, learn_rate=0.1, score=0.7, total=  10.5s\n"
     ]
    },
    {
     "name": "stderr",
     "output_type": "stream",
     "text": [
      "[Parallel(n_jobs=1)]: Done  36 out of  36 | elapsed:  4.5min finished\n",
      "/opt/conda/lib/python3.6/site-packages/sklearn/model_selection/_search.py:841: DeprecationWarning: The default of the `iid` parameter will change from True to False in version 0.22 and will be removed in 0.24. This will change numeric results when test-set sizes are unequal.\n",
      "  DeprecationWarning)\n"
     ]
    },
    {
     "name": "stdout",
     "output_type": "stream",
     "text": [
      "Best: 0.7780612244897959, using {'dropout_rate': 0.0, 'learn_rate': 0.1}\n",
      "0.6683673469387755 (0.040922319147141326) with: {'dropout_rate': 0.0, 'learn_rate': 0.001}\n",
      "0.7244897959183674 (0.08336583367699418) with: {'dropout_rate': 0.0, 'learn_rate': 0.01}\n",
      "0.7780612244897959 (0.04307624211807271) with: {'dropout_rate': 0.0, 'learn_rate': 0.1}\n",
      "0.6683673469387755 (0.040922319147141326) with: {'dropout_rate': 0.2, 'learn_rate': 0.001}\n",
      "0.7576530612244898 (0.04942083877650794) with: {'dropout_rate': 0.2, 'learn_rate': 0.01}\n",
      "0.7627551020408163 (0.04881531660922254) with: {'dropout_rate': 0.2, 'learn_rate': 0.1}\n",
      "0.6683673469387755 (0.040922319147141326) with: {'dropout_rate': 0.4, 'learn_rate': 0.001}\n",
      "0.7627551020408163 (0.03677622413898435) with: {'dropout_rate': 0.4, 'learn_rate': 0.01}\n",
      "0.701530612244898 (0.07189967139719973) with: {'dropout_rate': 0.4, 'learn_rate': 0.1}\n",
      "0.6683673469387755 (0.040922319147141326) with: {'dropout_rate': 0.6, 'learn_rate': 0.001}\n",
      "0.6683673469387755 (0.040922319147141326) with: {'dropout_rate': 0.6, 'learn_rate': 0.01}\n",
      "0.6683673469387755 (0.040922319147141326) with: {'dropout_rate': 0.6, 'learn_rate': 0.1}\n"
     ]
    }
   ],
   "source": [
    "\n",
    "# Do a grid search for learning rate and dropout rate\n",
    "# import necessary packages\n",
    "from keras.layers import Dropout\n",
    "\n",
    "# Define a random seed\n",
    "seed = 6\n",
    "np.random.seed(seed)\n",
    "\n",
    "# Start defining the model\n",
    "def create_model(learn_rate, dropout_rate):\n",
    "    # create model\n",
    "    model = Sequential()\n",
    "    model.add(Dense(8, input_dim = 8, kernel_initializer='normal', activation='relu'))\n",
    "    model.add(Dropout(dropout_rate))\n",
    "    model.add(Dense(16, input_dim = 8, kernel_initializer='normal', activation='relu'))\n",
    "    model.add(Dropout(dropout_rate))\n",
    "    model.add(Dense(8, input_dim = 16, kernel_initializer='normal', activation='relu'))\n",
    "    model.add(Dropout(dropout_rate))\n",
    "    model.add(Dense(1, activation='sigmoid'))\n",
    "\n",
    "    # compile the model\n",
    "    adam = Adam(lr = learn_rate)\n",
    "    model.compile(loss = 'binary_crossentropy', optimizer = adam, metrics = ['accuracy'])\n",
    "    return model\n",
    "\n",
    "# create the model\n",
    "model = KerasClassifier(build_fn = create_model, epochs = best_epochs, batch_size = best_batch_size, verbose = 0)\n",
    "\n",
    "# define the grid search parameters\n",
    "learn_rate = [0.001, 0.01, 0.1]\n",
    "dropout_rate = [0.0, 0.2, 0.4,0.6]\n",
    "\n",
    "# make a dictionary of the grid search parameters\n",
    "param_grid = dict(learn_rate=learn_rate, dropout_rate=dropout_rate)\n",
    "\n",
    "# build and fit the GridSearchCV\n",
    "grid = GridSearchCV(estimator = model, param_grid = param_grid, cv = KFold(random_state=seed), verbose = 10)\n",
    "grid_results = grid.fit(X_standardized, Y)\n",
    "\n",
    "# summarize the results\n",
    "print(\"Best: {0}, using {1}\".format(grid_results.best_score_, grid_results.best_params_))\n",
    "means = grid_results.cv_results_['mean_test_score']\n",
    "stds = grid_results.cv_results_['std_test_score']\n",
    "params = grid_results.cv_results_['params']\n",
    "for mean, stdev, param in zip(means, stds, params):\n",
    "    print('{0} ({1}) with: {2}'.format(mean, stdev, param))"
   ]
  },
  {
   "cell_type": "code",
   "execution_count": 17,
   "metadata": {},
   "outputs": [],
   "source": [
    "best_dropout_rate = 0.0\n",
    "best_learn_rate = 0.01"
   ]
  },
  {
   "cell_type": "code",
   "execution_count": 18,
   "metadata": {},
   "outputs": [
    {
     "name": "stdout",
     "output_type": "stream",
     "text": [
      "Fitting 3 folds for each of 12 candidates, totalling 36 fits\n",
      "[CV] activation=softmax, init=uniform ................................\n"
     ]
    },
    {
     "name": "stderr",
     "output_type": "stream",
     "text": [
      "/opt/conda/lib/python3.6/site-packages/sklearn/model_selection/_split.py:426: FutureWarning: You should specify a value for 'n_splits' instead of relying on the default value. The default value will change from 3 to 5 in version 0.22.\n",
      "  warnings.warn(NSPLIT_WARNING, FutureWarning)\n",
      "[Parallel(n_jobs=1)]: Using backend SequentialBackend with 1 concurrent workers.\n"
     ]
    },
    {
     "name": "stdout",
     "output_type": "stream",
     "text": [
      "[CV]  activation=softmax, init=uniform, score=0.6106870229007634, total=  10.8s\n",
      "[CV] activation=softmax, init=uniform ................................\n"
     ]
    },
    {
     "name": "stderr",
     "output_type": "stream",
     "text": [
      "[Parallel(n_jobs=1)]: Done   1 out of   1 | elapsed:   10.8s remaining:    0.0s\n"
     ]
    },
    {
     "name": "stdout",
     "output_type": "stream",
     "text": [
      "[CV]  activation=softmax, init=uniform, score=0.6946564885496184, total=  11.0s\n",
      "[CV] activation=softmax, init=uniform ................................\n"
     ]
    },
    {
     "name": "stderr",
     "output_type": "stream",
     "text": [
      "[Parallel(n_jobs=1)]: Done   2 out of   2 | elapsed:   21.9s remaining:    0.0s\n"
     ]
    },
    {
     "name": "stdout",
     "output_type": "stream",
     "text": [
      "[CV] ...... activation=softmax, init=uniform, score=0.7, total=  10.9s\n",
      "[CV] activation=softmax, init=normal .................................\n"
     ]
    },
    {
     "name": "stderr",
     "output_type": "stream",
     "text": [
      "[Parallel(n_jobs=1)]: Done   3 out of   3 | elapsed:   32.7s remaining:    0.0s\n"
     ]
    },
    {
     "name": "stdout",
     "output_type": "stream",
     "text": [
      "[CV]  activation=softmax, init=normal, score=0.6106870229007634, total=  11.4s\n",
      "[CV] activation=softmax, init=normal .................................\n"
     ]
    },
    {
     "name": "stderr",
     "output_type": "stream",
     "text": [
      "[Parallel(n_jobs=1)]: Done   4 out of   4 | elapsed:   44.1s remaining:    0.0s\n"
     ]
    },
    {
     "name": "stdout",
     "output_type": "stream",
     "text": [
      "[CV]  activation=softmax, init=normal, score=0.6946564885496184, total=  11.3s\n",
      "[CV] activation=softmax, init=normal .................................\n"
     ]
    },
    {
     "name": "stderr",
     "output_type": "stream",
     "text": [
      "[Parallel(n_jobs=1)]: Done   5 out of   5 | elapsed:   55.4s remaining:    0.0s\n"
     ]
    },
    {
     "name": "stdout",
     "output_type": "stream",
     "text": [
      "[CV] ....... activation=softmax, init=normal, score=0.7, total=  11.4s\n",
      "[CV] activation=softmax, init=zero ...................................\n"
     ]
    },
    {
     "name": "stderr",
     "output_type": "stream",
     "text": [
      "[Parallel(n_jobs=1)]: Done   6 out of   6 | elapsed:  1.1min remaining:    0.0s\n"
     ]
    },
    {
     "name": "stdout",
     "output_type": "stream",
     "text": [
      "[CV]  activation=softmax, init=zero, score=0.6106870229007634, total=  12.1s\n",
      "[CV] activation=softmax, init=zero ...................................\n"
     ]
    },
    {
     "name": "stderr",
     "output_type": "stream",
     "text": [
      "[Parallel(n_jobs=1)]: Done   7 out of   7 | elapsed:  1.3min remaining:    0.0s\n"
     ]
    },
    {
     "name": "stdout",
     "output_type": "stream",
     "text": [
      "[CV]  activation=softmax, init=zero, score=0.6946564885496184, total=  11.8s\n",
      "[CV] activation=softmax, init=zero ...................................\n"
     ]
    },
    {
     "name": "stderr",
     "output_type": "stream",
     "text": [
      "[Parallel(n_jobs=1)]: Done   8 out of   8 | elapsed:  1.5min remaining:    0.0s\n"
     ]
    },
    {
     "name": "stdout",
     "output_type": "stream",
     "text": [
      "[CV] ......... activation=softmax, init=zero, score=0.7, total=  12.1s\n",
      "[CV] activation=relu, init=uniform ...................................\n"
     ]
    },
    {
     "name": "stderr",
     "output_type": "stream",
     "text": [
      "[Parallel(n_jobs=1)]: Done   9 out of   9 | elapsed:  1.7min remaining:    0.0s\n"
     ]
    },
    {
     "name": "stdout",
     "output_type": "stream",
     "text": [
      "[CV]  activation=relu, init=uniform, score=0.7251908396946565, total=  12.0s\n",
      "[CV] activation=relu, init=uniform ...................................\n",
      "[CV]  activation=relu, init=uniform, score=0.7633587786259542, total=  12.1s\n",
      "[CV] activation=relu, init=uniform ...................................\n",
      "[CV]  activation=relu, init=uniform, score=0.8076923076923077, total=  12.9s\n",
      "[CV] activation=relu, init=normal ....................................\n",
      "[CV]  activation=relu, init=normal, score=0.6106870229007634, total=  13.5s\n",
      "[CV] activation=relu, init=normal ....................................\n",
      "[CV]  activation=relu, init=normal, score=0.7557251908396947, total=  13.0s\n",
      "[CV] activation=relu, init=normal ....................................\n",
      "[CV]  activation=relu, init=normal, score=0.8076923076923077, total=  13.1s\n",
      "[CV] activation=relu, init=zero ......................................\n",
      "[CV]  activation=relu, init=zero, score=0.6106870229007634, total=  13.4s\n",
      "[CV] activation=relu, init=zero ......................................\n",
      "[CV]  activation=relu, init=zero, score=0.6946564885496184, total=  13.7s\n",
      "[CV] activation=relu, init=zero ......................................\n",
      "[CV] ............ activation=relu, init=zero, score=0.7, total=  13.4s\n",
      "[CV] activation=tanh, init=uniform ...................................\n",
      "[CV]  activation=tanh, init=uniform, score=0.7480916030534351, total=  13.7s\n",
      "[CV] activation=tanh, init=uniform ...................................\n",
      "[CV]  activation=tanh, init=uniform, score=0.7709923664122137, total=  13.6s\n",
      "[CV] activation=tanh, init=uniform ...................................\n",
      "[CV]  activation=tanh, init=uniform, score=0.8153846153846154, total=  14.5s\n",
      "[CV] activation=tanh, init=normal ....................................\n",
      "[CV]  activation=tanh, init=normal, score=0.7709923664122137, total=  14.0s\n",
      "[CV] activation=tanh, init=normal ....................................\n",
      "[CV]  activation=tanh, init=normal, score=0.7557251908396947, total=  14.5s\n",
      "[CV] activation=tanh, init=normal ....................................\n",
      "[CV]  activation=tanh, init=normal, score=0.823076923076923, total=  14.6s\n",
      "[CV] activation=tanh, init=zero ......................................\n",
      "[CV]  activation=tanh, init=zero, score=0.6106870229007634, total=  15.1s\n",
      "[CV] activation=tanh, init=zero ......................................\n",
      "[CV]  activation=tanh, init=zero, score=0.6946564885496184, total=  14.7s\n",
      "[CV] activation=tanh, init=zero ......................................\n",
      "[CV] ............ activation=tanh, init=zero, score=0.7, total=  15.4s\n",
      "[CV] activation=linear, init=uniform .................................\n",
      "[CV]  activation=linear, init=uniform, score=0.7633587786259542, total=  15.2s\n",
      "[CV] activation=linear, init=uniform .................................\n",
      "[CV]  activation=linear, init=uniform, score=0.7786259541984732, total=  15.8s\n",
      "[CV] activation=linear, init=uniform .................................\n",
      "[CV]  activation=linear, init=uniform, score=0.8153846153846154, total=  15.5s\n",
      "[CV] activation=linear, init=normal ..................................\n",
      "[CV]  activation=linear, init=normal, score=0.7633587786259542, total=  15.9s\n",
      "[CV] activation=linear, init=normal ..................................\n",
      "[CV]  activation=linear, init=normal, score=0.7633587786259542, total=  16.1s\n",
      "[CV] activation=linear, init=normal ..................................\n",
      "[CV]  activation=linear, init=normal, score=0.8384615384615385, total=  16.3s\n",
      "[CV] activation=linear, init=zero ....................................\n",
      "[CV]  activation=linear, init=zero, score=0.6106870229007634, total=  16.2s\n",
      "[CV] activation=linear, init=zero ....................................\n",
      "[CV]  activation=linear, init=zero, score=0.6946564885496184, total=  16.3s\n",
      "[CV] activation=linear, init=zero ....................................\n",
      "[CV] .......... activation=linear, init=zero, score=0.7, total=  16.9s\n"
     ]
    },
    {
     "name": "stderr",
     "output_type": "stream",
     "text": [
      "[Parallel(n_jobs=1)]: Done  36 out of  36 | elapsed:  8.2min finished\n",
      "/opt/conda/lib/python3.6/site-packages/sklearn/model_selection/_search.py:841: DeprecationWarning: The default of the `iid` parameter will change from True to False in version 0.22 and will be removed in 0.24. This will change numeric results when test-set sizes are unequal.\n",
      "  DeprecationWarning)\n"
     ]
    },
    {
     "name": "stdout",
     "output_type": "stream",
     "text": [
      "Best: 0.7882653061224489, using {'activation': 'linear', 'init': 'normal'}\n",
      "0.6683673469387755 (0.040922319147141326) with: {'activation': 'softmax', 'init': 'uniform'}\n",
      "0.6683673469387755 (0.040922319147141326) with: {'activation': 'softmax', 'init': 'normal'}\n",
      "0.6683673469387755 (0.040922319147141326) with: {'activation': 'softmax', 'init': 'zero'}\n",
      "0.7653061224489796 (0.03368761076185709) with: {'activation': 'relu', 'init': 'uniform'}\n",
      "0.7244897959183674 (0.08336583367699418) with: {'activation': 'relu', 'init': 'normal'}\n",
      "0.6683673469387755 (0.040922319147141326) with: {'activation': 'relu', 'init': 'zero'}\n",
      "0.7780612244897959 (0.02790754909626552) with: {'activation': 'tanh', 'init': 'uniform'}\n",
      "0.7831632653061225 (0.028799589930051463) with: {'activation': 'tanh', 'init': 'normal'}\n",
      "0.6683673469387755 (0.040922319147141326) with: {'activation': 'tanh', 'init': 'zero'}\n",
      "0.7857142857142857 (0.02181171876613515) with: {'activation': 'linear', 'init': 'uniform'}\n",
      "0.7882653061224489 (0.035358363098056046) with: {'activation': 'linear', 'init': 'normal'}\n",
      "0.6683673469387755 (0.040922319147141326) with: {'activation': 'linear', 'init': 'zero'}\n"
     ]
    }
   ],
   "source": [
    "\n",
    "# Do a grid search to optimize kernel initialization and activation functions\n",
    "# import necessary packages\n",
    "\n",
    "# Define a random seed\n",
    "seed = 6\n",
    "np.random.seed(seed)\n",
    "\n",
    "# Start defining the model\n",
    "def create_model(activation, init):\n",
    "    # create model\n",
    "    model = Sequential()\n",
    "    model.add(Dense(8, input_dim = 8, kernel_initializer= init, activation= activation))\n",
    "    model.add(Dense(16, input_dim = 8, kernel_initializer= init, activation= activation))\n",
    "    model.add(Dense(8, input_dim = 16, kernel_initializer= init, activation= activation))\n",
    "    model.add(Dense(1, activation='sigmoid'))\n",
    "\n",
    "    # compile the model\n",
    "    adam = Adam(lr = best_learn_rate)\n",
    "    model.compile(loss = 'binary_crossentropy', optimizer = adam, metrics = ['accuracy'])\n",
    "    return model\n",
    "\n",
    "# create the model\n",
    "model = KerasClassifier(build_fn = create_model, epochs = best_epochs, batch_size = best_batch_size, verbose = 0)\n",
    "\n",
    "# define the grid search parameters\n",
    "activation = ['softmax', 'relu', 'tanh', 'linear']\n",
    "init = ['uniform', 'normal', 'zero']\n",
    "\n",
    "# make a dictionary of the grid search parameters\n",
    "param_grid = dict(activation = activation, init = init)\n",
    "\n",
    "# build and fit the GridSearchCV\n",
    "grid = GridSearchCV(estimator = model, param_grid = param_grid, cv = KFold(random_state=seed), verbose = 10)\n",
    "grid_results = grid.fit(X_standardized, Y)\n",
    "\n",
    "# summarize the results\n",
    "print(\"Best: {0}, using {1}\".format(grid_results.best_score_, grid_results.best_params_))\n",
    "means = grid_results.cv_results_['mean_test_score']\n",
    "stds = grid_results.cv_results_['std_test_score']\n",
    "params = grid_results.cv_results_['params']\n",
    "for mean, stdev, param in zip(means, stds, params):\n",
    "    print('{0} ({1}) with: {2}'.format(mean, stdev, param))"
   ]
  },
  {
   "cell_type": "code",
   "execution_count": 19,
   "metadata": {},
   "outputs": [],
   "source": [
    "best_activation = 'relu'\n",
    "best_init = 'normal'"
   ]
  },
  {
   "cell_type": "code",
   "execution_count": 20,
   "metadata": {},
   "outputs": [
    {
     "name": "stdout",
     "output_type": "stream",
     "text": [
      "Fitting 3 folds for each of 27 candidates, totalling 81 fits\n",
      "[CV] neuron1=8, neuron2=16, neuron3=8 ................................\n"
     ]
    },
    {
     "name": "stderr",
     "output_type": "stream",
     "text": [
      "/opt/conda/lib/python3.6/site-packages/sklearn/model_selection/_split.py:426: FutureWarning: You should specify a value for 'n_splits' instead of relying on the default value. The default value will change from 3 to 5 in version 0.22.\n",
      "  warnings.warn(NSPLIT_WARNING, FutureWarning)\n",
      "[Parallel(n_jobs=1)]: Using backend SequentialBackend with 1 concurrent workers.\n"
     ]
    },
    {
     "name": "stdout",
     "output_type": "stream",
     "text": [
      "[CV]  neuron1=8, neuron2=16, neuron3=8, score=0.6106870229007634, total=  18.7s\n",
      "[CV] neuron1=8, neuron2=16, neuron3=8 ................................\n"
     ]
    },
    {
     "name": "stderr",
     "output_type": "stream",
     "text": [
      "[Parallel(n_jobs=1)]: Done   1 out of   1 | elapsed:   18.7s remaining:    0.0s\n"
     ]
    },
    {
     "name": "stdout",
     "output_type": "stream",
     "text": [
      "[CV]  neuron1=8, neuron2=16, neuron3=8, score=0.7251908396946565, total=  17.4s\n",
      "[CV] neuron1=8, neuron2=16, neuron3=8 ................................\n"
     ]
    },
    {
     "name": "stderr",
     "output_type": "stream",
     "text": [
      "[Parallel(n_jobs=1)]: Done   2 out of   2 | elapsed:   36.1s remaining:    0.0s\n"
     ]
    },
    {
     "name": "stdout",
     "output_type": "stream",
     "text": [
      "[CV]  neuron1=8, neuron2=16, neuron3=8, score=0.7692307692307693, total=  18.1s\n",
      "[CV] neuron1=8, neuron2=16, neuron3=16 ...............................\n"
     ]
    },
    {
     "name": "stderr",
     "output_type": "stream",
     "text": [
      "[Parallel(n_jobs=1)]: Done   3 out of   3 | elapsed:   54.3s remaining:    0.0s\n"
     ]
    },
    {
     "name": "stdout",
     "output_type": "stream",
     "text": [
      "[CV]  neuron1=8, neuron2=16, neuron3=16, score=0.6106870229007634, total=  17.7s\n",
      "[CV] neuron1=8, neuron2=16, neuron3=16 ...............................\n"
     ]
    },
    {
     "name": "stderr",
     "output_type": "stream",
     "text": [
      "[Parallel(n_jobs=1)]: Done   4 out of   4 | elapsed:  1.2min remaining:    0.0s\n"
     ]
    },
    {
     "name": "stdout",
     "output_type": "stream",
     "text": [
      "[CV]  neuron1=8, neuron2=16, neuron3=16, score=0.7557251908396947, total=  17.7s\n",
      "[CV] neuron1=8, neuron2=16, neuron3=16 ...............................\n"
     ]
    },
    {
     "name": "stderr",
     "output_type": "stream",
     "text": [
      "[Parallel(n_jobs=1)]: Done   5 out of   5 | elapsed:  1.5min remaining:    0.0s\n"
     ]
    },
    {
     "name": "stdout",
     "output_type": "stream",
     "text": [
      "[CV]  neuron1=8, neuron2=16, neuron3=16, score=0.7923076923076923, total=  18.4s\n",
      "[CV] neuron1=8, neuron2=16, neuron3=32 ...............................\n"
     ]
    },
    {
     "name": "stderr",
     "output_type": "stream",
     "text": [
      "[Parallel(n_jobs=1)]: Done   6 out of   6 | elapsed:  1.8min remaining:    0.0s\n"
     ]
    },
    {
     "name": "stdout",
     "output_type": "stream",
     "text": [
      "[CV]  neuron1=8, neuron2=16, neuron3=32, score=0.7633587786259542, total=  18.1s\n",
      "[CV] neuron1=8, neuron2=16, neuron3=32 ...............................\n"
     ]
    },
    {
     "name": "stderr",
     "output_type": "stream",
     "text": [
      "[Parallel(n_jobs=1)]: Done   7 out of   7 | elapsed:  2.1min remaining:    0.0s\n"
     ]
    },
    {
     "name": "stdout",
     "output_type": "stream",
     "text": [
      "[CV]  neuron1=8, neuron2=16, neuron3=32, score=0.7633587786259542, total=  18.4s\n",
      "[CV] neuron1=8, neuron2=16, neuron3=32 ...............................\n"
     ]
    },
    {
     "name": "stderr",
     "output_type": "stream",
     "text": [
      "[Parallel(n_jobs=1)]: Done   8 out of   8 | elapsed:  2.4min remaining:    0.0s\n"
     ]
    },
    {
     "name": "stdout",
     "output_type": "stream",
     "text": [
      "[CV]  neuron1=8, neuron2=16, neuron3=32, score=0.8076923076923077, total=  19.1s\n",
      "[CV] neuron1=8, neuron2=32, neuron3=8 ................................\n"
     ]
    },
    {
     "name": "stderr",
     "output_type": "stream",
     "text": [
      "[Parallel(n_jobs=1)]: Done   9 out of   9 | elapsed:  2.7min remaining:    0.0s\n"
     ]
    },
    {
     "name": "stdout",
     "output_type": "stream",
     "text": [
      "[CV]  neuron1=8, neuron2=32, neuron3=8, score=0.7251908396946565, total=  19.0s\n",
      "[CV] neuron1=8, neuron2=32, neuron3=8 ................................\n",
      "[CV]  neuron1=8, neuron2=32, neuron3=8, score=0.7480916030534351, total=  18.9s\n",
      "[CV] neuron1=8, neuron2=32, neuron3=8 ................................\n",
      "[CV]  neuron1=8, neuron2=32, neuron3=8, score=0.8307692307692308, total=  18.9s\n",
      "[CV] neuron1=8, neuron2=32, neuron3=16 ...............................\n",
      "[CV]  neuron1=8, neuron2=32, neuron3=16, score=0.7099236641221374, total=  19.9s\n",
      "[CV] neuron1=8, neuron2=32, neuron3=16 ...............................\n",
      "[CV]  neuron1=8, neuron2=32, neuron3=16, score=0.7404580152671756, total=  19.6s\n",
      "[CV] neuron1=8, neuron2=32, neuron3=16 ...............................\n",
      "[CV]  neuron1=8, neuron2=32, neuron3=16, score=0.7692307692307693, total=  19.4s\n",
      "[CV] neuron1=8, neuron2=32, neuron3=32 ...............................\n",
      "[CV]  neuron1=8, neuron2=32, neuron3=32, score=0.732824427480916, total=  20.4s\n",
      "[CV] neuron1=8, neuron2=32, neuron3=32 ...............................\n",
      "[CV]  neuron1=8, neuron2=32, neuron3=32, score=0.7404580152671756, total=  20.1s\n",
      "[CV] neuron1=8, neuron2=32, neuron3=32 ...............................\n",
      "[CV]  neuron1=8, neuron2=32, neuron3=32, score=0.8384615384615385, total=  20.1s\n",
      "[CV] neuron1=8, neuron2=64, neuron3=8 ................................\n",
      "[CV]  neuron1=8, neuron2=64, neuron3=8, score=0.6106870229007634, total=  20.8s\n",
      "[CV] neuron1=8, neuron2=64, neuron3=8 ................................\n",
      "[CV]  neuron1=8, neuron2=64, neuron3=8, score=0.7633587786259542, total=  20.7s\n",
      "[CV] neuron1=8, neuron2=64, neuron3=8 ................................\n",
      "[CV]  neuron1=8, neuron2=64, neuron3=8, score=0.7769230769230769, total=  21.1s\n",
      "[CV] neuron1=8, neuron2=64, neuron3=16 ...............................\n",
      "[CV]  neuron1=8, neuron2=64, neuron3=16, score=0.7557251908396947, total=  21.5s\n",
      "[CV] neuron1=8, neuron2=64, neuron3=16 ...............................\n",
      "[CV]  neuron1=8, neuron2=64, neuron3=16, score=0.7709923664122137, total=  21.2s\n",
      "[CV] neuron1=8, neuron2=64, neuron3=16 ...............................\n",
      "[CV]  neuron1=8, neuron2=64, neuron3=16, score=0.8076923076923077, total=  21.8s\n",
      "[CV] neuron1=8, neuron2=64, neuron3=32 ...............................\n",
      "[CV]  neuron1=8, neuron2=64, neuron3=32, score=0.7175572519083969, total=  21.9s\n",
      "[CV] neuron1=8, neuron2=64, neuron3=32 ...............................\n",
      "[CV]  neuron1=8, neuron2=64, neuron3=32, score=0.7404580152671756, total=  21.9s\n",
      "[CV] neuron1=8, neuron2=64, neuron3=32 ...............................\n",
      "[CV]  neuron1=8, neuron2=64, neuron3=32, score=0.8384615384615385, total=  22.5s\n",
      "[CV] neuron1=16, neuron2=16, neuron3=8 ...............................\n",
      "[CV]  neuron1=16, neuron2=16, neuron3=8, score=0.7175572519083969, total=  22.3s\n",
      "[CV] neuron1=16, neuron2=16, neuron3=8 ...............................\n",
      "[CV]  neuron1=16, neuron2=16, neuron3=8, score=0.7786259541984732, total=  22.4s\n",
      "[CV] neuron1=16, neuron2=16, neuron3=8 ...............................\n",
      "[CV]  neuron1=16, neuron2=16, neuron3=8, score=0.8307692307692308, total=  23.1s\n",
      "[CV] neuron1=16, neuron2=16, neuron3=16 ..............................\n",
      "[CV]  neuron1=16, neuron2=16, neuron3=16, score=0.732824427480916, total=  25.3s\n",
      "[CV] neuron1=16, neuron2=16, neuron3=16 ..............................\n",
      "[CV]  neuron1=16, neuron2=16, neuron3=16, score=0.7709923664122137, total=  24.6s\n",
      "[CV] neuron1=16, neuron2=16, neuron3=16 ..............................\n",
      "[CV]  neuron1=16, neuron2=16, neuron3=16, score=0.8076923076923077, total=  24.2s\n",
      "[CV] neuron1=16, neuron2=16, neuron3=32 ..............................\n",
      "[CV]  neuron1=16, neuron2=16, neuron3=32, score=0.6793893129770993, total=  24.0s\n",
      "[CV] neuron1=16, neuron2=16, neuron3=32 ..............................\n",
      "[CV]  neuron1=16, neuron2=16, neuron3=32, score=0.7633587786259542, total=  24.6s\n",
      "[CV] neuron1=16, neuron2=16, neuron3=32 ..............................\n",
      "[CV]  neuron1=16, neuron2=16, neuron3=32, score=0.8307692307692308, total=  24.4s\n",
      "[CV] neuron1=16, neuron2=32, neuron3=8 ...............................\n",
      "[CV]  neuron1=16, neuron2=32, neuron3=8, score=0.7480916030534351, total=  24.8s\n",
      "[CV] neuron1=16, neuron2=32, neuron3=8 ...............................\n",
      "[CV]  neuron1=16, neuron2=32, neuron3=8, score=0.7404580152671756, total=  24.9s\n",
      "[CV] neuron1=16, neuron2=32, neuron3=8 ...............................\n",
      "[CV] ..... neuron1=16, neuron2=32, neuron3=8, score=0.8, total=  25.1s\n",
      "[CV] neuron1=16, neuron2=32, neuron3=16 ..............................\n",
      "[CV]  neuron1=16, neuron2=32, neuron3=16, score=0.7480916030534351, total=  25.1s\n",
      "[CV] neuron1=16, neuron2=32, neuron3=16 ..............................\n",
      "[CV]  neuron1=16, neuron2=32, neuron3=16, score=0.7633587786259542, total=  25.4s\n",
      "[CV] neuron1=16, neuron2=32, neuron3=16 ..............................\n",
      "[CV]  neuron1=16, neuron2=32, neuron3=16, score=0.7923076923076923, total=  26.0s\n",
      "[CV] neuron1=16, neuron2=32, neuron3=32 ..............................\n",
      "[CV]  neuron1=16, neuron2=32, neuron3=32, score=0.7251908396946565, total=  25.7s\n",
      "[CV] neuron1=16, neuron2=32, neuron3=32 ..............................\n",
      "[CV]  neuron1=16, neuron2=32, neuron3=32, score=0.7786259541984732, total=  26.6s\n",
      "[CV] neuron1=16, neuron2=32, neuron3=32 ..............................\n",
      "[CV]  neuron1=16, neuron2=32, neuron3=32, score=0.823076923076923, total=  26.2s\n",
      "[CV] neuron1=16, neuron2=64, neuron3=8 ...............................\n",
      "[CV]  neuron1=16, neuron2=64, neuron3=8, score=0.7175572519083969, total=  26.6s\n",
      "[CV] neuron1=16, neuron2=64, neuron3=8 ...............................\n",
      "[CV]  neuron1=16, neuron2=64, neuron3=8, score=0.7480916030534351, total=  27.0s\n",
      "[CV] neuron1=16, neuron2=64, neuron3=8 ...............................\n",
      "[CV]  neuron1=16, neuron2=64, neuron3=8, score=0.8307692307692308, total=  26.9s\n",
      "[CV] neuron1=16, neuron2=64, neuron3=16 ..............................\n",
      "[CV]  neuron1=16, neuron2=64, neuron3=16, score=0.7404580152671756, total=  27.6s\n",
      "[CV] neuron1=16, neuron2=64, neuron3=16 ..............................\n",
      "[CV]  neuron1=16, neuron2=64, neuron3=16, score=0.7709923664122137, total=  27.3s\n",
      "[CV] neuron1=16, neuron2=64, neuron3=16 ..............................\n",
      "[CV]  neuron1=16, neuron2=64, neuron3=16, score=0.8384615384615385, total=  28.1s\n",
      "[CV] neuron1=16, neuron2=64, neuron3=32 ..............................\n",
      "[CV]  neuron1=16, neuron2=64, neuron3=32, score=0.732824427480916, total=  27.5s\n",
      "[CV] neuron1=16, neuron2=64, neuron3=32 ..............................\n",
      "[CV]  neuron1=16, neuron2=64, neuron3=32, score=0.7557251908396947, total=  28.3s\n",
      "[CV] neuron1=16, neuron2=64, neuron3=32 ..............................\n",
      "[CV]  neuron1=16, neuron2=64, neuron3=32, score=0.8384615384615385, total=  28.1s\n",
      "[CV] neuron1=32, neuron2=16, neuron3=8 ...............................\n",
      "[CV]  neuron1=32, neuron2=16, neuron3=8, score=0.6106870229007634, total=  28.6s\n",
      "[CV] neuron1=32, neuron2=16, neuron3=8 ...............................\n",
      "[CV]  neuron1=32, neuron2=16, neuron3=8, score=0.7633587786259542, total=  28.6s\n",
      "[CV] neuron1=32, neuron2=16, neuron3=8 ...............................\n",
      "[CV] ..... neuron1=32, neuron2=16, neuron3=8, score=0.8, total=  29.1s\n",
      "[CV] neuron1=32, neuron2=16, neuron3=16 ..............................\n",
      "[CV]  neuron1=32, neuron2=16, neuron3=16, score=0.7480916030534351, total=  28.8s\n",
      "[CV] neuron1=32, neuron2=16, neuron3=16 ..............................\n",
      "[CV]  neuron1=32, neuron2=16, neuron3=16, score=0.7404580152671756, total=  29.8s\n",
      "[CV] neuron1=32, neuron2=16, neuron3=16 ..............................\n",
      "[CV]  neuron1=32, neuron2=16, neuron3=16, score=0.8076923076923077, total=  29.6s\n",
      "[CV] neuron1=32, neuron2=16, neuron3=32 ..............................\n",
      "[CV]  neuron1=32, neuron2=16, neuron3=32, score=0.7557251908396947, total=  29.7s\n",
      "[CV] neuron1=32, neuron2=16, neuron3=32 ..............................\n",
      "[CV]  neuron1=32, neuron2=16, neuron3=32, score=0.7709923664122137, total=  30.1s\n",
      "[CV] neuron1=32, neuron2=16, neuron3=32 ..............................\n",
      "[CV]  neuron1=32, neuron2=16, neuron3=32, score=0.8307692307692308, total=  30.7s\n",
      "[CV] neuron1=32, neuron2=32, neuron3=8 ...............................\n",
      "[CV]  neuron1=32, neuron2=32, neuron3=8, score=0.7633587786259542, total=  30.4s\n",
      "[CV] neuron1=32, neuron2=32, neuron3=8 ...............................\n",
      "[CV]  neuron1=32, neuron2=32, neuron3=8, score=0.7709923664122137, total=  30.7s\n",
      "[CV] neuron1=32, neuron2=32, neuron3=8 ...............................\n",
      "[CV]  neuron1=32, neuron2=32, neuron3=8, score=0.8307692307692308, total=  30.8s\n",
      "[CV] neuron1=32, neuron2=32, neuron3=16 ..............................\n",
      "[CV]  neuron1=32, neuron2=32, neuron3=16, score=0.7251908396946565, total=  31.3s\n",
      "[CV] neuron1=32, neuron2=32, neuron3=16 ..............................\n",
      "[CV]  neuron1=32, neuron2=32, neuron3=16, score=0.7633587786259542, total=  34.9s\n",
      "[CV] neuron1=32, neuron2=32, neuron3=16 ..............................\n",
      "[CV]  neuron1=32, neuron2=32, neuron3=16, score=0.823076923076923, total=  33.6s\n",
      "[CV] neuron1=32, neuron2=32, neuron3=32 ..............................\n",
      "[CV]  neuron1=32, neuron2=32, neuron3=32, score=0.7099236641221374, total=  33.6s\n",
      "[CV] neuron1=32, neuron2=32, neuron3=32 ..............................\n",
      "[CV]  neuron1=32, neuron2=32, neuron3=32, score=0.7404580152671756, total=  33.8s\n",
      "[CV] neuron1=32, neuron2=32, neuron3=32 ..............................\n",
      "[CV]  neuron1=32, neuron2=32, neuron3=32, score=0.8538461538461538, total=  33.4s\n",
      "[CV] neuron1=32, neuron2=64, neuron3=8 ...............................\n",
      "[CV]  neuron1=32, neuron2=64, neuron3=8, score=0.7175572519083969, total=  33.3s\n",
      "[CV] neuron1=32, neuron2=64, neuron3=8 ...............................\n",
      "[CV]  neuron1=32, neuron2=64, neuron3=8, score=0.7557251908396947, total=  33.3s\n",
      "[CV] neuron1=32, neuron2=64, neuron3=8 ...............................\n",
      "[CV]  neuron1=32, neuron2=64, neuron3=8, score=0.8153846153846154, total=  33.1s\n",
      "[CV] neuron1=32, neuron2=64, neuron3=16 ..............................\n",
      "[CV]  neuron1=32, neuron2=64, neuron3=16, score=0.7099236641221374, total=  33.5s\n",
      "[CV] neuron1=32, neuron2=64, neuron3=16 ..............................\n",
      "[CV]  neuron1=32, neuron2=64, neuron3=16, score=0.7251908396946565, total=  33.6s\n",
      "[CV] neuron1=32, neuron2=64, neuron3=16 ..............................\n",
      "[CV]  neuron1=32, neuron2=64, neuron3=16, score=0.8307692307692308, total=  34.0s\n",
      "[CV] neuron1=32, neuron2=64, neuron3=32 ..............................\n",
      "[CV]  neuron1=32, neuron2=64, neuron3=32, score=0.7404580152671756, total=  34.1s\n",
      "[CV] neuron1=32, neuron2=64, neuron3=32 ..............................\n",
      "[CV]  neuron1=32, neuron2=64, neuron3=32, score=0.7557251908396947, total=  34.7s\n",
      "[CV] neuron1=32, neuron2=64, neuron3=32 ..............................\n",
      "[CV]  neuron1=32, neuron2=64, neuron3=32, score=0.8384615384615385, total=  34.8s\n"
     ]
    },
    {
     "name": "stderr",
     "output_type": "stream",
     "text": [
      "[Parallel(n_jobs=1)]: Done  81 out of  81 | elapsed: 34.8min finished\n",
      "/opt/conda/lib/python3.6/site-packages/sklearn/model_selection/_search.py:841: DeprecationWarning: The default of the `iid` parameter will change from True to False in version 0.22 and will be removed in 0.24. This will change numeric results when test-set sizes are unequal.\n",
      "  DeprecationWarning)\n"
     ]
    },
    {
     "name": "stdout",
     "output_type": "stream",
     "text": [
      "Best: 0.7882653061224489, using {'neuron1': 32, 'neuron2': 32, 'neuron3': 8}\n",
      "0.701530612244898 (0.06682008586082107) with: {'neuron1': 8, 'neuron2': 16, 'neuron3': 8}\n",
      "0.7193877551020408 (0.07844309477335479) with: {'neuron1': 8, 'neuron2': 16, 'neuron3': 16}\n",
      "0.7780612244897959 (0.020872215902292657) with: {'neuron1': 8, 'neuron2': 16, 'neuron3': 32}\n",
      "0.7678571428571429 (0.045293368925678076) with: {'neuron1': 8, 'neuron2': 32, 'neuron3': 8}\n",
      "0.7397959183673469 (0.024200946643080434) with: {'neuron1': 8, 'neuron2': 32, 'neuron3': 16}\n",
      "0.7704081632653061 (0.048038433413990944) with: {'neuron1': 8, 'neuron2': 32, 'neuron3': 32}\n",
      "0.7168367346938775 (0.07540617928767147) with: {'neuron1': 8, 'neuron2': 64, 'neuron3': 8}\n",
      "0.7780612244897959 (0.021785230619216014) with: {'neuron1': 8, 'neuron2': 64, 'neuron3': 16}\n",
      "0.7653061224489796 (0.05237424486619331) with: {'neuron1': 8, 'neuron2': 64, 'neuron3': 32}\n",
      "0.7755102040816326 (0.0462414881823877) with: {'neuron1': 16, 'neuron2': 16, 'neuron3': 8}\n",
      "0.7704081632653061 (0.030547764847397626) with: {'neuron1': 16, 'neuron2': 16, 'neuron3': 16}\n",
      "0.7576530612244898 (0.061892856255887925) with: {'neuron1': 16, 'neuron2': 16, 'neuron3': 32}\n",
      "0.7627551020408163 (0.026420320620794663) with: {'neuron1': 16, 'neuron2': 32, 'neuron3': 8}\n",
      "0.7678571428571429 (0.01831883645854226) with: {'neuron1': 16, 'neuron2': 32, 'neuron3': 16}\n",
      "0.7755102040816326 (0.03999699694247094) with: {'neuron1': 16, 'neuron2': 32, 'neuron3': 32}\n",
      "0.7653061224489796 (0.04777175129678351) with: {'neuron1': 16, 'neuron2': 64, 'neuron3': 8}\n",
      "0.7831632653061225 (0.04090312509509758) with: {'neuron1': 16, 'neuron2': 64, 'neuron3': 16}\n",
      "0.7755102040816326 (0.04532041771891594) with: {'neuron1': 16, 'neuron2': 64, 'neuron3': 32}\n",
      "0.7244897959183674 (0.08199890575800764) with: {'neuron1': 32, 'neuron2': 16, 'neuron3': 8}\n",
      "0.7653061224489796 (0.030019557959426076) with: {'neuron1': 32, 'neuron2': 16, 'neuron3': 16}\n",
      "0.7857142857142857 (0.032344598003387216) with: {'neuron1': 32, 'neuron2': 16, 'neuron3': 32}\n",
      "0.7882653061224489 (0.030102045894145734) with: {'neuron1': 32, 'neuron2': 32, 'neuron3': 8}\n",
      "0.7704081632653061 (0.04024710335299166) with: {'neuron1': 32, 'neuron2': 32, 'neuron3': 16}\n",
      "0.7678571428571429 (0.061843517989693515) with: {'neuron1': 32, 'neuron2': 32, 'neuron3': 32}\n",
      "0.7627551020408163 (0.040221621161862064) with: {'neuron1': 32, 'neuron2': 64, 'neuron3': 8}\n",
      "0.7551020408163265 (0.053664285614349806) with: {'neuron1': 32, 'neuron2': 64, 'neuron3': 16}\n",
      "0.7780612244897959 (0.043001411846949465) with: {'neuron1': 32, 'neuron2': 64, 'neuron3': 32}\n"
     ]
    }
   ],
   "source": [
    "\n",
    "# Do a grid search to find the optimal number of neurons in each hidden layer\n",
    "# import necessary packages\n",
    "\n",
    "# Define a random seed\n",
    "seed = 6\n",
    "np.random.seed(seed)\n",
    "\n",
    "# Start defining the model\n",
    "def create_model(neuron1, neuron2, neuron3):\n",
    "    # create model\n",
    "    model = Sequential()\n",
    "    model.add(Dense(neuron1, input_dim = 8, kernel_initializer= best_init, activation= best_activation))\n",
    "    model.add(Dense(neuron2, input_dim = neuron1, kernel_initializer= best_init, activation= best_activation))\n",
    "    model.add(Dense(neuron3, input_dim = neuron2, kernel_initializer= best_init, activation= best_activation))\n",
    "    model.add(Dense(1, activation='sigmoid'))\n",
    "\n",
    "    # compile the model\n",
    "    adam = Adam(lr = best_learn_rate)\n",
    "    model.compile(loss = 'binary_crossentropy', optimizer = adam, metrics = ['accuracy'])\n",
    "    return model\n",
    "\n",
    "# create the model\n",
    "model = KerasClassifier(build_fn = create_model, epochs = best_epochs, batch_size = best_batch_size, verbose = 0)\n",
    "\n",
    "# define the grid search parameters\n",
    "neuron1 = [8, 16, 32]\n",
    "neuron2 = [16, 32, 64]\n",
    "neuron3 = [8, 16, 32]\n",
    "\n",
    "# make a dictionary of the grid search parameters\n",
    "param_grid = dict(neuron1 = neuron1, neuron2 = neuron2, neuron3 = neuron3)\n",
    "\n",
    "# build and fit the GridSearchCV\n",
    "grid = GridSearchCV(estimator = model, param_grid = param_grid, cv = KFold(random_state=seed), refit = True, verbose = 10)\n",
    "grid_results = grid.fit(X_standardized, Y)\n",
    "\n",
    "# summarize the results\n",
    "print(\"Best: {0}, using {1}\".format(grid_results.best_score_, grid_results.best_params_))\n",
    "means = grid_results.cv_results_['mean_test_score']\n",
    "stds = grid_results.cv_results_['std_test_score']\n",
    "params = grid_results.cv_results_['params']\n",
    "for mean, stdev, param in zip(means, stds, params):\n",
    "    print('{0} ({1}) with: {2}'.format(mean, stdev, param))"
   ]
  },
  {
   "cell_type": "code",
   "execution_count": 21,
   "metadata": {},
   "outputs": [],
   "source": [
    "best_neuron1 = 16\n",
    "best_neuron2 = 16\n",
    "best_neuron3 = 8"
   ]
  },
  {
   "cell_type": "code",
   "execution_count": 22,
   "metadata": {},
   "outputs": [],
   "source": [
    "from sklearn.model_selection import train_test_split\n",
    "#best model\n",
    "model = Sequential()\n",
    "model.add(Dense(best_neuron1, input_dim = 8, kernel_initializer= best_init, activation= best_activation))\n",
    "model.add(Dense(best_neuron2, input_dim = best_neuron1, kernel_initializer= best_init, activation= best_activation))\n",
    "model.add(Dense(best_neuron3, input_dim = best_neuron2, kernel_initializer= best_init, activation= best_activation))\n",
    "model.add(Dense(1, activation='sigmoid'))"
   ]
  },
  {
   "cell_type": "code",
   "execution_count": 23,
   "metadata": {},
   "outputs": [
    {
     "name": "stdout",
     "output_type": "stream",
     "text": [
      "(313, 8)\n",
      "(79, 8)\n"
     ]
    },
    {
     "name": "stderr",
     "output_type": "stream",
     "text": [
      "/opt/conda/lib/python3.6/site-packages/ipykernel_launcher.py:23: UserWarning: The `nb_epoch` argument in `fit` has been renamed `epochs`.\n"
     ]
    },
    {
     "name": "stdout",
     "output_type": "stream",
     "text": [
      "Train on 313 samples, validate on 79 samples\n",
      "Epoch 1/10\n",
      "313/313 [==============================] - 26s 84ms/step - loss: 0.6584 - acc: 0.6645 - val_loss: 0.6114 - val_acc: 0.6709\n",
      "\n",
      "Epoch 00001: val_acc improved from -inf to 0.67089, saving model to pima-weights_best_t.hdf5\n",
      "Epoch 2/10\n",
      "313/313 [==============================] - 0s 190us/step - loss: 0.6138 - acc: 0.6709 - val_loss: 0.6335 - val_acc: 0.6962\n",
      "\n",
      "Epoch 00002: val_acc improved from 0.67089 to 0.69620, saving model to pima-weights_best_t.hdf5\n",
      "Epoch 3/10\n",
      "313/313 [==============================] - 0s 172us/step - loss: 0.6356 - acc: 0.6422 - val_loss: 0.6397 - val_acc: 0.7215\n",
      "\n",
      "Epoch 00003: val_acc improved from 0.69620 to 0.72152, saving model to pima-weights_best_t.hdf5\n",
      "Epoch 4/10\n",
      "313/313 [==============================] - 0s 176us/step - loss: 0.6318 - acc: 0.6581 - val_loss: 0.5667 - val_acc: 0.6835\n",
      "\n",
      "Epoch 00004: val_acc did not improve from 0.72152\n",
      "Epoch 5/10\n",
      "313/313 [==============================] - 0s 174us/step - loss: 0.6020 - acc: 0.6773 - val_loss: 0.5542 - val_acc: 0.6835\n",
      "\n",
      "Epoch 00005: val_acc did not improve from 0.72152\n",
      "Epoch 6/10\n",
      "313/313 [==============================] - 0s 188us/step - loss: 0.5860 - acc: 0.6773 - val_loss: 0.5562 - val_acc: 0.7342\n",
      "\n",
      "Epoch 00006: val_acc improved from 0.72152 to 0.73418, saving model to pima-weights_best_t.hdf5\n",
      "Epoch 7/10\n",
      "313/313 [==============================] - 0s 192us/step - loss: 0.5986 - acc: 0.6901 - val_loss: 0.5501 - val_acc: 0.7089\n",
      "\n",
      "Epoch 00007: val_acc did not improve from 0.73418\n",
      "Epoch 8/10\n",
      "313/313 [==============================] - 0s 198us/step - loss: 0.5832 - acc: 0.6741 - val_loss: 0.5433 - val_acc: 0.7089\n",
      "\n",
      "Epoch 00008: val_acc did not improve from 0.73418\n",
      "Epoch 9/10\n",
      "313/313 [==============================] - 0s 179us/step - loss: 0.5853 - acc: 0.6709 - val_loss: 0.5384 - val_acc: 0.7089\n",
      "\n",
      "Epoch 00009: val_acc did not improve from 0.73418\n",
      "Epoch 10/10\n",
      "313/313 [==============================] - 0s 176us/step - loss: 0.5817 - acc: 0.6773 - val_loss: 0.5368 - val_acc: 0.7342\n",
      "\n",
      "Epoch 00010: val_acc did not improve from 0.73418\n"
     ]
    }
   ],
   "source": [
    "# compile the model\n",
    "adam = Adam(lr = best_learn_rate)\n",
    "model.compile(loss = 'binary_crossentropy', optimizer = adam, metrics = ['accuracy'])\n",
    "ckpt_model = 'pima-weights_best_t.hdf5'\n",
    "checkpoint = ModelCheckpoint(ckpt_model, \n",
    "                            monitor='val_acc', \n",
    "                            verbose=1,\n",
    "                            save_best_only=True,\n",
    "                            mode='max')\n",
    "callbacks_list = [checkpoint]\n",
    "\n",
    "X_train, X_test, y_train, y_test = train_test_split(X, Y, test_size=0.20, random_state=0)\n",
    "\n",
    "print(X_train.shape)\n",
    "print(X_test.shape)\n",
    "\n",
    "history = model.fit(X_train,\n",
    "                    y_train,\n",
    "                    validation_data=(X_test, y_test),\n",
    "                    nb_epoch=best_epochs,\n",
    "                    batch_size=best_batch_size,\n",
    "                    callbacks=callbacks_list,\n",
    "                    verbose=1)"
   ]
  },
  {
   "cell_type": "code",
   "execution_count": 24,
   "metadata": {},
   "outputs": [],
   "source": [
    "model.load_weights(\"pima-weights_best_t.hdf5\")"
   ]
  },
  {
   "cell_type": "code",
   "execution_count": 25,
   "metadata": {},
   "outputs": [
    {
     "name": "stdout",
     "output_type": "stream",
     "text": [
      "acc: 73.418%\n"
     ]
    }
   ],
   "source": [
    "scores = model.evaluate(X_test, y_test, verbose=0)\n",
    "print(\"%s: %.3f%%\" % (model.metrics_names[1], scores[1]*100))"
   ]
  },
  {
   "cell_type": "code",
   "execution_count": 26,
   "metadata": {},
   "outputs": [
    {
     "data": {
      "image/png": "[encoded data removed]",
      "text/plain": [
       "<Figure size 432x288 with 1 Axes>"
      ]
     },
     "metadata": {},
     "output_type": "display_data"
    }
   ],
   "source": [
    "import matplotlib.pyplot as plt\n",
    "%matplotlib inline\n",
    "# Model accuracy\n",
    "plt.plot(history.history['acc'])\n",
    "plt.plot(history.history['val_acc'])\n",
    "plt.title('Model Accuracy')\n",
    "plt.ylabel('accuracy')\n",
    "plt.xlabel('epoch')\n",
    "plt.legend(['train', 'test'])\n",
    "plt.show()"
   ]
  },
  {
   "cell_type": "code",
   "execution_count": 27,
   "metadata": {},
   "outputs": [
    {
     "data": {
      "image/png": "[encoded data removed]",
      "text/plain": [
       "<Figure size 432x288 with 1 Axes>"
      ]
     },
     "metadata": {},
     "output_type": "display_data"
    }
   ],
   "source": [
    "# Model Losss\n",
    "plt.plot(history.history['loss'])\n",
    "plt.plot(history.history['val_loss'])\n",
    "plt.title('Model Loss')\n",
    "plt.ylabel('loss')\n",
    "plt.xlabel('epoch')\n",
    "plt.legend(['train', 'test'])\n",
    "plt.show()"
   ]
  },
  {
   "cell_type": "code",
   "execution_count": 28,
   "metadata": {},
   "outputs": [
    {
     "data": {
      "image/png": "[encoded data removed]",
      "text/plain": [
       "<Figure size 576x576 with 2 Axes>"
      ]
     },
     "metadata": {},
     "output_type": "display_data"
    }
   ],
   "source": [
    "# confusion matrix\n",
    "import seaborn as sns\n",
    "from sklearn.metrics import confusion_matrix\n",
    "# Predict the values from the validation dataset\n",
    "y_pred = model.predict(X_test)\n",
    "y_final = (y_pred > 0.5).astype(int).reshape(X_test.shape[0])\n",
    "# compute the confusion matrix\n",
    "confusion_mtx = confusion_matrix(y_test, y_final) \n",
    "# plot the confusion matrix\n",
    "f,ax = plt.subplots(figsize=(8, 8))\n",
    "sns.heatmap(confusion_mtx, annot=True, linewidths=0.01,cmap=\"Greens\",linecolor=\"gray\", fmt= '.1f',ax=ax)\n",
    "plt.xlabel(\"Predicted Label\")\n",
    "plt.ylabel(\"True Label\")\n",
    "plt.title(\"Confusion Matrix\")\n",
    "plt.show()"
   ]
  },
  {
   "cell_type": "code",
   "execution_count": 29,
   "metadata": {},
   "outputs": [
    {
     "name": "stdout",
     "output_type": "stream",
     "text": [
      "              precision    recall  f1-score   support\n",
      "\n",
      "           0       0.75      0.91      0.82        54\n",
      "           1       0.64      0.36      0.46        25\n",
      "\n",
      "   micro avg       0.73      0.73      0.73        79\n",
      "   macro avg       0.70      0.63      0.64        79\n",
      "weighted avg       0.72      0.73      0.71        79\n",
      "\n"
     ]
    }
   ],
   "source": [
    "from sklearn.metrics import classification_report\n",
    "\n",
    "# Generate a classification report\n",
    "report = classification_report(y_test, y_final, target_names=['0','1'])\n",
    "\n",
    "print(report)"
   ]
  }
 ],
 "metadata": {
  "kernelspec": {
   "display_name": "Python 3",
   "language": "python",
   "name": "python3"
  },
  "language_info": {
   "codemirror_mode": {
    "name": "ipython",
    "version": 3
   },
   "file_extension": ".py",
   "mimetype": "text/x-python",
   "name": "python",
   "nbconvert_exporter": "python",
   "pygments_lexer": "ipython3",
   "version": "3.6.4"
  }
 },
 "nbformat": 4,
 "nbformat_minor": 4
}
